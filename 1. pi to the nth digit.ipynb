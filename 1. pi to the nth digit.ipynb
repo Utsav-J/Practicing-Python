{
 "cells": [
  {
   "cell_type": "code",
   "execution_count": 1,
   "id": "92d2df60",
   "metadata": {},
   "outputs": [],
   "source": [
    "#Find PI to the Nth Digit\n",
    "#Enter a number and have the program generate π (pi) up to that many decimal places. \n",
    "#Keep a limit to how far the program will go."
   ]
  },
  {
   "cell_type": "code",
   "execution_count": 8,
   "id": "9bb9a545",
   "metadata": {},
   "outputs": [],
   "source": [
    "import math"
   ]
  },
  {
   "cell_type": "raw",
   "id": "7d5ec8a4",
   "metadata": {},
   "source": [
    "426880*math.sqrt(10005)"
   ]
  },
  {
   "cell_type": "raw",
   "id": "07e3ae95",
   "metadata": {},
   "source": [
    "math.e"
   ]
  },
  {
   "cell_type": "raw",
   "id": "9a4ec5c0",
   "metadata": {},
   "source": [
    "math.pi"
   ]
  },
  {
   "cell_type": "raw",
   "id": "67abc506",
   "metadata": {},
   "source": [
    "round(math.pi,50)"
   ]
  },
  {
   "cell_type": "raw",
   "id": "fd49b75e",
   "metadata": {},
   "source": [
    "#chudovski algorithm is needed to get beyond 15 digits"
   ]
  },
  {
   "cell_type": "code",
   "execution_count": 4,
   "id": "624f5314",
   "metadata": {},
   "outputs": [],
   "source": [
    "import decimal"
   ]
  },
  {
   "cell_type": "code",
   "execution_count": 5,
   "id": "58b18e88",
   "metadata": {},
   "outputs": [],
   "source": [
    "decimal.getcontext().prec = 1000\n",
    "#from the decimal function youre using the get context function\n",
    "#under that you are putting the precision value which is the limit of the decimal values that you can get"
   ]
  },
  {
   "cell_type": "code",
   "execution_count": null,
   "id": "f7469f7d",
   "metadata": {},
   "outputs": [],
   "source": []
  },
  {
   "cell_type": "code",
   "execution_count": 9,
   "id": "f31d8091",
   "metadata": {},
   "outputs": [
    {
     "name": "stdout",
     "output_type": "stream",
     "text": [
      "How many digits of pi do you want?Enter a number: 50\n"
     ]
    }
   ],
   "source": [
    "pi_decimal = int(input(\"How many digits of pi do you want?Enter a number: \"))\n",
    "\n",
    "\n",
    "def calc_pi(pi_decimal):\n",
    "    t = decimal.Decimal(0) #all the numerator part in the chudovski fraction\n",
    "    pi = decimal.Decimal(0)\n",
    "    deno = decimal.Decimal(0) #all the denominator part in the fraction \n",
    "    #assigning a value 0 in decimal format\n",
    "    \n",
    "    for k in range(pi_decimal):\n",
    "        t = ((-1)**k)* (math.factorial(6*k)) * (545140134*k + 13591409)\n",
    "        deno = (math.factorial(3*k)) * (math.factorial(k)**3) * ((640320)**(3*k))\n",
    "        pi += decimal.Decimal(t)/decimal.Decimal(deno) \n",
    "        #gives us the fraction part in each step and integrates them all\n",
    "        \n",
    "    pi = pi* decimal.Decimal(12)/(640320**decimal.Decimal(1.5)) #after the whole loop aka integration part is complete, we multiply whatever we get by 12 \n",
    "    pi = 1/pi # The entire result of RHS is actually the value of 1/pi\n",
    "    \n",
    "    #print(f'The value of pi upto {pi_decimal} digits is: {round(pi,pi_decimal)} ')\n",
    "    return {round(pi,pi_decimal)}"
   ]
  },
  {
   "cell_type": "code",
   "execution_count": 10,
   "id": "abe673c7",
   "metadata": {},
   "outputs": [
    {
     "data": {
      "text/plain": [
       "{Decimal('3.14159265358979323846264338327950288419716939937511')}"
      ]
     },
     "execution_count": 10,
     "metadata": {},
     "output_type": "execute_result"
    }
   ],
   "source": [
    "calc_pi(50)"
   ]
  },
  {
   "cell_type": "code",
   "execution_count": 34,
   "id": "33228a12",
   "metadata": {},
   "outputs": [
    {
     "data": {
      "text/plain": [
       "4"
      ]
     },
     "execution_count": 34,
     "metadata": {},
     "output_type": "execute_result"
    }
   ],
   "source": []
  },
  {
   "cell_type": "code",
   "execution_count": null,
   "id": "b7d4f251",
   "metadata": {},
   "outputs": [],
   "source": []
  }
 ],
 "metadata": {
  "kernelspec": {
   "display_name": "Python 3 (ipykernel)",
   "language": "python",
   "name": "python3"
  },
  "language_info": {
   "codemirror_mode": {
    "name": "ipython",
    "version": 3
   },
   "file_extension": ".py",
   "mimetype": "text/x-python",
   "name": "python",
   "nbconvert_exporter": "python",
   "pygments_lexer": "ipython3",
   "version": "3.10.9"
  }
 },
 "nbformat": 4,
 "nbformat_minor": 5
}
