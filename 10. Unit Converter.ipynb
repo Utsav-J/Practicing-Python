{
 "cells": [
  {
   "cell_type": "raw",
   "id": "b157a7e9",
   "metadata": {},
   "source": [
    "Unit Converter (temp, currency, volume, mass and more) "
   ]
  },
  {
   "cell_type": "code",
   "execution_count": null,
   "id": "2f03be40",
   "metadata": {},
   "outputs": [],
   "source": [
    "if __name__ == \"__main__\":\n",
    "    convert_more = True\n",
    "    while convert_more:\n",
    "        user_input = input('''\n",
    "        What do you want to convert?\n",
    "        1. Temperature (Celcius to Fahrenheit or vice versa)\n",
    "        2. Currency (USD to NRS or vice versa)\n",
    "        3. Volume (cc to litre and more)\n",
    "        4. Mass (kg to g or tonnes)\n",
    "        ''')\n",
    "        \n",
    "        if user_input == '1':\n",
    "            print(temperature())\n",
    "        elif user_input == '2':\n",
    "            print(currency())\n",
    "        elif user_input == '3':\n",
    "            print(volume())\n",
    "        elif user_input == '4':\n",
    "            print(mass())\n",
    "        #if user_input == '5'\n",
    "        "
   ]
  },
  {
   "cell_type": "code",
   "execution_count": 71,
   "id": "a71f84ba",
   "metadata": {},
   "outputs": [],
   "source": [
    "def mass():\n",
    "    ask_unit  = True\n",
    "    while ask_unit:\n",
    "        unit = input(\"In which unit are you entering the mass? grams, kilograms or pounds?: \")\n",
    "        if (unit[0].upper() == \"G\") or (unit[0].upper() == \"K\") or (unit[0].upper() == \"P\"):\n",
    "            ask_unit = False\n",
    "    \n",
    "    if unit[0].upper() == \"G\":\n",
    "        while True:\n",
    "            try:\n",
    "                initial_mass = float(input(\"Enter the mass in grams: \")) \n",
    "                break\n",
    "            except:\n",
    "                print(\"Please enter the mass with only the number, no units\")\n",
    "        \n",
    "        kilograms = str(initial_mass/1000) + \" kilos\"\n",
    "        pounds = str((initial_mass/1000)*2.205) + \" pounds\"\n",
    "        \n",
    "        return f'{initial_mass} can be expressed as {kilograms}, {pounds} !'\n",
    "            \n",
    "    elif unit[0].upper() == \"K\":\n",
    "        while True:\n",
    "            try:\n",
    "                initial_mass = float(input(\"Enter the mass in kilos. \")) \n",
    "                break\n",
    "            except:\n",
    "                print(\"Please enter the mass with only the number, no units\")\n",
    "            \n",
    "        grams = str(initial_mass*1000)+ \" grams\"\n",
    "        pounds = str(initial_mass*2.205) + \" pounds\"\n",
    "        \n",
    "        return f'{initial_mass} can be expressed as {grams} , {pounds} !'\n",
    "            \n",
    "    elif unit[0].upper() == \"P\":\n",
    "        while True:\n",
    "            try:\n",
    "                initial_mass = float(input(\"Enter the mass in pounds. \")) \n",
    "                break\n",
    "            except:\n",
    "                print(\"Please enter the mass with only the number, no units\")\n",
    "            \n",
    "        kilograms = str(initial_mass/2.205) + \" kilos\"\n",
    "        grams = str((initial_mass/2.205)*1000) + \" grams\"\n",
    "        \n",
    "        return f'{initial_mass} can be expressed as {kilograms} , {grams} !'\n",
    "    \n",
    "    "
   ]
  },
  {
   "cell_type": "code",
   "execution_count": 72,
   "id": "c5863898",
   "metadata": {},
   "outputs": [
    {
     "name": "stdout",
     "output_type": "stream",
     "text": [
      "In which unit are you entering the mass? grams, kilograms or pounds?: p\n",
      "Enter the mass in pounds. 120\n"
     ]
    },
    {
     "data": {
      "text/plain": [
       "'120.0 can be expressed as 54.42176870748299 kilos , 54421.76870748299 grams !'"
      ]
     },
     "execution_count": 72,
     "metadata": {},
     "output_type": "execute_result"
    }
   ],
   "source": [
    "mass()"
   ]
  },
  {
   "cell_type": "code",
   "execution_count": 8,
   "id": "a25cd64e",
   "metadata": {},
   "outputs": [],
   "source": [
    "def temperature():\n",
    "    ask_unit  = True\n",
    "    while ask_unit:\n",
    "        unit = input(\"In which unit are you entering the temperature? Celcius, Fahrenheit or Kelvin?: \")\n",
    "        if (unit[0].upper() == \"C\") or (unit[0].upper() == \"F\") or (unit[0].upper() == \"K\"):\n",
    "            ask_unit = False\n",
    "    \n",
    "    if unit[0].upper() == \"C\":\n",
    "        while True:\n",
    "            try:\n",
    "                initial_temp = float(input(\"Enter the temperature in Celcius\")) \n",
    "                break\n",
    "            except:\n",
    "                print(\"Please enter the temeperature with only the number, no units\")\n",
    "        \n",
    "        fahrenheit = str((initial_temp*(9/5)) + 32.0) + \"F\"\n",
    "        kelvin = str(initial_temp + 273.15) + \"K\"\n",
    "        \n",
    "        return f'{initial_temp} C can be expressed as {fahrenheit} F, {kelvin} K.'\n",
    "            \n",
    "    elif unit[0].upper() == \"F\":\n",
    "        while True:\n",
    "            try:\n",
    "                initial_temp = float(input(\"Enter the temperature in Fahrenheit\")) \n",
    "                break\n",
    "            except:\n",
    "                print(\"Please enter the temeperature with only the number, no units\")\n",
    "            \n",
    "        celcius = (initial_temp -32.0) * (5/9) + \"C\"\n",
    "        kelvin = celcius + 273.15 + \"K\"\n",
    "        \n",
    "        return f'{initial_temp} F can be expressed as {celcius} C, {kelvin} K.'\n",
    "            \n",
    "    elif unit[0].upper() == \"K\":\n",
    "        while True:\n",
    "            try:\n",
    "                initial_temp = float(input(\"Enter the temperature in Kelvin\")) \n",
    "                break\n",
    "            except:\n",
    "                print(\"Please enter the temeperature with only the number, no units\")\n",
    "            \n",
    "        celcius = initial_temp - 273.15 + \"C\"\n",
    "        fahrenheit = (celcius*(9/5)) + 32.0 + \"F\"\n",
    "        \n",
    "        return f'{initial_temp} K can be expressed as {fahrenheit} F, {celcius} C.'"
   ]
  },
  {
   "cell_type": "code",
   "execution_count": 21,
   "id": "9af4eaae",
   "metadata": {},
   "outputs": [],
   "source": [
    "def currency():\n",
    "    ask_unit  = True\n",
    "    while ask_unit:\n",
    "        print('''\n",
    "        Todays conversion rates are:\n",
    "        1 USD = 132.21 NRS\n",
    "        Rs. 1 ic = NRs. 1.6 \n",
    "        ''')\n",
    "        unit = input(\"In which unit are you currency the temperature? USD,IC or NRS?: \")\n",
    "        \n",
    "        if (unit[0].upper() == \"U\") or (unit[0].upper() == \"I\") or (unit[0].upper() == \"N\"):\n",
    "            ask_unit = False\n",
    "    \n",
    "    if unit[0].upper() == \"U\" or unit[0].upper()== \"D\":\n",
    "        while True:\n",
    "            try:\n",
    "                initial_currency = float(input(\"Enter the money in Dollars: \")) \n",
    "                break\n",
    "            except:\n",
    "                print(\"Please enter the amount with only the number, no signs\")\n",
    "        \n",
    "        rupees = \"NRs. \" + str(round((initial_currency*132.21),2))\n",
    "        ic = \"IRs. \" + str(round(initial_currency*(82.74),2))\n",
    "        \n",
    "        return f'${initial_currency} today is worth {rupees} and {ic}!'\n",
    "            \n",
    "    elif unit[0].upper() == \"I\":\n",
    "        while True:\n",
    "            try:\n",
    "                initial_currency = float(input(\"Enter the amount in indian rupees: \")) \n",
    "                break\n",
    "            except:\n",
    "                print(\"Please enter the money with only the number, no units\")\n",
    "            \n",
    "        rupees = \"NRs. \" + str(round(initial_currency*1.6,2))\n",
    "        dollars = \"$ \"+ str(round(initial_currency/82.74,2))\n",
    "        \n",
    "        return f'IRs. {initial_currency} today is worth {rupees} and {dollars}!'\n",
    "            \n",
    "    elif unit[0].upper() == \"N\":\n",
    "        while True:\n",
    "            try:\n",
    "                initial_currency = float(input(\"Enter the amount in Nepali rupees: \")) \n",
    "                break\n",
    "            except:\n",
    "                print(\"Please enter the amount with only the number, no units\")\n",
    "            \n",
    "        ic = \"IRs. \" + str(round(initial_currency/1.6,2))\n",
    "        dollars =\"$ \" + str(round(initial_currency*132.21,2)) + 32.0 \n",
    "        \n",
    "        return f'NRs. {initial_currency} today is worth {ic} and {dollars}!'"
   ]
  },
  {
   "cell_type": "code",
   "execution_count": 61,
   "id": "b7da52ea",
   "metadata": {},
   "outputs": [],
   "source": [
    "def volume():\n",
    "    ask_unit  = True\n",
    "    while ask_unit:\n",
    "        unit = input(\"In which unit are you entering the volume? cc/ml, metre cube or liter?: \")\n",
    "        if (unit[0].upper() == \"C\") or (unit[0].upper() == \"M\") or (unit[0].upper() == \"L\"):\n",
    "            ask_unit = False\n",
    "    \n",
    "    if unit[0].upper() == \"C\":\n",
    "        while True:\n",
    "            try:\n",
    "                initial_volume = float(input(\"Enter the volume in cubic centimetres/mili liters (They are the same in amount): \")) \n",
    "                break\n",
    "            except:\n",
    "                print(\"Please enter the volume with only the number, no units\")\n",
    "        \n",
    "        metre_cube = str(initial_volume/10**6) + \" cubic metres\"\n",
    "        liters = str(initial_volume/1000) + \" Litres\"\n",
    "        \n",
    "        return f'{initial_volume}cc can be expressed as {metre_cube}, {liters} !'\n",
    "            \n",
    "    elif unit[0].upper() == \"M\":\n",
    "        while True:\n",
    "            try:\n",
    "                initial_volume = float(input(\"Enter the volume in cubic metres. \")) \n",
    "                break\n",
    "            except:\n",
    "                print(\"Please enter the volume with only the number, no units\")\n",
    "            \n",
    "        cc = str(initial_volume*(10**6))+ \" cc\"\n",
    "        liters = str(initial_volume*1000) + \" Litres\"\n",
    "        \n",
    "        return f'{initial_volume} cubic metres can be expressed as {cc} , {liters} !'\n",
    "            \n",
    "    elif unit[0].upper() == \"L\":\n",
    "        while True:\n",
    "            try:\n",
    "                initial_volume = float(input(\"Enter the volume in Litres. \")) \n",
    "                break\n",
    "            except:\n",
    "                print(\"Please enter the volume with only the number, no units\")\n",
    "            \n",
    "        metre_cube = str(initial_volume/1000) + \" cubic metres\"\n",
    "        cc = str(initial_volume*1000) + \" cc\"\n",
    "        \n",
    "        return f'{initial_volume} can be expressed as {metre_cube} , {cc} !'\n",
    "    "
   ]
  },
  {
   "cell_type": "raw",
   "id": "95b55d8e",
   "metadata": {},
   "source": [
    "volume()"
   ]
  },
  {
   "cell_type": "raw",
   "id": "586c82ca",
   "metadata": {},
   "source": [
    "round(1322.12030000000001,2)"
   ]
  },
  {
   "cell_type": "raw",
   "id": "6732e3ce",
   "metadata": {},
   "source": [
    "12/10**6"
   ]
  },
  {
   "cell_type": "raw",
   "id": "ef070bae",
   "metadata": {},
   "source": [
    "str(1.2e+09/10**6) + \" or \" + str(float(1.2e+09/10**6)) + \" cubic metres\""
   ]
  },
  {
   "cell_type": "raw",
   "id": "0b765ccf",
   "metadata": {},
   "source": [
    "str(\"%f\" % 8.99284722486562e-07)"
   ]
  },
  {
   "cell_type": "raw",
   "id": "bf5b6375",
   "metadata": {},
   "source": [
    "float(\"{:.8f}\".format(float(\"8.99284722486562e-05\")))"
   ]
  }
 ],
 "metadata": {
  "kernelspec": {
   "display_name": "Python 3 (ipykernel)",
   "language": "python",
   "name": "python3"
  },
  "language_info": {
   "codemirror_mode": {
    "name": "ipython",
    "version": 3
   },
   "file_extension": ".py",
   "mimetype": "text/x-python",
   "name": "python",
   "nbconvert_exporter": "python",
   "pygments_lexer": "ipython3",
   "version": "3.10.9"
  }
 },
 "nbformat": 4,
 "nbformat_minor": 5
}
