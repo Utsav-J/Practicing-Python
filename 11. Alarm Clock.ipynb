{
 "cells": [
  {
   "cell_type": "code",
   "execution_count": 25,
   "id": "43bf7d62",
   "metadata": {},
   "outputs": [],
   "source": [
    "import winsound\n",
    "import time\n",
    "import calendar\n",
    "import datetime"
   ]
  },
  {
   "cell_type": "code",
   "execution_count": 22,
   "id": "95e77c22",
   "metadata": {},
   "outputs": [],
   "source": [
    "#make an alarm tone\n",
    "#ask the user at what time to sound the alarm\n",
    "#get user required time\n",
    "        #if current time == user saying time, alarm\n",
    "        #get difference between said time and current time, use time sleep\n",
    "#hit the alarm once the time has struck "
   ]
  },
  {
   "cell_type": "code",
   "execution_count": 31,
   "id": "d80dc732",
   "metadata": {},
   "outputs": [],
   "source": [
    "def main():\n",
    "    timern = time.localtime()\n",
    "    \n",
    "    while True: #GETTING THE DATE FOR WHEN THE ALARM IS LIKE \"18TH\" OF THIS MONTH\n",
    "        try:\n",
    "            user_day = int(input(\"What day would u like to set an alarm for? \")) \n",
    "            month_length = calendar.monthrange(timern.tm_year,timern.tm_mon)[1] #this year ko this month ko length like 31,30\n",
    "            if (user_day in range(timern.tm_mday, month_length+1)): #aja dekhi month ko end samma\n",
    "                break \n",
    "        except:\n",
    "            print(\"Please enter the number only\")\n",
    "          \n",
    "            \n",
    "    if user_day == timern.tm_mday: #AJA KO LAGI ALARM HO BHANE\n",
    "        print(\"Note you can only set an alarm for 5 minutes or more ahead\")\n",
    "        while True:\n",
    "            try:\n",
    "                user_hour = int(input(\"What hour would u like to set an alarm for? \"))   \n",
    "                if (user_hour in range(timern.tm_hour,24)): #aile ko hour dekhi aja rati 23:59 samma\n",
    "                    break \n",
    "            except:\n",
    "                print(\"Please enter the number only\")\n",
    "            \n",
    "        while True:\n",
    "            try:\n",
    "                user_min = int(input(\"What minute would u like to set an alarm for? \"))   \n",
    "                if (user_min in range(timern.tm_min,59)) and user_min > timern.tm_min + 5: #aile ko minute dekhi hour ko end samma \n",
    "                    break \n",
    "            except:\n",
    "                print(\"Please enter the number only\")\n",
    "            \n",
    "    else: #bholi onwards ko lagi ho bhane      \n",
    "        while True:\n",
    "            try:\n",
    "                user_hour = int(input(\"What hour would u like to set an alarm for? \"))   \n",
    "                if (user_hour in range(0,24)): # 0 hour dekhi 23 hour samma\n",
    "                    break\n",
    "            except:\n",
    "                print(\"Please enter the number only\")\n",
    "             \n",
    "            \n",
    "        while True:\n",
    "            try:\n",
    "                user_min = int(input(\"What minute would u like to set an alarm for? \"))   \n",
    "                if (user_min in range(0,59)): # 0 min dekhi 59 minute samma\n",
    "                    break \n",
    "            except:\n",
    "                print(\"Please enter the number only\")\n",
    "            \n",
    "                \n",
    "    #AILE SAMMA I HAVE GOT ALARM BAJNE DAY, HOUR AND MINUTE !    \n",
    "    return user_day,user_hour,user_min"
   ]
  },
  {
   "cell_type": "code",
   "execution_count": 27,
   "id": "31b21bba",
   "metadata": {},
   "outputs": [],
   "source": [
    "def difference(user_day,user_hour,user_min):\n",
    "    current_time = datetime.datetime(2022,12,21).now()\n",
    "    user_time = datetime.datetime(2022,12,user_day,user_hour,user_min,0)\n",
    "    time_difference = user_time - current_time\n",
    "    \n",
    "    \n",
    "    return time_difference.seconds\n",
    "    "
   ]
  },
  {
   "cell_type": "code",
   "execution_count": 24,
   "id": "5a0e66c4",
   "metadata": {},
   "outputs": [],
   "source": [
    "def alarm_ed():\n",
    "    for i in range(3):\n",
    "\n",
    "        winsound.Beep(500,450)\n",
    "        winsound.Beep(600,450)\n",
    "        winsound.Beep(500,450)\n",
    "\n",
    "    winsound.Beep(550,450)\n",
    "    winsound.Beep(500,450)\n",
    "    winsound.Beep(450,450)"
   ]
  }
 ],
 "metadata": {
  "kernelspec": {
   "display_name": "Python 3 (ipykernel)",
   "language": "python",
   "name": "python3"
  },
  "language_info": {
   "codemirror_mode": {
    "name": "ipython",
    "version": 3
   },
   "file_extension": ".py",
   "mimetype": "text/x-python",
   "name": "python",
   "nbconvert_exporter": "python",
   "pygments_lexer": "ipython3",
   "version": "3.10.9"
  }
 },
 "nbformat": 4,
 "nbformat_minor": 5
}
