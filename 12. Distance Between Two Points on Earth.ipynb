{
 "cells": [
  {
   "cell_type": "code",
   "execution_count": 2,
   "id": "ced6ceee",
   "metadata": {},
   "outputs": [],
   "source": [
    "import haversine\n",
    "from geopy import Nominatim"
   ]
  },
  {
   "cell_type": "code",
   "execution_count": 46,
   "id": "a7ff3144",
   "metadata": {},
   "outputs": [
    {
     "name": "stdout",
     "output_type": "stream",
     "text": [
      "Enter the starting location: kathmandu\n",
      "Enter the ending location: biratnagar\n",
      "The distance between \"काठमाडौं Kathmandu\" and \"बिराटनगर Biratnagar\" is 238.50460436670843 km//148.19989031283004 miles//9389945.053807544 inches//782495.4211505887 feet.\n"
     ]
    }
   ],
   "source": [
    "if __name__ == \"__main__\":\n",
    "    geolocator = Nominatim(user_agent = \"Utsav\")\n",
    "    none_object = None #to use it in checking if the type later is none\n",
    "    \n",
    "    list_of_outputs = get_locations()\n",
    "    \n",
    "    location1 = list_of_outputs[0]\n",
    "    listed_address1 = list_of_outputs[2].split(',')[0:2] #first 2 items of the address output\n",
    "    address1 = ''.join(listed_address1) #joins the list form and makes it a string\n",
    "    \n",
    "    location2 = list_of_outputs[1]\n",
    "    listed_address2 = list_of_outputs[3].split(',')[0:2] \n",
    "    address2 = ''.join(listed_address2) \n",
    "    \n",
    "    two_points = location1,location2\n",
    "    \n",
    "    distance_km,distance_mi,distance_in,distance_ft = calculating_distance(location1,location2)\n",
    "    \n",
    "    print(f'The distance between \"{address1}\" and \"{address2}\" is {distance_km} km//{distance_mi} miles//{distance_in} inches//{distance_ft} feet.')\n",
    "    \n",
    "    \n",
    "    "
   ]
  },
  {
   "cell_type": "code",
   "execution_count": 44,
   "id": "898dfb59",
   "metadata": {},
   "outputs": [],
   "source": [
    "def get_locations():\n",
    "    \n",
    "    while True: #location 1\n",
    "        user_input1 = input(\"Enter the starting location: \")\n",
    "        initial = geolocator.geocode(user_input1)\n",
    "        if type(initial) != type(none_object): #type(initial) will be none if geolocator cant find the specified address\n",
    "            break\n",
    "        else:\n",
    "            print(\"Couldnt find that address, try again\")\n",
    "            \n",
    "    while True: #location 2\n",
    "        user_input2 = input(\"Enter the ending location: \")\n",
    "        final = geolocator.geocode(user_input2)\n",
    "        if type(final) != type(none_object): #type(initial) will be none if geolocator cant find the specified address\n",
    "            break\n",
    "        else:\n",
    "            print(\"Couldnt find that address, try again\")\n",
    "    \n",
    "    return (initial.latitude,initial.longitude), (final.latitude,final.longitude), initial.address, final.address"
   ]
  },
  {
   "cell_type": "code",
   "execution_count": 43,
   "id": "86cabfa7",
   "metadata": {},
   "outputs": [],
   "source": [
    "def calculating_distance(location1,location2):\n",
    "    distance_km = haversine.haversine(location1,location2,unit ='km')\n",
    "    distance_mi = haversine.haversine(location1,location2,unit ='mi')\n",
    "    distance_in = haversine.haversine(location1,location2,unit ='in')\n",
    "    distance_ft = haversine.haversine(location1,location2,unit ='ft')\n",
    "    \n",
    "    return distance_km,distance_mi,distance_in,distance_ft"
   ]
  },
  {
   "cell_type": "code",
   "execution_count": null,
   "id": "65ba2218",
   "metadata": {},
   "outputs": [],
   "source": []
  }
 ],
 "metadata": {
  "kernelspec": {
   "display_name": "Python 3 (ipykernel)",
   "language": "python",
   "name": "python3"
  },
  "language_info": {
   "codemirror_mode": {
    "name": "ipython",
    "version": 3
   },
   "file_extension": ".py",
   "mimetype": "text/x-python",
   "name": "python",
   "nbconvert_exporter": "python",
   "pygments_lexer": "ipython3",
   "version": "3.10.9"
  }
 },
 "nbformat": 4,
 "nbformat_minor": 5
}
