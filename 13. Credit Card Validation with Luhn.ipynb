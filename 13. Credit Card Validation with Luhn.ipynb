{
 "cells": [
  {
   "cell_type": "code",
   "execution_count": 1,
   "id": "32d097b1",
   "metadata": {},
   "outputs": [],
   "source": [
    "#get the 16 digit card number\n",
    "#eg 4847352989263094\n",
    "\n",
    "#1 count the sum of odd places while going from RIGHT TO LEFT 4+0+6+9+9+5+7+8 = 48\n",
    "#2 get the even places digits from right to left and multiply each by 2\n",
    "# if u get 9 times 2 = 18, you wont add 18, instead you'll add 1 + 8\n",
    "# (1+8) +6 + 4 + + (1 + 6) + 2 + 3 + 4 + 4 = 52\n",
    "\n",
    "#sum of odd places = 48\n",
    "#sum of even places = 52\n",
    "\n",
    "# sum of 48 and 52 = 100 \n",
    "# if that sum is divisible by 10, we the card is valid"
   ]
  },
  {
   "cell_type": "code",
   "execution_count": 6,
   "id": "d58b3e17",
   "metadata": {},
   "outputs": [
    {
     "name": "stdout",
     "output_type": "stream",
     "text": [
      "Please enter the card number to be verified: 4847352989263094\n",
      "Valid\n"
     ]
    }
   ],
   "source": [
    "if __name__ == \"__main__\":\n",
    "    asking = True\n",
    "    while asking:\n",
    "        user_card = input(\"Please enter the card number to be verified: \")\n",
    "        if len(user_card) == 16:\n",
    "            if user_card.isdigit():\n",
    "                asking = False\n",
    "            else:\n",
    "                print(\"I think credit card numbers dont have a letter...\")\n",
    "        else:\n",
    "            print(\"I think credit card numbers are 16 digits long...\")\n",
    "    \n",
    "    reversed_card = reverse_the_card(user_card)\n",
    "    odd_sum,even_sum = getting_sums(reversed_card)\n",
    "    validity = final_checksum(odd_sum,even_sum)\n",
    "    \n",
    "    if validity:\n",
    "        print(\"Valid\")\n",
    "    else:\n",
    "        print(\"Invalid\")"
   ]
  },
  {
   "cell_type": "code",
   "execution_count": 1,
   "id": "da12483b",
   "metadata": {},
   "outputs": [],
   "source": [
    "def reverse_the_card(user_card):\n",
    "    reversed_number = [] \n",
    "    \n",
    "    for digit in user_card[::-1]: #by the end of the loop, the card number is reversed\n",
    "        reversed_number.append(digit)\n",
    "    reversed_number = ''.join(reversed_number)\n",
    "    \n",
    "    return reversed_number"
   ]
  },
  {
   "cell_type": "code",
   "execution_count": 2,
   "id": "c20b8651",
   "metadata": {},
   "outputs": [],
   "source": [
    "def getting_sums(reverse):\n",
    "    odd_sum = 0\n",
    "    even_sum = 0\n",
    "    even_places = [] #list of digits\n",
    "    even_digits_to_sum = [] #list of digits after multiplying twice\n",
    "    \n",
    "    \n",
    "    for digit in reverse[::2]:\n",
    "        odd_sum += int(digit)\n",
    "    \n",
    "    for digit in reverse[1::2]: #only making list for now\n",
    "        even_places.append(digit)\n",
    "    \n",
    "    \n",
    "    for item in even_places: # replacing the 18 with 1 and 8 to add later\n",
    "        if (int(item)*2) > 10:\n",
    "            for digit in str(int(item)*2):\n",
    "                even_digits_to_sum.append(digit)\n",
    "        else:\n",
    "            even_digits_to_sum.append(int(item)*2)\n",
    "    \n",
    "    for num in even_digits_to_sum:\n",
    "        even_sum += int(num)\n",
    "        \n",
    "    return odd_sum,even_sum"
   ]
  },
  {
   "cell_type": "code",
   "execution_count": 3,
   "id": "b077c77c",
   "metadata": {},
   "outputs": [],
   "source": [
    "def final_checksum(odd,even):\n",
    "    if (odd + even) % 10 == 0:\n",
    "        return True\n",
    "    else:\n",
    "        return False"
   ]
  },
  {
   "cell_type": "code",
   "execution_count": null,
   "id": "de502647",
   "metadata": {},
   "outputs": [],
   "source": []
  }
 ],
 "metadata": {
  "kernelspec": {
   "display_name": "Python 3 (ipykernel)",
   "language": "python",
   "name": "python3"
  },
  "language_info": {
   "codemirror_mode": {
    "name": "ipython",
    "version": 3
   },
   "file_extension": ".py",
   "mimetype": "text/x-python",
   "name": "python",
   "nbconvert_exporter": "python",
   "pygments_lexer": "ipython3",
   "version": "3.10.9"
  }
 },
 "nbformat": 4,
 "nbformat_minor": 5
}
