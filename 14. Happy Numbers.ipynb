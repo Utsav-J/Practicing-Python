{
 "cells": [
  {
   "cell_type": "code",
   "execution_count": 12,
   "id": "600f5757",
   "metadata": {},
   "outputs": [],
   "source": [
    "def check_happines(number):\n",
    "   # checking = True\n",
    "    previous_falses = []\n",
    "    \n",
    "    while True:\n",
    "        sq_sum_of_digits = 0      #sum of squares of digits\n",
    "        digits = get_digits(number) #list of digits of the number\n",
    "\n",
    "        sq_sum_of_digits = sum(list(map(lambda x: x**2,digits)))\n",
    "        \n",
    "        if sq_sum_of_digits == 1: \n",
    "            return True\n",
    "            #checking = False\n",
    "        elif sq_sum_of_digits in previous_falses:\n",
    "            return False\n",
    "        else:\n",
    "            number = sq_sum_of_digits\n",
    "            previous_falses.append(sq_sum_of_digits)"
   ]
  },
  {
   "cell_type": "raw",
   "id": "c04eb526",
   "metadata": {},
   "source": [
    "lets say chec_happiness ma i put number as 8 (not a happy number)\n",
    "its digits will be 8 only\n",
    "and the sq sum will be 64\n",
    "64 is not == 1 so it'll move on to the elif statement\n",
    "64 is also not is the previous falses so it'll finally go onto else statement\n",
    "there the number will now be 64 and 64 will also be appended to the previous falses list"
   ]
  },
  {
   "cell_type": "raw",
   "id": "4b5d9cd5",
   "metadata": {},
   "source": [
    "use of previous falses\n",
    "during the check of a happy number it is sure that at one point the sq sum will be repeated\n",
    "thats when we know that the loop is going to go on forever ( the number is not happy)\n",
    "thats when we can decide that the number is not happy\n",
    "so if a sq sum is in previous falses, the number will be declared as unhappy"
   ]
  },
  {
   "cell_type": "raw",
   "id": "388bbbb0",
   "metadata": {},
   "source": [
    "for the next step of the loop (usig 64 now)\n",
    "the digits will be 6,4\n",
    "and the sq sum will be 52\n",
    "52 is not == 1 so it'll move on to the elif statement\n",
    "52 is also not is the previous falses so it'll finally go onto else statement\n",
    "there the number will now be 52 and 52 will also be appended to the previous falses list"
   ]
  },
  {
   "cell_type": "raw",
   "id": "48549fae",
   "metadata": {},
   "source": [
    "for faster results,\n",
    "further steps gardai jada if the sq sum wala number is repeated, \n",
    "it'll itself return False knowing that that number is not gonna be a happy number"
   ]
  },
  {
   "cell_type": "code",
   "execution_count": 9,
   "id": "5b712537",
   "metadata": {},
   "outputs": [],
   "source": [
    "def get_digits(number):\n",
    "    digits = []\n",
    "    while number: #number will keep on decreasing and at one point it will become 0 which denotes False state\n",
    "        digits.append(number % 10)  # for a number,it'll append the remainder when divided by 10, AKA last digit of the number\n",
    "        number = number // 10        #if the number is 987, it'll append 7 to the list and the number will be changed to 98\n",
    "    digits.reverse()            #without reversal it will return the digits from right to left\n",
    "    return digits"
   ]
  },
  {
   "cell_type": "code",
   "execution_count": 18,
   "id": "246720c8",
   "metadata": {},
   "outputs": [],
   "source": [
    "def printing_happy_numbers():\n",
    "    counter = 0\n",
    "    number = 1\n",
    "    happy_list = []\n",
    "    while counter < 8:\n",
    "        if check_happines(number):\n",
    "            happy_list.append(number)\n",
    "            number +=1\n",
    "            counter += 1\n",
    "        else:\n",
    "            number += 1\n",
    "    \n",
    "    return happy_list"
   ]
  },
  {
   "cell_type": "code",
   "execution_count": 21,
   "id": "bae25cbc",
   "metadata": {},
   "outputs": [
    {
     "name": "stdout",
     "output_type": "stream",
     "text": [
      "1 is a happy number no.1 !\n",
      "7 is a happy number no.2 !\n",
      "10 is a happy number no.3 !\n",
      "13 is a happy number no.4 !\n",
      "19 is a happy number no.5 !\n",
      "23 is a happy number no.6 !\n",
      "28 is a happy number no.7 !\n",
      "31 is a happy number no.8 !\n"
     ]
    }
   ],
   "source": [
    "\n",
    "no = 1\n",
    "for item in printing_happy_numbers():\n",
    "    print(f'{item} is a happy number no.{no} !')\n",
    "    no += 1"
   ]
  },
  {
   "cell_type": "code",
   "execution_count": null,
   "id": "786ea901",
   "metadata": {},
   "outputs": [],
   "source": []
  }
 ],
 "metadata": {
  "kernelspec": {
   "display_name": "Python 3 (ipykernel)",
   "language": "python",
   "name": "python3"
  },
  "language_info": {
   "codemirror_mode": {
    "name": "ipython",
    "version": 3
   },
   "file_extension": ".py",
   "mimetype": "text/x-python",
   "name": "python",
   "nbconvert_exporter": "python",
   "pygments_lexer": "ipython3",
   "version": "3.10.9"
  }
 },
 "nbformat": 4,
 "nbformat_minor": 5
}
