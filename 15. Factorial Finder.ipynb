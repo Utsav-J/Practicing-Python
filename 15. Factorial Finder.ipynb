{
 "cells": [
  {
   "cell_type": "code",
   "execution_count": 1,
   "id": "d2abc0b5",
   "metadata": {},
   "outputs": [],
   "source": [
    "#Factorial Finder - The Factorial of a positive integer, n, is defined as the product of the sequence \n",
    "#n, n-1, n-2, ...1 and the factorial of zero, 0, is defined as being 1. Solve this using both loops and recursion."
   ]
  },
  {
   "cell_type": "code",
   "execution_count": 3,
   "id": "88dc4219",
   "metadata": {},
   "outputs": [],
   "source": [
    "def factorial(n):\n",
    "    fac = 1\n",
    "    while (n > 0): \n",
    "        fac = (n *fac)\n",
    "        n -= 1  \n",
    "    return fac\n",
    "    "
   ]
  },
  {
   "cell_type": "code",
   "execution_count": 4,
   "id": "b9ffd063",
   "metadata": {},
   "outputs": [
    {
     "name": "stdout",
     "output_type": "stream",
     "text": [
      "Please enter the number: 5\n",
      "The factorial of 5 is 120. \n",
      "Do you wanna calculate more factorials?yes\n",
      "Please enter the number: 0\n",
      "The factorial of 0 is 1.\n",
      "Do you wanna calculate more factorials?yes\n",
      "Please enter the number: -1\n",
      "You cant find the factorial of a negative integer\n",
      "Please enter the number: 10\n",
      "The factorial of 10 is 3628800. \n",
      "Do you wanna calculate more factorials?no\n"
     ]
    }
   ],
   "source": [
    "if __name__ == \"__main__\":\n",
    "    asking = True\n",
    "    while asking:\n",
    "        while True:\n",
    "            try:\n",
    "                user_number = int(input(\"Please enter the number: \"))\n",
    "                if user_number < 0:\n",
    "                    print(\"You cant find the factorial of a negative integer\")\n",
    "                else:\n",
    "                    break\n",
    "            except:\n",
    "                print(\"Please enter a whole number that is greater than 0.\")\n",
    "        \n",
    "        if user_number == 0:\n",
    "            print(\"The factorial of 0 is 1.\")\n",
    "        else:\n",
    "            print(f'The factorial of {user_number} is {factorial(user_number)}. ')\n",
    "        \n",
    "        \n",
    "        \n",
    "        \n",
    "        \n",
    "        \n",
    "        \n",
    "        \n",
    "        \n",
    "        while True:\n",
    "            ask_the_user = input(\"Do you wanna calculate more factorials?\")\n",
    "            if ask_the_user[0].upper() == \"Y\":\n",
    "                asking = True\n",
    "                break\n",
    "            elif ask_the_user[0].upper() == \"N\":\n",
    "                asking = False\n",
    "                break\n",
    "            else:\n",
    "                print(\"Couldnt catch that\")\n",
    "                break"
   ]
  },
  {
   "cell_type": "code",
   "execution_count": null,
   "id": "8428cb25",
   "metadata": {},
   "outputs": [],
   "source": []
  }
 ],
 "metadata": {
  "kernelspec": {
   "display_name": "Python 3 (ipykernel)",
   "language": "python",
   "name": "python3"
  },
  "language_info": {
   "codemirror_mode": {
    "name": "ipython",
    "version": 3
   },
   "file_extension": ".py",
   "mimetype": "text/x-python",
   "name": "python",
   "nbconvert_exporter": "python",
   "pygments_lexer": "ipython3",
   "version": "3.10.9"
  }
 },
 "nbformat": 4,
 "nbformat_minor": 5
}
