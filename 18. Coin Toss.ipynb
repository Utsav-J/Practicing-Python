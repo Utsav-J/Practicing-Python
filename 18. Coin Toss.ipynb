{
 "cells": [
  {
   "cell_type": "code",
   "execution_count": 1,
   "id": "cb3ddc8d",
   "metadata": {},
   "outputs": [],
   "source": [
    "import random"
   ]
  },
  {
   "cell_type": "code",
   "execution_count": 2,
   "id": "add350b1",
   "metadata": {},
   "outputs": [],
   "source": [
    "\n",
    "#Coin Flip Simulation - Write some code that simulates flipping a single coin however many times the user decides.\n",
    "#The code should record the outcomes and count the number of tails and heads.\n"
   ]
  },
  {
   "cell_type": "code",
   "execution_count": 10,
   "id": "5733f32a",
   "metadata": {},
   "outputs": [
    {
     "name": "stdout",
     "output_type": "stream",
     "text": [
      "Press enter to toss the coin, write stop to stop the process.\n",
      "Tails\n",
      "Press enter to toss the coin, write stop to stop the process.\n",
      "Heads\n",
      "Press enter to toss the coin, write stop to stop the process.\n",
      "Tails\n",
      "Press enter to toss the coin, write stop to stop the process.\n",
      "Tails\n",
      "Press enter to toss the coin, write stop to stop the process.\n",
      "Heads\n",
      "Press enter to toss the coin, write stop to stop the process.\n",
      "Heads\n",
      "Press enter to toss the coin, write stop to stop the process.\n",
      "Heads\n",
      "Press enter to toss the coin, write stop to stop the process.\n",
      "Heads\n",
      "Press enter to toss the coin, write stop to stop the process.\n",
      "Tails\n",
      "Press enter to toss the coin, write stop to stop the process.\n",
      "Heads\n",
      "Press enter to toss the coin, write stop to stop the process.stop\n",
      "Thanks for using. Here are your stats: \n",
      "Outcome no.1 = T\n",
      "Outcome no.2 = H\n",
      "Outcome no.3 = T\n",
      "Outcome no.4 = T\n",
      "Outcome no.5 = H\n",
      "Outcome no.6 = H\n",
      "Outcome no.7 = H\n",
      "Outcome no.8 = H\n",
      "Outcome no.9 = T\n",
      "Outcome no.10 = H\n",
      "Heads Count: 6\n",
      "Tails Count: 4\n"
     ]
    }
   ],
   "source": [
    "if __name__ == \"__main__\":\n",
    "    tossing = True\n",
    "    list_of_outcomes = []\n",
    "    coin = Coin()\n",
    "    while tossing:\n",
    "        user_input= input('Press enter to toss the coin, write stop to stop the process.')\n",
    "        if user_input == '':\n",
    "            print(coin.toss())\n",
    "        else:\n",
    "            print(\"Thanks for using. Here are your stats: \")\n",
    "            coin.outcomes()\n",
    "            coin.heads_count()\n",
    "            coin.tails_count()\n",
    "            tossing = False"
   ]
  },
  {
   "cell_type": "code",
   "execution_count": 9,
   "id": "8a3c2f1b",
   "metadata": {},
   "outputs": [],
   "source": [
    "class Coin:\n",
    "    \n",
    "    \n",
    "    def __init__(self):\n",
    "        pass\n",
    "    \n",
    "    def toss(self):\n",
    "        outcome = random.randint(0,1)\n",
    "        \n",
    "        if outcome == 0:\n",
    "            list_of_outcomes.append(\"H\")\n",
    "            #return 'Heads' #HEADS\n",
    "        else:\n",
    "            list_of_outcomes.append(\"T\")\n",
    "            #return 'Tails' #TAILS\n",
    "        if list_of_outcomes[-1] == \"H\":\n",
    "            return \"Heads\"\n",
    "        else:\n",
    "            return 'Tails'\n",
    "        \n",
    "    \n",
    "    def outcomes(self):\n",
    "            \n",
    "        num = 1\n",
    "        for item in list_of_outcomes:\n",
    "            print(f'Outcome no.{num} = {item}')\n",
    "            num += 1\n",
    "     \n",
    "    \n",
    "    def tails_count(self):\n",
    "        print(f'Tails Count: {list_of_outcomes.count(\"T\")}')\n",
    "    \n",
    "    def heads_count(self):\n",
    "        print(f'Heads Count: {list_of_outcomes.count(\"H\")}')\n",
    "    \n",
    "    \n",
    "    \n",
    "            "
   ]
  },
  {
   "cell_type": "code",
   "execution_count": null,
   "id": "d71fdf27",
   "metadata": {},
   "outputs": [],
   "source": [
    "coin = Coin()"
   ]
  },
  {
   "cell_type": "code",
   "execution_count": null,
   "id": "69a13839",
   "metadata": {},
   "outputs": [],
   "source": [
    "for num in range(10):\n",
    "    coin.toss_the_coin()"
   ]
  },
  {
   "cell_type": "code",
   "execution_count": null,
   "id": "4b087dbd",
   "metadata": {},
   "outputs": [],
   "source": [
    "list_of_outcomes"
   ]
  },
  {
   "cell_type": "code",
   "execution_count": null,
   "id": "9c15d2d5",
   "metadata": {},
   "outputs": [],
   "source": []
  },
  {
   "cell_type": "code",
   "execution_count": null,
   "id": "78da92e6",
   "metadata": {},
   "outputs": [],
   "source": []
  }
 ],
 "metadata": {
  "kernelspec": {
   "display_name": "Python 3 (ipykernel)",
   "language": "python",
   "name": "python3"
  },
  "language_info": {
   "codemirror_mode": {
    "name": "ipython",
    "version": 3
   },
   "file_extension": ".py",
   "mimetype": "text/x-python",
   "name": "python",
   "nbconvert_exporter": "python",
   "pygments_lexer": "ipython3",
   "version": "3.10.9"
  }
 },
 "nbformat": 4,
 "nbformat_minor": 5
}
