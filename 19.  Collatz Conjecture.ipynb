{
 "cells": [
  {
   "cell_type": "code",
   "execution_count": 1,
   "id": "c437d2e3",
   "metadata": {},
   "outputs": [],
   "source": [
    "\n",
    "first_line = Collatz Conjecture - Start with a number n > 1. Find the number of steps it takes to reach one using the following process:\n",
    "second_lines = If n is even, divide it by 2. If n is odd, multiply it by 3 and add 1.\n"
   ]
  },
  {
   "cell_type": "code",
   "execution_count": 8,
   "id": "e56dc9c3",
   "metadata": {},
   "outputs": [
    {
     "name": "stdout",
     "output_type": "stream",
     "text": [
      "Welcome to Collatz Conjecture\n",
      "Collatz Conjecture - Start with a number n > 1. Find the number of steps it takes to reach one using the following process:\n",
      "If n is even, divide it by 2. If n is odd, multiply it by 3 and add 1.\n",
      "Please enter a number: 1\n",
      "The number should be an integer greater than one.\n",
      "Please enter a number: 24\n",
      "24 achieves oneness in 10 steps.\n"
     ]
    }
   ],
   "source": [
    "if __name__ == \"__main__\":\n",
    "    \n",
    "    first_line = \"Collatz Conjecture - Start with a number n > 1. Find the number of steps it takes to reach one using the following process:\"\n",
    "    second_lines = \"If n is even, divide it by 2. If n is odd, multiply it by 3 and add 1.\"\n",
    "\n",
    "    print(\"Welcome to Collatz Conjecture\")\n",
    "    print(first_line)\n",
    "    print(second_lines)\n",
    "    user_number = getting_number()\n",
    "    print(f\"{user_number} achieves oneness in {count_da_steps(user_number)} steps.\")"
   ]
  },
  {
   "cell_type": "code",
   "execution_count": 2,
   "id": "695fdd29",
   "metadata": {},
   "outputs": [],
   "source": [
    "def getting_number():\n",
    "    while True:\n",
    "        try:\n",
    "            user_number = int(input(\"Please enter a number: \"))\n",
    "            if user_number > 1 :\n",
    "                break\n",
    "            else:\n",
    "                print(\"The number should be an integer greater than one.\")\n",
    "        except:\n",
    "            print(\"Please enter an integer\")\n",
    "    return user_number"
   ]
  },
  {
   "cell_type": "code",
   "execution_count": 3,
   "id": "3c77bf2a",
   "metadata": {},
   "outputs": [],
   "source": [
    "def count_da_steps(n):\n",
    "    counter = 0\n",
    "    while n != 1:\n",
    "        if n % 2 == 0:\n",
    "            n = n/2\n",
    "            counter += 1\n",
    "        else:\n",
    "            n = 3*n + 1\n",
    "            counter += 1\n",
    "    return counter"
   ]
  },
  {
   "cell_type": "code",
   "execution_count": 5,
   "id": "a7fd1fce",
   "metadata": {},
   "outputs": [
    {
     "data": {
      "text/plain": [
       "24"
      ]
     },
     "execution_count": 5,
     "metadata": {},
     "output_type": "execute_result"
    }
   ],
   "source": [
    "count_da_steps(50)"
   ]
  },
  {
   "cell_type": "code",
   "execution_count": null,
   "id": "19292d96",
   "metadata": {},
   "outputs": [],
   "source": []
  }
 ],
 "metadata": {
  "kernelspec": {
   "display_name": "Python 3 (ipykernel)",
   "language": "python",
   "name": "python3"
  },
  "language_info": {
   "codemirror_mode": {
    "name": "ipython",
    "version": 3
   },
   "file_extension": ".py",
   "mimetype": "text/x-python",
   "name": "python",
   "nbconvert_exporter": "python",
   "pygments_lexer": "ipython3",
   "version": "3.10.9"
  }
 },
 "nbformat": 4,
 "nbformat_minor": 5
}
