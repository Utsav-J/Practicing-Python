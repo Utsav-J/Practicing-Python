{
 "cells": [
  {
   "cell_type": "code",
   "execution_count": 9,
   "id": "8907de13",
   "metadata": {},
   "outputs": [],
   "source": [
    "import math"
   ]
  },
  {
   "cell_type": "code",
   "execution_count": 2,
   "id": "24684205",
   "metadata": {},
   "outputs": [],
   "source": [
    "#using brothers formula\n",
    "#https://www.intmath.com/exponential-logarithmic-functions/calculating-e.php"
   ]
  },
  {
   "cell_type": "code",
   "execution_count": 7,
   "id": "4e27011f",
   "metadata": {},
   "outputs": [],
   "source": [
    "def getting_user_input():\n",
    "    state = True\n",
    "    while state:\n",
    "        \n",
    "        user_input = input(\"Please enter how many digits you want after the decimal: \")\n",
    "        #digits = int(user_input)\n",
    "        if user_input.isdigit():\n",
    "            state = False\n",
    "            return int(user_input)\n",
    "        else:\n",
    "            print(\"Please enter only the integer\")    "
   ]
  },
  {
   "cell_type": "code",
   "execution_count": 18,
   "id": "5849358f",
   "metadata": {},
   "outputs": [
    {
     "name": "stdout",
     "output_type": "stream",
     "text": [
      "Please enter how many digits you want after the decimal: 20\n",
      "2.7182818284590446\n"
     ]
    }
   ],
   "source": [
    "decimal_limit = getting_user_input()\n",
    "\n",
    "def value_of_e(decimal_limit):\n",
    "    e = 0\n",
    "    for n in range(decimal_limit):\n",
    "        numerator = 2*n +2\n",
    "        deno = math.factorial(2*n + 1)\n",
    "        e += numerator/deno\n",
    "    return e #round(e,decimal_limit)\n",
    "\n",
    "final_value = value_of_e(decimal_limit)\n",
    "print(final_value)"
   ]
  },
  {
   "cell_type": "code",
   "execution_count": 17,
   "id": "0144eeed",
   "metadata": {},
   "outputs": [
    {
     "data": {
      "text/plain": [
       "16"
      ]
     },
     "execution_count": 17,
     "metadata": {},
     "output_type": "execute_result"
    }
   ],
   "source": [
    "len(list(iter('7182818284590446')))"
   ]
  },
  {
   "cell_type": "code",
   "execution_count": 19,
   "id": "1d014696",
   "metadata": {},
   "outputs": [],
   "source": [
    "\n",
    "def factorial(n):\n",
    "    factorials = [1]\n",
    "    for i in range(1, n + 1):\n",
    "        factorials.append(factorials[i - 1] * i)\n",
    "    return factorials"
   ]
  },
  {
   "cell_type": "code",
   "execution_count": 35,
   "id": "170c31b2",
   "metadata": {},
   "outputs": [
    {
     "name": "stdout",
     "output_type": "stream",
     "text": [
      "Enter the number of digits you want after the decimal for e: 20\n",
      "2.718281828459045\n"
     ]
    }
   ],
   "source": [
    "import math \n",
    "\n",
    "def CalculateE(roundVal):\n",
    "\n",
    "\t\tsomeE = round(math.e,roundVal);\n",
    "\t\te = str(someE)\n",
    "\t\tsomeList = list(e)\n",
    "\t\treturn someE;\n",
    "roundTo = int(input('Enter the number of digits you want after the decimal for e: '))\n",
    "try:\n",
    "\troundint = int(roundTo);\n",
    "\tprint(CalculateE(roundint));\n",
    "except:\n",
    "\tprint(\"You did not enter an integer\")"
   ]
  },
  {
   "cell_type": "code",
   "execution_count": 24,
   "id": "f8685646",
   "metadata": {},
   "outputs": [
    {
     "data": {
      "text/plain": [
       "120"
      ]
     },
     "execution_count": 24,
     "metadata": {},
     "output_type": "execute_result"
    }
   ],
   "source": [
    "math.factorial(5)"
   ]
  },
  {
   "cell_type": "code",
   "execution_count": 25,
   "id": "7596622c",
   "metadata": {},
   "outputs": [
    {
     "data": {
      "text/plain": [
       "9"
      ]
     },
     "execution_count": 25,
     "metadata": {},
     "output_type": "execute_result"
    }
   ],
   "source": [
    "2 * 4 + 1  "
   ]
  },
  {
   "cell_type": "code",
   "execution_count": null,
   "id": "e97f873a",
   "metadata": {},
   "outputs": [],
   "source": []
  },
  {
   "cell_type": "code",
   "execution_count": 30,
   "id": "0cae1b4d",
   "metadata": {},
   "outputs": [
    {
     "data": {
      "text/plain": [
       "'2.7182818284590450907955982984276488423347473144531250000000000000000000000000000000000000000000000000'"
      ]
     },
     "execution_count": 30,
     "metadata": {},
     "output_type": "execute_result"
    }
   ],
   "source": [
    "'%.*f'% (100,math.e)"
   ]
  },
  {
   "cell_type": "code",
   "execution_count": 31,
   "id": "de93da15",
   "metadata": {},
   "outputs": [
    {
     "data": {
      "text/plain": [
       "'2.71828182845904523536028747135266249775724709369995'"
      ]
     },
     "execution_count": 31,
     "metadata": {},
     "output_type": "execute_result"
    }
   ],
   "source": [
    "'2.71828 18284 59045 23536 02874 71352 66249 77572 47093 69995'.replace(' ','')"
   ]
  },
  {
   "cell_type": "code",
   "execution_count": 32,
   "id": "c3c4179b",
   "metadata": {},
   "outputs": [
    {
     "data": {
      "text/plain": [
       "50"
      ]
     },
     "execution_count": 32,
     "metadata": {},
     "output_type": "execute_result"
    }
   ],
   "source": [
    "len(list('71828182845904523536028747135266249775724709369995'))"
   ]
  },
  {
   "cell_type": "code",
   "execution_count": null,
   "id": "02165dfd",
   "metadata": {},
   "outputs": [],
   "source": []
  }
 ],
 "metadata": {
  "kernelspec": {
   "display_name": "Python 3 (ipykernel)",
   "language": "python",
   "name": "python3"
  },
  "language_info": {
   "codemirror_mode": {
    "name": "ipython",
    "version": 3
   },
   "file_extension": ".py",
   "mimetype": "text/x-python",
   "name": "python",
   "nbconvert_exporter": "python",
   "pygments_lexer": "ipython3",
   "version": "3.10.9"
  }
 },
 "nbformat": 4,
 "nbformat_minor": 5
}
