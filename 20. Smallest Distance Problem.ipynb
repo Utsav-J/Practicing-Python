{
 "cells": [
  {
   "cell_type": "code",
   "execution_count": null,
   "id": "07b598d7",
   "metadata": {},
   "outputs": [],
   "source": [
    "(2, 3), (12, 30), (40, 50), (5, 1), (12, 10), (3, 4)"
   ]
  },
  {
   "cell_type": "code",
   "execution_count": 1,
   "id": "fc2d70bc",
   "metadata": {},
   "outputs": [],
   "source": [
    "import math\n",
    "import re"
   ]
  },
  {
   "cell_type": "code",
   "execution_count": 45,
   "id": "de243195",
   "metadata": {},
   "outputs": [
    {
     "name": "stdout",
     "output_type": "stream",
     "text": [
      "How many coordinates would you like to put in? 4\n",
      "Input either both coordinates in decimal point or both without decimal points.\n",
      "Please enter the point in form of x,y (max 2 digit numbers only):1,1\n",
      "Input either both coordinates in decimal point or both without decimal points.\n",
      "Please enter the point in form of x,y (max 2 digit numbers only):3,4\n",
      "Input either both coordinates in decimal point or both without decimal points.\n",
      "Please enter the point in form of x,y (max 2 digit numbers only):2,8\n",
      "Input either both coordinates in decimal point or both without decimal points.\n",
      "Please enter the point in form of x,y (max 2 digit numbers only):4,5\n",
      "The couple bearing shortest distance is ((4, 5), (2, 8)),  Distance = 3.605551275463989\n"
     ]
    }
   ],
   "source": [
    "if __name__ == \"__main__\":\n",
    "    while True:\n",
    "        try:\n",
    "            times = int(input(\"How many coordinates would you like to put in? \"))\n",
    "            break\n",
    "        except:\n",
    "            print(\"Only input a number\")\n",
    "            \n",
    "            \n",
    "    points_list = []\n",
    "    for i in range(times):\n",
    "        points_list.append(points())\n",
    "    #created a list of all the points\n",
    "    first_list = split_list(points_list)[0]\n",
    "    second_list = split_list(points_list)[1]\n",
    "    \n",
    "    print(f'The couple bearing shortest distance is {shortest_distance(first_list,second_list)[1]},  Distance = {shortest_distance(first_list,second_list)[0]}')"
   ]
  },
  {
   "cell_type": "code",
   "execution_count": 39,
   "id": "14160f45",
   "metadata": {},
   "outputs": [],
   "source": [
    "def split_list(points_list):\n",
    "    i = 1\n",
    "    first_list = []\n",
    "    second_list = []\n",
    "    for n in range(len(points_list)):\n",
    "        if i % 2 == 0:\n",
    "            first_list.append(points_list[n])\n",
    "            i += 1\n",
    "        else:\n",
    "            second_list.append(points_list[n])\n",
    "            i += 1\n",
    "    return first_list,second_list"
   ]
  },
  {
   "cell_type": "code",
   "execution_count": 40,
   "id": "4c46db09",
   "metadata": {},
   "outputs": [],
   "source": [
    "def points():\n",
    "    while True:\n",
    "        try:\n",
    "            print(\"Input either both coordinates in decimal point or both without decimal points.\")\n",
    "            coordinates = input(\"Please enter the point in form of x,y (max 2 digit numbers only):\")\n",
    "            float_style = r'\\d{1,2}&\\d{1,2},\\d{1,2}&\\d{1,2}' # we want (1-2 digit, 1-2 digit)\n",
    "            int_style = r'\\d{1,2},\\d{1,2}'\n",
    "            \n",
    "            if (type(re.match(float_style,coordinates.replace('.','&'))) == re.Match) or type(re.match(int_style,coordinates)) == re.Match:\n",
    "                if len(list(coordinates.split(','))) == 2:\n",
    "                    break\n",
    "                else:\n",
    "                    print(\"Please enter a two dimensional coordinate\")\n",
    "            else:\n",
    "                print(\"Please enter in the form of (x,y)\")\n",
    "        except:\n",
    "            print(\"Invalid input!\")\n",
    "    in_list_form = [int(item) for item in coordinates.split(',')]\n",
    "    result = tuple(in_list_form)\n",
    "    return result\n",
    "    "
   ]
  },
  {
   "cell_type": "code",
   "execution_count": 41,
   "id": "3f886276",
   "metadata": {},
   "outputs": [],
   "source": [
    "def shortest_distance(list1,list2):\n",
    "    all_results = {}\n",
    "    shortest_distance = 99999999999999\n",
    "    for item1 in list1:\n",
    "        for item2 in list2:\n",
    "            all_results[item1,item2] = math.dist(item1,item2)\n",
    "            \n",
    "    for item in all_results.values():\n",
    "        if item < shortest_distance:\n",
    "            shortest_distance = item\n",
    "            \n",
    "    for item in all_results:\n",
    "        if all_results[item] == shortest_distance:\n",
    "            best_couple = item\n",
    "    \n",
    "    return shortest_distance,best_couple"
   ]
  }
 ],
 "metadata": {
  "kernelspec": {
   "display_name": "Python 3 (ipykernel)",
   "language": "python",
   "name": "python3"
  },
  "language_info": {
   "codemirror_mode": {
    "name": "ipython",
    "version": 3
   },
   "file_extension": ".py",
   "mimetype": "text/x-python",
   "name": "python",
   "nbconvert_exporter": "python",
   "pygments_lexer": "ipython3",
   "version": "3.10.9"
  }
 },
 "nbformat": 4,
 "nbformat_minor": 5
}
