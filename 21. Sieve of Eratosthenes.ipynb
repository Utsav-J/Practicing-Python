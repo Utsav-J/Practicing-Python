{
 "cells": [
  {
   "cell_type": "code",
   "execution_count": 4,
   "id": "ef309429",
   "metadata": {},
   "outputs": [
    {
     "name": "stdout",
     "output_type": "stream",
     "text": [
      "Enter the number upto which you want the primes: 50\n",
      "The prime numbers upto 50 are:\n",
      "[2, 3, 5, 7, 11, 13, 17, 19, 23, 29, 31, 37, 41, 43, 47]\n",
      "There are 15 numbers up there.\n"
     ]
    }
   ],
   "source": [
    "if __name__ == \"__main__\":\n",
    "    while True:\n",
    "        try:\n",
    "            n = int(input(\"Enter the number upto which you want the primes: \"))\n",
    "            break\n",
    "        except:\n",
    "            print(\"error\")\n",
    "    print(f\"The prime numbers upto {n} are:\")\n",
    "    print(eratos(n))\n",
    "    print(f\"There are {len(eratos(n))} numbers up there.\")"
   ]
  },
  {
   "cell_type": "code",
   "execution_count": 2,
   "id": "6c6edcc7",
   "metadata": {},
   "outputs": [],
   "source": [
    "def eratos(n):\n",
    "    numbers = [True for i in range(n + 1)] #harek number ko index position ma True bhanne value rakhne\n",
    "    divisor = 2\n",
    "    prime_list = []\n",
    "    \n",
    "    while divisor**2 < n:\n",
    "        for i in range(divisor**2,n + 1,divisor): #will go thru like 2 square= 4 dekhi end samma with a step size of 2\n",
    "            numbers[i] = False                    #eliminates all the multiples\n",
    "            \n",
    "        divisor += 1\n",
    "    \n",
    "    for i in range(2,n+1): #taking index 2 dekhi because index 0 and 1 is for numbers 0,1 WE DONT COUNT THEM\n",
    "        if numbers[i] == True:\n",
    "            prime_list.append(i)\n",
    "                                             \n",
    "    return prime_list"
   ]
  }
 ],
 "metadata": {
  "kernelspec": {
   "display_name": "Python 3 (ipykernel)",
   "language": "python",
   "name": "python3"
  },
  "language_info": {
   "codemirror_mode": {
    "name": "ipython",
    "version": 3
   },
   "file_extension": ".py",
   "mimetype": "text/x-python",
   "name": "python",
   "nbconvert_exporter": "python",
   "pygments_lexer": "ipython3",
   "version": "3.10.9"
  }
 },
 "nbformat": 4,
 "nbformat_minor": 5
}
