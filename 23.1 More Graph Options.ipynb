{
 "cells": [
  {
   "cell_type": "code",
   "execution_count": 1,
   "id": "ac4c1468",
   "metadata": {},
   "outputs": [],
   "source": [
    "import matplotlib.pyplot as graph"
   ]
  },
  {
   "cell_type": "code",
   "execution_count": 2,
   "id": "04286e07",
   "metadata": {},
   "outputs": [],
   "source": [
    "first = [1,2,3,4,5,6]\n",
    "second = [6,5,4,3,2,1]"
   ]
  },
  {
   "cell_type": "code",
   "execution_count": 35,
   "id": "f5e32f1c",
   "metadata": {},
   "outputs": [
    {
     "data": {
      "text/plain": [
       "(0.0, 10.0)"
      ]
     },
     "execution_count": 35,
     "metadata": {},
     "output_type": "execute_result"
    },
    {
     "data": {
      "image/png": "[encoded data removed]",
      "text/plain": [
       "<Figure size 640x480 with 1 Axes>"
      ]
     },
     "metadata": {},
     "output_type": "display_data"
    }
   ],
   "source": [
    "graph.plot(first,second,\n",
    "           linestyle = '-',\n",
    "           marker='P',\n",
    "           markersize = 10, \n",
    "           markerfacecolor = 'g',\n",
    "           markeredgecolor = 'y',\n",
    "           linewidth = 2,\n",
    "           color = 'm')\n",
    "graph.xlabel(\"x axis\")\n",
    "graph.ylabel('y axis')\n",
    "graph.title('Sample Graph')\n",
    "graph.xlim(0,10)\n",
    "graph.ylim(0,10)\n"
   ]
  },
  {
   "cell_type": "raw",
   "id": "f21b713d",
   "metadata": {},
   "source": [
    "=============   ===============================\n",
    "character       description\n",
    "=============   ===============================\n",
    "'.'         point marker\n",
    "','         pixel marker\n",
    "'o'         circle marker\n",
    "'v'        triangle_down marker\n",
    "'^'         triangle_up marker\n",
    "'<'        triangle_left marker\n",
    "'>'         triangle_right marker\n",
    "'1'         tri_down marker\n",
    "'2'         tri_up marker\n",
    "'3'         tri_left marker\n",
    "'4'         tri_right marker\n",
    "'8'         octagon marker\n",
    "'s'         square marker\n",
    "'p'         pentagon marker\n",
    "'P'         plus (filled) marker\n",
    "'*'         star marker\n",
    "'h'         hexagon1 marker\n",
    "'H'         hexagon2 marker\n",
    "'+'         plus marker\n",
    "'x'         x marker\n",
    "'X'         x (filled) marker\n",
    "'D'         diamond marker\n",
    "'d'         thin_diamond marker\n",
    "'|'        vline marker\n",
    "'_'        hline marker"
   ]
  },
  {
   "cell_type": "raw",
   "id": "20b75a20",
   "metadata": {},
   "source": [
    "###################################################Line Styles##########################################################\n",
    "\n",
    "=============    ===============================\n",
    "character        description\n",
    "=============    ===============================\n",
    "``'-'``          solid line style\n",
    "``'--'``         dashed line style\n",
    "``'-.'``         dash-dot line style\n",
    "``':'``          dotted line style\n",
    "=============    ==============================="
   ]
  },
  {
   "cell_type": "raw",
   "id": "9833b4a3",
   "metadata": {},
   "source": [
    "=============    ===============================\n",
    "character        color\n",
    "=============    ===============================\n",
    "``'b'``          blue\n",
    "``'g'``          green\n",
    "``'r'``          red\n",
    "``'c'``          cyan\n",
    "``'m'``          magenta\n",
    "``'y'``          yellow\n",
    "``'k'``          black\n",
    "``'w'``          white"
   ]
  }
 ],
 "metadata": {
  "kernelspec": {
   "display_name": "Python 3 (ipykernel)",
   "language": "python",
   "name": "python3"
  },
  "language_info": {
   "codemirror_mode": {
    "name": "ipython",
    "version": 3
   },
   "file_extension": ".py",
   "mimetype": "text/x-python",
   "name": "python",
   "nbconvert_exporter": "python",
   "pygments_lexer": "ipython3",
   "version": "3.10.9"
  }
 },
 "nbformat": 4,
 "nbformat_minor": 5
}
