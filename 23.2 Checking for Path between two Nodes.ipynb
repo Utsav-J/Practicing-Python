{
 "cells": [
  {
   "cell_type": "code",
   "execution_count": 1,
   "id": "1f66d274",
   "metadata": {},
   "outputs": [],
   "source": [
    "from PIL import Image\n",
    "import collections"
   ]
  },
  {
   "cell_type": "code",
   "execution_count": 2,
   "id": "25f5af0a",
   "metadata": {},
   "outputs": [],
   "source": [
    "graph_used = Image.open('C:\\\\Users\\\\UTSAV\\\\OneDrive\\\\Pictures\\\\Screenshot 2022-12-31 121136.png')"
   ]
  },
  {
   "cell_type": "raw",
   "id": "76b8a24f",
   "metadata": {},
   "source": [
    "cycle is a path on the graph where you can end up wherever you start\n",
    "you need a source node and a end node\n"
   ]
  },
  {
   "cell_type": "raw",
   "id": "406a5e89",
   "metadata": {},
   "source": [
    "lets say we start at F\n",
    "using a DFS you might go to G next and then your only option is to go into H\n",
    "ATP you will check if H is the destination node you wanted to reach\n",
    "thats not True\n",
    "\n",
    "now you move to I then lets say you go to G, H again\n",
    "later you go into K and youve reached your dest \n",
    "now you return TRUE"
   ]
  },
  {
   "cell_type": "raw",
   "id": "50ea73c5",
   "metadata": {},
   "source": [
    "if src = j and dst = f\n",
    "its gonna return False for the presence of a path"
   ]
  },
  {
   "cell_type": "raw",
   "id": "83e73027",
   "metadata": {},
   "source": [
    "# n = # nodes\n",
    "# e = # edges\n",
    "Time Complexity would be O(e)\n",
    "Space Complexity would be O(n)"
   ]
  },
  {
   "cell_type": "code",
   "execution_count": 3,
   "id": "7b58940b",
   "metadata": {},
   "outputs": [],
   "source": [
    "graph = {\n",
    "    'f':['g','i'],\n",
    "    'g':['h'],\n",
    "    'h':[],\n",
    "    'i':['g','k'],\n",
    "    'j':['i'],\n",
    "    'k':[]   \n",
    "}"
   ]
  },
  {
   "cell_type": "code",
   "execution_count": 4,
   "id": "fb02be0a",
   "metadata": {},
   "outputs": [],
   "source": [
    "def has_path_DFS(graph,startnode,endnode):\n",
    "    if startnode == endnode:\n",
    "        return True\n",
    "    \n",
    "    for neighbor in graph[startnode]:\n",
    "        if has_path(graph,neighbor,endnode):\n",
    "            return True\n",
    "    \n",
    "    return False #only after the for loop is completed, youll return False"
   ]
  },
  {
   "cell_type": "code",
   "execution_count": 5,
   "id": "24f40fb9",
   "metadata": {},
   "outputs": [
    {
     "ename": "NameError",
     "evalue": "name 'has_path' is not defined",
     "output_type": "error",
     "traceback": [
      "\u001b[1;31m---------------------------------------------------------------------------\u001b[0m",
      "\u001b[1;31mNameError\u001b[0m                                 Traceback (most recent call last)",
      "Cell \u001b[1;32mIn[5], line 1\u001b[0m\n\u001b[1;32m----> 1\u001b[0m \u001b[43mhas_path\u001b[49m(graph,\u001b[38;5;124m'\u001b[39m\u001b[38;5;124mf\u001b[39m\u001b[38;5;124m'\u001b[39m,\u001b[38;5;124m'\u001b[39m\u001b[38;5;124mj\u001b[39m\u001b[38;5;124m'\u001b[39m)\n",
      "\u001b[1;31mNameError\u001b[0m: name 'has_path' is not defined"
     ]
    }
   ],
   "source": [
    "has_path(graph,'f','j')"
   ]
  },
  {
   "cell_type": "code",
   "execution_count": null,
   "id": "d9344de8",
   "metadata": {},
   "outputs": [],
   "source": [
    "has_path(graph,'f','k')"
   ]
  },
  {
   "cell_type": "code",
   "execution_count": null,
   "id": "c787c483",
   "metadata": {
    "scrolled": true
   },
   "outputs": [],
   "source": [
    "graph_used"
   ]
  },
  {
   "cell_type": "code",
   "execution_count": 10,
   "id": "2aeea773",
   "metadata": {},
   "outputs": [],
   "source": [
    "def has_path_BFS(graph,startnode,endnode):\n",
    "    if startnode == endnode:\n",
    "        return True\n",
    "    \n",
    "    queue = collections.deque([startnode])\n",
    "    while queue:\n",
    "        current = queue.popleft()\n",
    "        if current == endnode:\n",
    "            return True\n",
    "        \n",
    "        for neighbor in graph[current]: #remind yourself to use graph[current] here and not graph[startnode]for proper iteration\n",
    "            queue.append(neighbor)\n",
    "    \n",
    "    return False"
   ]
  },
  {
   "cell_type": "code",
   "execution_count": 11,
   "id": "34a03a9f",
   "metadata": {},
   "outputs": [
    {
     "data": {
      "text/plain": [
       "True"
      ]
     },
     "execution_count": 11,
     "metadata": {},
     "output_type": "execute_result"
    }
   ],
   "source": [
    "has_path_BFS(graph,'f','k')"
   ]
  },
  {
   "cell_type": "code",
   "execution_count": null,
   "id": "6c4cd6ad",
   "metadata": {},
   "outputs": [],
   "source": [
    "#practicing here onwards"
   ]
  },
  {
   "cell_type": "code",
   "execution_count": 2,
   "id": "b5251a3d",
   "metadata": {},
   "outputs": [],
   "source": [
    "def had_path(graph,src,dest):\n",
    "    if src == dest:\n",
    "        return True\n",
    "    for neighbor in graph[src]:\n",
    "        if had_path(graph,neighbor,dest):\n",
    "            return True\n",
    "    return False"
   ]
  },
  {
   "cell_type": "code",
   "execution_count": 3,
   "id": "5ef0f98b",
   "metadata": {},
   "outputs": [],
   "source": [
    "def has_path_BFS(graph,start,end):\n",
    "    if start == end:\n",
    "        return True\n",
    "    \n",
    "    queue = collections.deque([start])\n",
    "    \n",
    "    while queue:\n",
    "        current = queue.popleft()\n",
    "        if current == end:\n",
    "            return True\n",
    "        \n",
    "        for neighbor in graph[current]:\n",
    "            queue.append(neighbor)\n",
    "    \n",
    "    return False"
   ]
  },
  {
   "cell_type": "code",
   "execution_count": null,
   "id": "3741806f",
   "metadata": {},
   "outputs": [],
   "source": []
  },
  {
   "cell_type": "code",
   "execution_count": null,
   "id": "dafedf27",
   "metadata": {},
   "outputs": [],
   "source": []
  },
  {
   "cell_type": "code",
   "execution_count": null,
   "id": "1c4264a5",
   "metadata": {},
   "outputs": [],
   "source": []
  },
  {
   "cell_type": "code",
   "execution_count": null,
   "id": "7f237fad",
   "metadata": {},
   "outputs": [],
   "source": []
  }
 ],
 "metadata": {
  "kernelspec": {
   "display_name": "Python 3 (ipykernel)",
   "language": "python",
   "name": "python3"
  },
  "language_info": {
   "codemirror_mode": {
    "name": "ipython",
    "version": 3
   },
   "file_extension": ".py",
   "mimetype": "text/x-python",
   "name": "python",
   "nbconvert_exporter": "python",
   "pygments_lexer": "ipython3",
   "version": "3.10.9"
  }
 },
 "nbformat": 4,
 "nbformat_minor": 5
}
