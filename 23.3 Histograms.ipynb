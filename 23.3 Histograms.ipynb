{
 "cells": [
  {
   "cell_type": "code",
   "execution_count": 1,
   "id": "48f4ed03",
   "metadata": {},
   "outputs": [],
   "source": [
    "import matplotlib.pyplot as histo"
   ]
  },
  {
   "cell_type": "code",
   "execution_count": 13,
   "id": "8876613a",
   "metadata": {},
   "outputs": [
    {
     "data": {
      "text/plain": [
       "(array([3., 2., 2., 2., 7., 1., 2., 1., 1., 1., 0.]),\n",
       " array([  0.        ,   9.09090909,  18.18181818,  27.27272727,\n",
       "         36.36363636,  45.45454545,  54.54545455,  63.63636364,\n",
       "         72.72727273,  81.81818182,  90.90909091, 100.        ]),\n",
       " <BarContainer object of 11 artists>)"
      ]
     },
     "execution_count": 13,
     "metadata": {},
     "output_type": "execute_result"
    },
    {
     "data": {
      "image/png": "[encoded data removed]",
      "text/plain": [
       "<Figure size 640x480 with 1 Axes>"
      ]
     },
     "metadata": {},
     "output_type": "display_data"
    }
   ],
   "source": [
    "ages = [2,5,70,40,30,45,50,45,43,40,44,\n",
    "        60,7,13,57,18,90,77,32,21,20,40]\n",
    "  \n",
    "# setting the ranges and no. of intervals\n",
    "range = (0, 100)\n",
    "bins = 11 #divides the whole range into bins number of intervals and checks how many values fall into each interval\n",
    "\n",
    "  \n",
    "# plotting a histogram\n",
    "histo.hist(ages, bins, range, color = 'green',\n",
    "        histtype = 'bar', rwidth = 0.8)"
   ]
  },
  {
   "cell_type": "code",
   "execution_count": null,
   "id": "4fbb2f8e",
   "metadata": {},
   "outputs": [],
   "source": []
  }
 ],
 "metadata": {
  "kernelspec": {
   "display_name": "Python 3 (ipykernel)",
   "language": "python",
   "name": "python3"
  },
  "language_info": {
   "codemirror_mode": {
    "name": "ipython",
    "version": 3
   },
   "file_extension": ".py",
   "mimetype": "text/x-python",
   "name": "python",
   "nbconvert_exporter": "python",
   "pygments_lexer": "ipython3",
   "version": "3.10.9"
  }
 },
 "nbformat": 4,
 "nbformat_minor": 5
}
