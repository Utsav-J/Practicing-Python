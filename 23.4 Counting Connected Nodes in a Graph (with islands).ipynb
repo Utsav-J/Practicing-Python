{
 "cells": [
  {
   "cell_type": "code",
   "execution_count": 4,
   "id": "3e84be7a",
   "metadata": {},
   "outputs": [],
   "source": [
    "graph = {\n",
    "    1:[2],\n",
    "    2:[1],\n",
    "    3:[],\n",
    "    4:[6],\n",
    "    5:[6],\n",
    "    6:[4,5,7,8],\n",
    "    7:[6],\n",
    "    8:[6]\n",
    "}"
   ]
  },
  {
   "cell_type": "code",
   "execution_count": 5,
   "id": "00cd1207",
   "metadata": {},
   "outputs": [],
   "source": [
    "# gotta start at a node and go as further as we can\n",
    "# if we start at 1, we gonna iterate thru it and go as far as we can\n",
    "# mark 1 as visited\n",
    "# add 1 to the count for every succesfull traversal at a node"
   ]
  },
  {
   "cell_type": "raw",
   "id": "900bcb2d",
   "metadata": {},
   "source": [
    "def explore(graph,start,visited):\n",
    "    stack = [start]\n",
    "    if start in visited:\n",
    "        return False\n",
    "    \n",
    "    \n",
    "    while stack:\n",
    "        current = stack.pop()\n",
    "        visited.add(current)\n",
    "        for neighbor in graph[current]:\n",
    "            if neighbor not in visited:\n",
    "                stack.append(current)\n",
    "    \n",
    "    return True #returns True after a whole component is fully explored"
   ]
  },
  {
   "cell_type": "code",
   "execution_count": 6,
   "id": "7d3efacb",
   "metadata": {},
   "outputs": [],
   "source": [
    "def DFS_recursion(graph,startnode,visited):\n",
    "    \n",
    "    if startnode in visited:\n",
    "        return False\n",
    "    \n",
    "\n",
    "    visited.add(startnode)\n",
    "    \n",
    "    \n",
    "    for neighbor in graph[startnode]:\n",
    "        DFS_recursion(graph,neighbor,visited)\n",
    "        \n",
    "    return True"
   ]
  },
  {
   "cell_type": "code",
   "execution_count": 7,
   "id": "1e7a3833",
   "metadata": {},
   "outputs": [],
   "source": [
    "def connected_count(graph):\n",
    "    visited = set()\n",
    "    counter = 0\n",
    "    for node in graph:\n",
    "        if DFS_recursion(graph,node,visited):\n",
    "            counter += 1\n",
    "    \n",
    "    \n",
    "    return counter\n",
    "    "
   ]
  },
  {
   "cell_type": "code",
   "execution_count": 8,
   "id": "0d3d80fd",
   "metadata": {},
   "outputs": [
    {
     "data": {
      "text/plain": [
       "3"
      ]
     },
     "execution_count": 8,
     "metadata": {},
     "output_type": "execute_result"
    }
   ],
   "source": [
    "connected_count(graph)"
   ]
  },
  {
   "cell_type": "code",
   "execution_count": null,
   "id": "c13c5b2e",
   "metadata": {},
   "outputs": [],
   "source": []
  }
 ],
 "metadata": {
  "kernelspec": {
   "display_name": "Python 3 (ipykernel)",
   "language": "python",
   "name": "python3"
  },
  "language_info": {
   "codemirror_mode": {
    "name": "ipython",
    "version": 3
   },
   "file_extension": ".py",
   "mimetype": "text/x-python",
   "name": "python",
   "nbconvert_exporter": "python",
   "pygments_lexer": "ipython3",
   "version": "3.10.9"
  }
 },
 "nbformat": 4,
 "nbformat_minor": 5
}
