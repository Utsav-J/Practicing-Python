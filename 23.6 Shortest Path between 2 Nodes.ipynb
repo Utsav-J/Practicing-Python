{
 "cells": [
  {
   "cell_type": "code",
   "execution_count": 15,
   "id": "d7b137d9",
   "metadata": {},
   "outputs": [],
   "source": [
    "routes = [\n",
    "    ('a','b'),\n",
    "    ('b','c'),\n",
    "    ('d','c'),\n",
    "    ('d','e'),\n",
    "    ('a','e'),\n",
    "    ('c','d')\n",
    "]"
   ]
  },
  {
   "cell_type": "code",
   "execution_count": 16,
   "id": "2c50d5cf",
   "metadata": {},
   "outputs": [],
   "source": [
    "graph = {}\n",
    "for first,second in routes:\n",
    "    if first in graph:\n",
    "        graph[first].append(second)\n",
    "    else:\n",
    "        graph[first] = [second]\n"
   ]
  },
  {
   "cell_type": "code",
   "execution_count": 17,
   "id": "b7e3d3ac",
   "metadata": {},
   "outputs": [
    {
     "data": {
      "text/plain": [
       "{'a': ['b', 'e'], 'b': ['c'], 'd': ['c', 'e'], 'c': ['d']}"
      ]
     },
     "execution_count": 17,
     "metadata": {},
     "output_type": "execute_result"
    }
   ],
   "source": [
    "graph"
   ]
  },
  {
   "cell_type": "code",
   "execution_count": 18,
   "id": "10bbde77",
   "metadata": {},
   "outputs": [],
   "source": [
    "def get_paths(graph,start,end,path=[]):\n",
    "    path = path + [start]\n",
    "    \n",
    "    if start == end:\n",
    "        return [path]\n",
    "    \n",
    "    if start not in graph:\n",
    "        return []\n",
    "    \n",
    "    all_paths = []\n",
    "    \n",
    "    for neighbor in graph[start]:\n",
    "        if neighbor not in path:\n",
    "            new_paths = get_paths(graph,neighbor,end,path)\n",
    "            for p in new_paths:\n",
    "                all_paths.append(p)\n",
    "    \n",
    "    return all_paths\n",
    "                "
   ]
  },
  {
   "cell_type": "code",
   "execution_count": 47,
   "id": "75ba019e",
   "metadata": {},
   "outputs": [],
   "source": [
    "def shortest_path(graph,start,end):\n",
    "    all_paths = get_paths(graph,start,end)\n",
    "    shortest = 100\n",
    "    shortest_paths = []\n",
    "    for path in all_paths:\n",
    "        if len(path) < shortest:\n",
    "                shortest_paths = [path]\n",
    "        elif len(path) == shortest:\n",
    "            shortest_paths.append(path)\n",
    "    \n",
    "    return shortest_paths"
   ]
  },
  {
   "cell_type": "code",
   "execution_count": 48,
   "id": "1f568d9c",
   "metadata": {},
   "outputs": [
    {
     "data": {
      "text/plain": [
       "[['a', 'b', 'c', 'd', 'e'], ['a', 'e']]"
      ]
     },
     "execution_count": 48,
     "metadata": {},
     "output_type": "execute_result"
    }
   ],
   "source": [
    "get_paths(graph,'a','e')"
   ]
  },
  {
   "cell_type": "code",
   "execution_count": 49,
   "id": "351e7da7",
   "metadata": {},
   "outputs": [
    {
     "data": {
      "text/plain": [
       "[['a', 'e']]"
      ]
     },
     "execution_count": 49,
     "metadata": {},
     "output_type": "execute_result"
    }
   ],
   "source": [
    "get_paths(graph,'a','e')"
   ]
  },
  {
   "cell_type": "code",
   "execution_count": 76,
   "id": "c7c2ee28",
   "metadata": {},
   "outputs": [],
   "source": [
    "import collections\n",
    "\n",
    "def shortest_path_BFS(graph,start,end,visited):\n",
    "    visited = set()\n",
    "    queue = collections.deque([(start,0)])\n",
    "    visited.add(start)\n",
    "    path  = [start]\n",
    "    \n",
    "    while queue:\n",
    "        current,distance = queue.popleft()\n",
    "        if current == end:\n",
    "            if current not in path:\n",
    "                    path.append(current)\n",
    "                    return path,distance\n",
    "            return path,distance\n",
    "        \n",
    "        for neighbor in graph[current]:\n",
    "            if neighbor not in visited:\n",
    "                distance += 1\n",
    "                queue.append((neighbor,distance)) #since each neighbor is 1 distance further \n",
    "                visited.add(neighbor)\n",
    "                path.append(neighbor)\n",
    "                \n",
    "    return 'no'\n",
    "                "
   ]
  },
  {
   "cell_type": "code",
   "execution_count": 77,
   "id": "816dc361",
   "metadata": {},
   "outputs": [
    {
     "data": {
      "text/plain": [
       "(['a', 'b', 'e', 'c'], 2)"
      ]
     },
     "execution_count": 77,
     "metadata": {},
     "output_type": "execute_result"
    }
   ],
   "source": [
    "shortest_path_BFS(graph,'a','e',visited)"
   ]
  },
  {
   "cell_type": "code",
   "execution_count": 64,
   "id": "c3f10d0e",
   "metadata": {},
   "outputs": [],
   "source": [
    "dic = {\"a\":1,'b':2}"
   ]
  },
  {
   "cell_type": "code",
   "execution_count": 70,
   "id": "32d8719f",
   "metadata": {},
   "outputs": [],
   "source": [
    "c = dic.keys()"
   ]
  }
 ],
 "metadata": {
  "kernelspec": {
   "display_name": "Python 3 (ipykernel)",
   "language": "python",
   "name": "python3"
  },
  "language_info": {
   "codemirror_mode": {
    "name": "ipython",
    "version": 3
   },
   "file_extension": ".py",
   "mimetype": "text/x-python",
   "name": "python",
   "nbconvert_exporter": "python",
   "pygments_lexer": "ipython3",
   "version": "3.10.9"
  }
 },
 "nbformat": 4,
 "nbformat_minor": 5
}
