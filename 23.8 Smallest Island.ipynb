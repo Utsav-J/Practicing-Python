{
 "cells": [
  {
   "cell_type": "code",
   "execution_count": 40,
   "id": "10a6dc0c",
   "metadata": {},
   "outputs": [],
   "source": [
    "from math import inf"
   ]
  },
  {
   "cell_type": "code",
   "execution_count": 41,
   "id": "40163d12",
   "metadata": {},
   "outputs": [
    {
     "data": {
      "text/plain": [
       "True"
      ]
     },
     "execution_count": 41,
     "metadata": {},
     "output_type": "execute_result"
    }
   ],
   "source": []
  },
  {
   "cell_type": "code",
   "execution_count": 54,
   "id": "a426bf0d",
   "metadata": {},
   "outputs": [],
   "source": [
    "grid = [\n",
    "    ['W','L','W','W','L','W'],\n",
    "    ['L','L','W','W','W','W'],\n",
    "    ['W','L','W','W','W','W'],\n",
    "    ['W','W','W','L','L','W'],\n",
    "    ['W','W','W','L','L','W'],\n",
    "    ['W','W','W','W','W','W'],\n",
    "]"
   ]
  },
  {
   "cell_type": "code",
   "execution_count": 56,
   "id": "211afa8a",
   "metadata": {},
   "outputs": [],
   "source": [
    "def size_list(grid,row,coln,visited):\n",
    "    \n",
    "    position = str(row) + ',' + str(coln)\n",
    "    \n",
    "    if position in visited:\n",
    "        return 0\n",
    "    visited.add(position)\n",
    "    \n",
    "    row_inbounds = row in range(0,len(grid))\n",
    "    coln_inbounds = coln in range(0,len(grid[0]))\n",
    "\n",
    "    if not(row_inbounds and coln_inbounds):\n",
    "        return 0\n",
    "    \n",
    "    if grid[row][coln] == \"W\":\n",
    "        return 0\n",
    "    \n",
    "    current_size = 1 #not starting with 0 because 1 represents hte current size im on\n",
    "    \n",
    "    current_size += size_list(grid,row+1,coln,visited)\n",
    "    current_size += size_list(grid,row-1,coln,visited)\n",
    "    current_size += size_list(grid,row,coln+1,visited)\n",
    "    current_size += size_list(grid,row,coln-1,visited)\n",
    "    \n",
    "    return current_size"
   ]
  },
  {
   "cell_type": "code",
   "execution_count": 57,
   "id": "502f1189",
   "metadata": {},
   "outputs": [],
   "source": [
    "def smallest(grid):\n",
    "    visited = set()\n",
    "    min_size = inf\n",
    "    for row in range(0,len(grid)):\n",
    "        for coln in range(0,len(grid[0])):\n",
    "                size = size_list(grid,row,coln,visited)\n",
    "                if size < min_size and size > 0:\n",
    "                    min_size = size\n",
    "    return min_size"
   ]
  },
  {
   "cell_type": "code",
   "execution_count": 58,
   "id": "79631999",
   "metadata": {},
   "outputs": [
    {
     "data": {
      "text/plain": [
       "1"
      ]
     },
     "execution_count": 58,
     "metadata": {},
     "output_type": "execute_result"
    }
   ],
   "source": [
    "smallest(grid)"
   ]
  },
  {
   "cell_type": "code",
   "execution_count": null,
   "id": "9fac3c99",
   "metadata": {},
   "outputs": [],
   "source": []
  }
 ],
 "metadata": {
  "kernelspec": {
   "display_name": "Python 3 (ipykernel)",
   "language": "python",
   "name": "python3"
  },
  "language_info": {
   "codemirror_mode": {
    "name": "ipython",
    "version": 3
   },
   "file_extension": ".py",
   "mimetype": "text/x-python",
   "name": "python",
   "nbconvert_exporter": "python",
   "pygments_lexer": "ipython3",
   "version": "3.10.9"
  }
 },
 "nbformat": 4,
 "nbformat_minor": 5
}
