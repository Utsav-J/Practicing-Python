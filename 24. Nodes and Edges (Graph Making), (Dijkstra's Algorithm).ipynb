{
 "cells": [
  {
   "cell_type": "code",
   "execution_count": 60,
   "id": "b9a6a43f",
   "metadata": {},
   "outputs": [],
   "source": [
    "class Graph:\n",
    "    def __init__(self,routes):\n",
    "        self.routes = routes\n",
    "        self.edges = {}\n",
    "        for start,end in self.routes:\n",
    "            if start in self.edges:\n",
    "                self.edges[start].append(end)\n",
    "            else:\n",
    "                self.edges[start] = [end]\n",
    "    \n",
    "    def all_routes(self,start,end,path = []):\n",
    "        path = path + [start]\n",
    "        \n",
    "        if start == end:\n",
    "            return [path]\n",
    "        if start not in self.edges:\n",
    "            return []\n",
    "        \n",
    "        all_paths = []\n",
    "        \n",
    "        for dest in self.edges[start]:\n",
    "                if dest not in path:\n",
    "                    new_paths = self.all_routes(dest,end,path)\n",
    "                    for p in new_paths:\n",
    "                        all_paths.append(p)\n",
    "        #dont use any pre-used variable in the for loop\n",
    "        #### dont use for path in new_paths, it will not append all the paths in new_paths, \n",
    "        #### instead it will onyl append the old variable\n",
    "        return all_paths\n",
    "    \n",
    "    def shortest(self,start,end):\n",
    "        all_paths = self.all_routes(start,end)\n",
    "        min_stops = 50  # will store path,stops\n",
    "        for item in all_paths:\n",
    "            current = int(len(item) - 1) #3 items doesnt mean 3 stops, it is 2 stops\n",
    "            if current < min_stops:\n",
    "                min_stops = current\n",
    "                short_path = [item]\n",
    "                \n",
    "            elif current == min_stops:\n",
    "                short_path.append(item)\n",
    "        \n",
    "        return f'Shortest path shall be {short_path}, with {min_stops} stops.'\n",
    "            \n",
    "                "
   ]
  },
  {
   "cell_type": "code",
   "execution_count": 61,
   "id": "0d5699b1",
   "metadata": {},
   "outputs": [],
   "source": [
    "routes = [('ktm','del'), ('del','chen'),('del','bang') ,('ktm','bang'), ('bang' , 'chen'),]\n",
    "g = Graph(routes)"
   ]
  },
  {
   "cell_type": "code",
   "execution_count": 62,
   "id": "208d4185",
   "metadata": {},
   "outputs": [
    {
     "data": {
      "text/plain": [
       "[['ktm', 'del', 'chen'],\n",
       " ['ktm', 'del', 'bang', 'chen'],\n",
       " ['ktm', 'bang', 'chen']]"
      ]
     },
     "execution_count": 62,
     "metadata": {},
     "output_type": "execute_result"
    }
   ],
   "source": [
    "g.all_routes('ktm','chen')"
   ]
  },
  {
   "cell_type": "code",
   "execution_count": 63,
   "id": "882e14a6",
   "metadata": {},
   "outputs": [
    {
     "data": {
      "text/plain": [
       "\"Shortest path shall be [['ktm', 'del', 'chen'], ['ktm', 'bang', 'chen']], with 2 stops.\""
      ]
     },
     "execution_count": 63,
     "metadata": {},
     "output_type": "execute_result"
    }
   ],
   "source": [
    "g.shortest('ktm','chen')"
   ]
  }
 ],
 "metadata": {
  "kernelspec": {
   "display_name": "Python 3 (ipykernel)",
   "language": "python",
   "name": "python3"
  },
  "language_info": {
   "codemirror_mode": {
    "name": "ipython",
    "version": 3
   },
   "file_extension": ".py",
   "mimetype": "text/x-python",
   "name": "python",
   "nbconvert_exporter": "python",
   "pygments_lexer": "ipython3",
   "version": "3.10.9"
  }
 },
 "nbformat": 4,
 "nbformat_minor": 5
}
