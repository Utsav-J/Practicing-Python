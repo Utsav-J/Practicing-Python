{
 "cells": [
  {
   "cell_type": "code",
   "execution_count": 21,
   "id": "1eb17826",
   "metadata": {},
   "outputs": [],
   "source": [
    "#https://www.geeksforgeeks.org/breadth-first-search-or-bfs-for-a-graph/\n",
    "#https://youtu.be/tswq532WVF4"
   ]
  },
  {
   "cell_type": "code",
   "execution_count": 20,
   "id": "3d5bdf63",
   "metadata": {},
   "outputs": [],
   "source": [
    "import collections"
   ]
  },
  {
   "cell_type": "code",
   "execution_count": 152,
   "id": "82c32452",
   "metadata": {},
   "outputs": [],
   "source": [
    "class Graph:\n",
    "    def __init__(self,nodes):\n",
    "        self.edges = nodes\n",
    "        self.graph = {}\n",
    "        for first,second in self.edges:\n",
    "            if first in  self.graph:\n",
    "                self.graph[first].append(second)\n",
    "            else:\n",
    "                self.graph[first] = [second]\n",
    "    \n",
    "    def BFS(self,root):\n",
    "        \"\"\"\n",
    "        traversal in BFS format\n",
    "        \"\"\"\n",
    "        #traverse in a way that it will display all the other vertices that are directly connected to the starting node\n",
    "        #first it shall display 1,2,3 are connected to 0 and then only\n",
    "        # it will then go thru other breadths\n",
    "        \n",
    "        visited = [] # will store all the vertices\n",
    "        queue = collections.deque([root]) #creates a queue structure with the root item\n",
    "        \n",
    "        while queue: #performs operations until the queue is empty\n",
    "            vertex = queue.popleft() # once i have dequeued this vertex, we will enqueue all the nodes connected to this element\n",
    "            if vertex not in visited:\n",
    "                visited.append(vertex)\n",
    "            \n",
    "            for item in self.graph[vertex]:\n",
    "                if item not in visited:\n",
    "                    visited.append(item)\n",
    "                    queue.append(item)\n",
    "        return visited\n",
    "    \n",
    "    def DFSTraverse(self,root,visited):\n",
    "        visited.add(root)\n",
    "        print(f\"AT: {root}\")\n",
    "        \n",
    "        for item in self.graph[root]:\n",
    "            if item not in visited:\n",
    "                self.DFSTraverse(item,visited)\n",
    "    \n",
    "    def DFS(self,root):\n",
    "        \"\"\"\n",
    "        traversal in DFS format\n",
    "        \"\"\"\n",
    "        visited = set()\n",
    "        \n",
    "        self.DFSTraverse(root,visited)\n",
    "        \n",
    "    def find_path(self,start,end,path = []): #another use of DFS principle\n",
    "        path = path + [start]\n",
    "        \n",
    "        if start == end:\n",
    "            return [path]\n",
    "        \n",
    "        if start not in self.graph:\n",
    "            return []\n",
    "        \n",
    "        paths = []\n",
    "        for item in self.graph[start]:\n",
    "            if item not in path:\n",
    "                new = self.find_path(item,end,path)\n",
    "                for n in new:\n",
    "                    paths.append(n)\n",
    "        return paths"
   ]
  },
  {
   "cell_type": "code",
   "execution_count": null,
   "id": "9f9827ac",
   "metadata": {},
   "outputs": [],
   "source": []
  }
 ],
 "metadata": {
  "kernelspec": {
   "display_name": "Python 3 (ipykernel)",
   "language": "python",
   "name": "python3"
  },
  "language_info": {
   "codemirror_mode": {
    "name": "ipython",
    "version": 3
   },
   "file_extension": ".py",
   "mimetype": "text/x-python",
   "name": "python",
   "nbconvert_exporter": "python",
   "pygments_lexer": "ipython3",
   "version": "3.10.9"
  }
 },
 "nbformat": 4,
 "nbformat_minor": 5
}
