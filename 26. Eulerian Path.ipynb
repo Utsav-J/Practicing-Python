{
 "cells": [
  {
   "cell_type": "code",
   "execution_count": 3,
   "id": "ab8f9016",
   "metadata": {},
   "outputs": [],
   "source": [
    "graph_dict = {0:[], 1:[2,3], 2:[2,4,4], 3:[1,2,5], 4:[3,6], 5:[6], 6:[3] }\n",
    "# 0 was added at first to make the index values easy"
   ]
  },
  {
   "cell_type": "code",
   "execution_count": 6,
   "id": "6499d5c4",
   "metadata": {},
   "outputs": [],
   "source": [
    "class Graph:\n",
    "    \n",
    "    def __init__(self,graph_dict):\n",
    "        self.dic = graph_dict\n",
    "    \n",
    "    def in_out(self):\n",
    "        '''\n",
    "        returns two dictionaries with <node name>:out degrees and same for in degrees\n",
    "        '''\n",
    "    \n",
    "    #counting out degrees\n",
    "        out_deg = {}\n",
    "        for key in self.dic:\n",
    "            out_deg[key] = (len(self.dic[key]))\n",
    "\n",
    "        \n",
    "    #counting in degrees\n",
    "        in_deg = {i:0 for i in self.dic} #initially all the nodes are assigned an in value of 0\n",
    "        for key in self.dic:\n",
    "            for val in self.dic[key]:\n",
    "                in_deg[val] += 1\n",
    "    \n",
    "        return out_deg,in_deg\n",
    "\n",
    "    def vertices_no(self):\n",
    "        list_of_all = []\n",
    "        for key in self.dic:\n",
    "        \n",
    "            list_of_all.append(key)\n",
    "            for val in self.dic[key]:\n",
    "                list_of_all.append(val)\n",
    "    \n",
    "        return set(list_of_all), len(set(list_of_all))\n",
    "\n",
    "    def edge_count(self):\n",
    "    #every in degree for one node is an out degree for another node\n",
    "    # so we can find the number of edges in this way:\n",
    "        out_deg = self.in_out(self.dic)[0]\n",
    "        return sum(list(out_deg.values()))\n",
    "\n",
    "    def check_eulerian(self):\n",
    "        out_deg = self.in_out()[0]\n",
    "        in_deg = self.in_out()[1]\n",
    "    # a graph has eulerian circuit(as well as path) if every node has equal number of in degrees and out degrees\n",
    "    # a graph has eulerian path if:\n",
    "        # AT MOST 1 node has outdeg - indeg == 1 ----> will be our starting node\n",
    "        # AT MOST 1 node has indeg - outdeg == 1 ----> will be our ending node\n",
    "        \n",
    "        start_node,end_node = 0,0\n",
    "    \n",
    "    #checking presence of equal indegrees and outdegrees\n",
    "        equal_in_out = False\n",
    "        out_deg = self.in_out()[0]\n",
    "        in_deg = self.in_out()[1]\n",
    "        if sum(list(out_deg.values())) == sum(list(in_deg.values())):\n",
    "            equal_in_out = True\n",
    "                \n",
    "    #checking presence of starting node and ending node        \n",
    "        start_end = False\n",
    "        for i in range(len(self.dic)):\n",
    "            more_out = 0 # counts how many have more outdeg than indeg\n",
    "            more_in = 0 # counts how many have more indeg than outdeg\n",
    "            if out_deg[i] - in_deg[i] > 0:\n",
    "                if  out_deg[i] - in_deg[i] == 1:\n",
    "                    more_out += 1\n",
    "                    start_node = i\n",
    "            if  in_deg[i] - out_deg[i] > 0:\n",
    "                if  in_deg[i] - out_deg[i] == 1:\n",
    "                    more_in += 1\n",
    "                    end_node = i\n",
    "        \n",
    "        if (more_out == 1) and (more_in == 1):\n",
    "            start_end = True\n",
    "        \n",
    "        return equal_in_out or start_end\n",
    "        \n",
    "            \n",
    "    def start_end(self):\n",
    "        out_deg = self.in_out()[0]\n",
    "        in_deg = self.in_out()[1]\n",
    "        if self.check_eulerian():\n",
    "            \n",
    "            start_node,end_node = 0,0\n",
    "        \n",
    "            for i in range(len(self.dic)):\n",
    "                if out_deg[i] - in_deg[i] > 0:\n",
    "                    if  out_deg[i] - in_deg[i] == 1:\n",
    "                        start_node = i\n",
    "                if  in_deg[i] - out_deg[i] > 0:\n",
    "                    if  in_deg[i] - out_deg[i] == 1:\n",
    "                        end_node = i \n",
    "        return start_node,end_node\n",
    "    \n",
    "    def DFSTraverse(self,node,visited):\n",
    "        visited.add(node)\n",
    "        print(node)\n",
    "        for item in self.dic[node]:\n",
    "            if item not in visited:\n",
    "                self.DFSTraverse(item,visited)\n",
    "        \n",
    "        \n",
    "    def DFS(self,start_node):\n",
    "        visited = set()\n",
    "        \n",
    "        self.DFSTraverse(start_node,visited)\n",
    "        \n",
    "        \n",
    "        \n",
    "        "
   ]
  },
  {
   "cell_type": "code",
   "execution_count": null,
   "id": "fe73eabe",
   "metadata": {},
   "outputs": [],
   "source": []
  },
  {
   "cell_type": "code",
   "execution_count": 7,
   "id": "2ac761ea",
   "metadata": {},
   "outputs": [],
   "source": [
    "g = Graph(graph_dict)"
   ]
  },
  {
   "cell_type": "code",
   "execution_count": 9,
   "id": "2a9c82c7",
   "metadata": {},
   "outputs": [
    {
     "name": "stdout",
     "output_type": "stream",
     "text": [
      "1\n",
      "2\n",
      "4\n",
      "3\n",
      "5\n",
      "6\n"
     ]
    }
   ],
   "source": [
    "g.DFS(1)"
   ]
  },
  {
   "cell_type": "code",
   "execution_count": null,
   "id": "054ffbc3",
   "metadata": {},
   "outputs": [],
   "source": [
    "out = in_out(graph_dict)[0]"
   ]
  },
  {
   "cell_type": "code",
   "execution_count": null,
   "id": "2cb9af4f",
   "metadata": {},
   "outputs": [],
   "source": [
    "out"
   ]
  },
  {
   "cell_type": "code",
   "execution_count": null,
   "id": "93e17d76",
   "metadata": {
    "scrolled": true
   },
   "outputs": [],
   "source": [
    "sum(list(inn.values()))"
   ]
  },
  {
   "cell_type": "code",
   "execution_count": null,
   "id": "4c911aed",
   "metadata": {},
   "outputs": [],
   "source": [
    "sum(list(out.values()))"
   ]
  },
  {
   "cell_type": "code",
   "execution_count": null,
   "id": "89f3f188",
   "metadata": {
    "scrolled": true
   },
   "outputs": [],
   "source": [
    "vertices_no(graph_dict)"
   ]
  },
  {
   "cell_type": "code",
   "execution_count": null,
   "id": "d24a351b",
   "metadata": {},
   "outputs": [],
   "source": []
  }
 ],
 "metadata": {
  "kernelspec": {
   "display_name": "Python 3 (ipykernel)",
   "language": "python",
   "name": "python3"
  },
  "language_info": {
   "codemirror_mode": {
    "name": "ipython",
    "version": 3
   },
   "file_extension": ".py",
   "mimetype": "text/x-python",
   "name": "python",
   "nbconvert_exporter": "python",
   "pygments_lexer": "ipython3",
   "version": "3.10.9"
  }
 },
 "nbformat": 4,
 "nbformat_minor": 5
}
