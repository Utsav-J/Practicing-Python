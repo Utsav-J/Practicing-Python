{
 "cells": [
  {
   "cell_type": "code",
   "execution_count": 5,
   "id": "40ca0171",
   "metadata": {},
   "outputs": [],
   "source": [
    "def reverse_string(string):\n",
    "    rev = []\n",
    "    for letter in string[::-1]:\n",
    "        rev.append(letter)\n",
    "    \n",
    "    return ''.join(rev).capitalize()\n",
    "        "
   ]
  },
  {
   "cell_type": "code",
   "execution_count": 8,
   "id": "75c96dc0",
   "metadata": {},
   "outputs": [],
   "source": [
    "def check_palindrome(string):\n",
    "    if string.lower() == reverse_string(string).lower():\n",
    "        print(\"It is a palindrome\")\n",
    "    else:\n",
    "        print(\"Not a palindrome\")"
   ]
  },
  {
   "cell_type": "code",
   "execution_count": 10,
   "id": "afece902",
   "metadata": {},
   "outputs": [
    {
     "name": "stdout",
     "output_type": "stream",
     "text": [
      "Please enter a string here: Racecar\n",
      "The reverse form of that string is \n",
      "\n",
      "Racecar\n",
      "It is a palindrome\n"
     ]
    }
   ],
   "source": [
    "if __name__ == \"__main__\":\n",
    "    user_input = input('Please enter a string here: ')\n",
    "    print(\"The reverse form of that string is \\n\")\n",
    "    print(reverse_string(user_input))\n",
    "    check_palindrome(user_input)\n",
    "    "
   ]
  },
  {
   "cell_type": "code",
   "execution_count": null,
   "id": "efe4c963",
   "metadata": {},
   "outputs": [],
   "source": []
  }
 ],
 "metadata": {
  "kernelspec": {
   "display_name": "Python 3 (ipykernel)",
   "language": "python",
   "name": "python3"
  },
  "language_info": {
   "codemirror_mode": {
    "name": "ipython",
    "version": 3
   },
   "file_extension": ".py",
   "mimetype": "text/x-python",
   "name": "python",
   "nbconvert_exporter": "python",
   "pygments_lexer": "ipython3",
   "version": "3.10.9"
  }
 },
 "nbformat": 4,
 "nbformat_minor": 5
}
