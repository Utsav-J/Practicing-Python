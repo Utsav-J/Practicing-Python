{
 "cells": [
  {
   "cell_type": "raw",
   "id": "3ae95f2f",
   "metadata": {},
   "source": [
    "Most words in Pig Latin end in \"ay.\" Use the rules below to translate normal English into Pig Latin.\n",
    "\n",
    "1. If a word starts with a consonant and a vowel, put the first letter of the word at the end of the word and add \"ay.\"\n",
    "\n",
    "Example: Happy = appyh + ay = appyhay\n",
    "\n",
    "\n",
    "2. If a word starts with two consonants move the two consonants to the end of the word and add \"ay.\"\n",
    "\n",
    "Example: Child = Ildch + ay = Ildchay\n",
    "\n",
    "\n",
    "3. If a word starts with a vowel add the word \"way\" at the end of the word.\n",
    "\n",
    "Example: Awesome = Awesome +way = Awesomeway"
   ]
  },
  {
   "cell_type": "code",
   "execution_count": 88,
   "id": "c3b5684f",
   "metadata": {},
   "outputs": [],
   "source": [
    "def word_translate(word):\n",
    "            vowel_in_word = False\n",
    "            for vowel in ['a','e','i','u','o']:\n",
    "                for letter in word:\n",
    "                    if letter == vowel:\n",
    "                        vowel_in_word = True\n",
    "                        break\n",
    "            if vowel_in_word:\n",
    "        \n",
    "        \n",
    "                #if it starts with a vowel\n",
    "                if word.lower()[0] in ['a','e','i','u','o']:\n",
    "                    new_word = word + 'way'\n",
    "                    return new_word.lower()\n",
    "            \n",
    "            \n",
    "            \n",
    "                else:\n",
    "                    for letter in word:\n",
    "                        if letter in ['a','e','i','u','o']:\n",
    "                \n",
    "                            vowel_index = word.index(letter) #getting index of the first occurence of a vowel\n",
    "                            frontal = word[0:vowel_index] #the part upto the vowel\n",
    "                            new_word = word[vowel_index:] + frontal + 'ay' \n",
    "                                       # appy +                 h +       ay           = appyhay\n",
    "                    \n",
    "                            return new_word.lower()\n",
    "            \n",
    "            \n",
    "            else:\n",
    "                return word"
   ]
  },
  {
   "cell_type": "code",
   "execution_count": 98,
   "id": "1ef2338c",
   "metadata": {},
   "outputs": [],
   "source": [
    "def piglatin(sentence):\n",
    "    pig_sentence = []\n",
    "    for word in sentence.split():\n",
    "    \n",
    "        # if the word is purely made of letters only\n",
    "        if word.isalpha():\n",
    "            new_word = word_translate(word)\n",
    "            \n",
    "            if sentence.split()[0] == word:\n",
    "                pig_sentence.append(new_word.capitalize())\n",
    "            else:\n",
    "                pig_sentence.append(new_word)\n",
    "        \n",
    "        #if the word is a number then keep it as it is\n",
    "        elif word.isdigit():\n",
    "            pig_sentence.append(word)\n",
    "        \n",
    "        \n",
    "        for item in ['.',',','!','?']:\n",
    "        \n",
    "            if item in word:\n",
    "                new_word = word_translate(word).replace(item,'') + item\n",
    "                #`transfer that mark into the last spot\n",
    "                pig_sentence.append(new_word)\n",
    "        \n",
    "        if '-' in word:\n",
    "            new_word = word_translate(word).replace('-','')\n",
    "            pig_sentence.append(new_word)\n",
    "        \n",
    "        if \"'\" in word:\n",
    "            new_word = word_translate(word).replace(\"'\",'')\n",
    "            pig_sentence.append(new_word)\n",
    "            \n",
    "    return ' '.join(pig_sentence)"
   ]
  },
  {
   "cell_type": "code",
   "execution_count": 99,
   "id": "b1caf8e6",
   "metadata": {},
   "outputs": [
    {
     "name": "stdout",
     "output_type": "stream",
     "text": [
      "Enter a sentence to be translated into pig latin: i'm 18 years old.\n",
      "That sentence in pig latin: \n",
      "\n",
      "imway 18 earsyay oldway.\n"
     ]
    }
   ],
   "source": [
    "if __name__ == \"__main__\":\n",
    "    user_input = input(\"Enter a sentence to be translated into pig latin: \")\n",
    "    print(\"That sentence in pig latin: \\n\")\n",
    "    print(piglatin(user_input))"
   ]
  },
  {
   "cell_type": "code",
   "execution_count": null,
   "id": "d114f534",
   "metadata": {},
   "outputs": [],
   "source": []
  }
 ],
 "metadata": {
  "kernelspec": {
   "display_name": "Python 3 (ipykernel)",
   "language": "python",
   "name": "python3"
  },
  "language_info": {
   "codemirror_mode": {
    "name": "ipython",
    "version": 3
   },
   "file_extension": ".py",
   "mimetype": "text/x-python",
   "name": "python",
   "nbconvert_exporter": "python",
   "pygments_lexer": "ipython3",
   "version": "3.10.9"
  }
 },
 "nbformat": 4,
 "nbformat_minor": 5
}
