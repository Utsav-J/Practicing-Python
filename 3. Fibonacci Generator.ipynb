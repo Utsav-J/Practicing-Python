{
 "cells": [
  {
   "cell_type": "code",
   "execution_count": 1,
   "id": "78184fb8",
   "metadata": {},
   "outputs": [
    {
     "name": "stdout",
     "output_type": "stream",
     "text": [
      "Please enter a number: 20\n"
     ]
    }
   ],
   "source": [
    "def ask_for_input():\n",
    "    while True:\n",
    "        user_input = input(\"Please enter a number: \")\n",
    "        if user_input.isdigit():\n",
    "            number = int(user_input)\n",
    "            break\n",
    "        else:\n",
    "            print(\"Please enter a valid number: \")\n",
    "    return number\n",
    "\n",
    "n = ask_for_input()\n",
    "            \n",
    "\n",
    "def fibo_gen(n):\n",
    "    a = 1\n",
    "    b = 1\n",
    "    for num in range(n):\n",
    "        \n",
    "        yield a\n",
    "        a,b=b,a+b"
   ]
  },
  {
   "cell_type": "code",
   "execution_count": 10,
   "id": "392a8c19",
   "metadata": {
    "scrolled": true
   },
   "outputs": [
    {
     "name": "stdout",
     "output_type": "stream",
     "text": [
      "1\n",
      "1\n",
      "2\n",
      "3\n",
      "5\n",
      "8\n",
      "13\n",
      "21\n",
      "34\n",
      "55\n",
      "89\n",
      "144\n",
      "233\n",
      "377\n",
      "610\n",
      "987\n",
      "1597\n",
      "2584\n",
      "4181\n",
      "6765\n"
     ]
    }
   ],
   "source": [
    "for item in fibo_gen(n):\n",
    "    print(item)"
   ]
  },
  {
   "cell_type": "code",
   "execution_count": null,
   "id": "6c77a213",
   "metadata": {},
   "outputs": [],
   "source": []
  }
 ],
 "metadata": {
  "kernelspec": {
   "display_name": "Python 3 (ipykernel)",
   "language": "python",
   "name": "python3"
  },
  "language_info": {
   "codemirror_mode": {
    "name": "ipython",
    "version": 3
   },
   "file_extension": ".py",
   "mimetype": "text/x-python",
   "name": "python",
   "nbconvert_exporter": "python",
   "pygments_lexer": "ipython3",
   "version": "3.10.9"
  }
 },
 "nbformat": 4,
 "nbformat_minor": 5
}
