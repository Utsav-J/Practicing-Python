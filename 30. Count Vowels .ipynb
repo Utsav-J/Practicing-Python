{
 "cells": [
  {
   "cell_type": "code",
   "execution_count": 43,
   "id": "8c1a8089",
   "metadata": {},
   "outputs": [
    {
     "name": "stdout",
     "output_type": "stream",
     "text": [
      "Enter any word: utsav\n",
      "\n",
      "    Here's the result\n",
      "    Total Vowels: 2\n",
      "    a: 1\n",
      "    e: 0\n",
      "    i: 0\n",
      "    o: 0\n",
      "    u: 1\n",
      "    \n",
      "    Total Unique Cosonants: 3\n",
      "    (s,v,t)\n",
      "    \n",
      "    \n"
     ]
    }
   ],
   "source": [
    "if __name__ == '__main__':\n",
    "    user_input = input(\"Enter any word: \")\n",
    "    print(vowel_count(user_input))"
   ]
  },
  {
   "cell_type": "code",
   "execution_count": 42,
   "id": "0e3a8fae",
   "metadata": {},
   "outputs": [],
   "source": [
    "def vowel_count(word):\n",
    "    vowels = ['a','e','i','o','u']\n",
    "    vowel_count = {item:0 for item in vowels}\n",
    "    cons=[]\n",
    "    \n",
    "    for vowel in vowels:\n",
    "        for letter in word.lower():\n",
    "            if letter == vowel:\n",
    "                vowel_count[vowel] += 1\n",
    "    \n",
    "    for letter in word.lower():\n",
    "        if (letter not in vowels) and (letter != ' '):\n",
    "            cons.append(letter)\n",
    "                \n",
    "                \n",
    "    vowels = sum(list(vowel_count.values()))\n",
    "    consonants = len(word) - vowels\n",
    "    a = vowel_count['a']\n",
    "    e = vowel_count['e']\n",
    "    i = vowel_count['i']\n",
    "    o = vowel_count['o']\n",
    "    u = vowel_count['u']\n",
    "    \n",
    "    return f'''\n",
    "    Here's the result\n",
    "    Total Vowels: {vowels}\n",
    "    a: {a}\n",
    "    e: {e}\n",
    "    i: {i}\n",
    "    o: {o}\n",
    "    u: {u}\n",
    "    \n",
    "    Total Unique Cosonants: {len(set(cons))}\n",
    "    ({','.join(set(cons))})\n",
    "    \n",
    "    '''"
   ]
  }
 ],
 "metadata": {
  "kernelspec": {
   "display_name": "Python 3 (ipykernel)",
   "language": "python",
   "name": "python3"
  },
  "language_info": {
   "codemirror_mode": {
    "name": "ipython",
    "version": 3
   },
   "file_extension": ".py",
   "mimetype": "text/x-python",
   "name": "python",
   "nbconvert_exporter": "python",
   "pygments_lexer": "ipython3",
   "version": "3.10.9"
  }
 },
 "nbformat": 4,
 "nbformat_minor": 5
}
