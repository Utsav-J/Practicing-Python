{
 "cells": [
  {
   "cell_type": "code",
   "execution_count": 1,
   "id": "eaffcbfe",
   "metadata": {},
   "outputs": [],
   "source": [
    "#Prime Factorization - Have the user enter a number and find all Prime Factors (if there are any) and display them."
   ]
  },
  {
   "cell_type": "code",
   "execution_count": 11,
   "id": "f72d8504",
   "metadata": {},
   "outputs": [],
   "source": [
    "#finding the prime numbers upto 100 for now\n",
    "prime_numbers = [2,3]\n",
    "for num in range(5,101):\n",
    "    counter = 0\n",
    "    for n in range(1,num+1):\n",
    "        if num % n == 0:\n",
    "            counter += 1\n",
    "    if counter <= 2:\n",
    "        prime_numbers.append(num)"
   ]
  },
  {
   "cell_type": "code",
   "execution_count": 14,
   "id": "1c3dad61",
   "metadata": {},
   "outputs": [
    {
     "name": "stdout",
     "output_type": "stream",
     "text": [
      "2\n",
      "3\n",
      "5\n",
      "7\n",
      "11\n",
      "13\n",
      "17\n",
      "19\n",
      "23\n",
      "29\n",
      "31\n",
      "37\n",
      "41\n",
      "43\n",
      "47\n",
      "53\n",
      "59\n",
      "61\n",
      "67\n",
      "71\n",
      "73\n",
      "79\n",
      "83\n",
      "89\n",
      "97\n"
     ]
    }
   ],
   "source": [
    "for item in prime_numbers:\n",
    "    print(item)"
   ]
  },
  {
   "cell_type": "code",
   "execution_count": 15,
   "id": "d080786c",
   "metadata": {},
   "outputs": [],
   "source": [
    "def prime_factors(user_number):\n",
    "    counter = 0\n",
    "    for num in range(1,user_number+1):\n",
    "        \n",
    "        \n",
    "        if user_number % num == 0:\n",
    "            if num in prime_numbers:\n",
    "                counter += 1\n",
    "                print(f'{num} is a prime factor.[{counter}]')\n",
    "        "
   ]
  },
  {
   "cell_type": "code",
   "execution_count": 17,
   "id": "4a655cb6",
   "metadata": {},
   "outputs": [
    {
     "name": "stdout",
     "output_type": "stream",
     "text": [
      "2 is a prime factor.[1]\n",
      "3 is a prime factor.[2]\n",
      "5 is a prime factor.[3]\n"
     ]
    }
   ],
   "source": [
    "prime_factors(120)"
   ]
  },
  {
   "cell_type": "code",
   "execution_count": 1,
   "id": "77275a45",
   "metadata": {},
   "outputs": [],
   "source": [
    "import math\n"
   ]
  },
  {
   "cell_type": "code",
   "execution_count": 5,
   "id": "616601e7",
   "metadata": {},
   "outputs": [
    {
     "data": {
      "text/plain": [
       "8"
      ]
     },
     "execution_count": 5,
     "metadata": {},
     "output_type": "execute_result"
    }
   ],
   "source": [
    "int(math.sqrt(54)+1)"
   ]
  },
  {
   "cell_type": "code",
   "execution_count": 12,
   "id": "bbada92b",
   "metadata": {},
   "outputs": [],
   "source": [
    "import math\n",
    "\n",
    "def prime_factors(n):\n",
    "    #while the number is even\n",
    "    while n % 2 == 0:\n",
    "        print(2)\n",
    "        n =n/2\n",
    "    #at this point the number isnt div by 2 i.e it is now odd\n",
    "    \n",
    "    for num in range(3,int(math.sqrt(n)+1),2):\n",
    "        while n % num == 0: #if use garyo bhane tyo number lai 1 choti use garera next number jancha, so while use gareko cha\n",
    "            print(num)\n",
    "            n = n/num\n",
    "    if n > 2:\n",
    "        print(n)"
   ]
  },
  {
   "cell_type": "code",
   "execution_count": 14,
   "id": "dad2e0cd",
   "metadata": {},
   "outputs": [
    {
     "name": "stdout",
     "output_type": "stream",
     "text": [
      "2\n",
      "2\n",
      "2\n",
      "3\n",
      "5.0\n"
     ]
    }
   ],
   "source": [
    "prime_factors(120)"
   ]
  },
  {
   "cell_type": "code",
   "execution_count": null,
   "id": "19d95990",
   "metadata": {},
   "outputs": [],
   "source": []
  }
 ],
 "metadata": {
  "kernelspec": {
   "display_name": "Python 3 (ipykernel)",
   "language": "python",
   "name": "python3"
  },
  "language_info": {
   "codemirror_mode": {
    "name": "ipython",
    "version": 3
   },
   "file_extension": ".py",
   "mimetype": "text/x-python",
   "name": "python",
   "nbconvert_exporter": "python",
   "pygments_lexer": "ipython3",
   "version": "3.10.9"
  }
 },
 "nbformat": 4,
 "nbformat_minor": 5
}
