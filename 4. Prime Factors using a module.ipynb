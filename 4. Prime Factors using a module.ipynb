{
 "cells": [
  {
   "cell_type": "code",
   "execution_count": 3,
   "id": "eb9cd7ae",
   "metadata": {},
   "outputs": [],
   "source": [
    "from primePy import primes"
   ]
  },
  {
   "cell_type": "code",
   "execution_count": 2,
   "id": "c2ed5f79",
   "metadata": {},
   "outputs": [],
   "source": [
    "# https://www.geeksforgeeks.org/primepy-module-in-python/"
   ]
  },
  {
   "cell_type": "code",
   "execution_count": 6,
   "id": "dbade534",
   "metadata": {},
   "outputs": [
    {
     "name": "stdout",
     "output_type": "stream",
     "text": [
      "Please enter a number: 120\n",
      "2 is a prime factor.\n",
      "3 is a prime factor.\n",
      "5 is a prime factor.\n"
     ]
    }
   ],
   "source": [
    "def getting_user_input():\n",
    "    while True:\n",
    "        user_input = input(\"Please enter a number: \")\n",
    "        if user_input.isdigit():\n",
    "            return int(user_input)\n",
    "            break\n",
    "        else:\n",
    "            print('Please enter a valid integer:')\n",
    "            \n",
    "            \n",
    "number = getting_user_input()\n",
    "\n",
    "\n",
    "for item in set(primes.factors(number)): #without putting the set method, it will repeat the prime numbers\n",
    "    print(f'{item} is a prime factor.')"
   ]
  },
  {
   "cell_type": "code",
   "execution_count": null,
   "id": "240f0ff1",
   "metadata": {},
   "outputs": [],
   "source": []
  }
 ],
 "metadata": {
  "kernelspec": {
   "display_name": "Python 3 (ipykernel)",
   "language": "python",
   "name": "python3"
  },
  "language_info": {
   "codemirror_mode": {
    "name": "ipython",
    "version": 3
   },
   "file_extension": ".py",
   "mimetype": "text/x-python",
   "name": "python",
   "nbconvert_exporter": "python",
   "pygments_lexer": "ipython3",
   "version": "3.10.9"
  }
 },
 "nbformat": 4,
 "nbformat_minor": 5
}
