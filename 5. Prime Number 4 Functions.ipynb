{
 "cells": [
  {
   "cell_type": "raw",
   "id": "4fdfe4ca",
   "metadata": {},
   "source": [
    "Next Prime Number - Have the program find prime numbers until the user chooses to stop asking for the next one."
   ]
  },
  {
   "cell_type": "code",
   "execution_count": 6,
   "id": "7286dc1e",
   "metadata": {},
   "outputs": [],
   "source": [
    "from primePy import primes\n",
    "from math import inf"
   ]
  },
  {
   "cell_type": "code",
   "execution_count": 61,
   "id": "3abce807",
   "metadata": {},
   "outputs": [],
   "source": [
    "def next_prime(num):\n",
    "    while True: \n",
    "        if primes.check(num):\n",
    "            return num\n",
    "            num += 1\n",
    "        else:\n",
    "            num +=1"
   ]
  },
  {
   "cell_type": "code",
   "execution_count": 68,
   "id": "de57f66f",
   "metadata": {},
   "outputs": [],
   "source": [
    "def generating_next_prime():\n",
    "    i = 2\n",
    "    while True: \n",
    "        print(i)\n",
    "        print('Press \"Yes\" for more,\"Done\" to stop.')\n",
    "        user_input = input(\"Do you wanna generate more?: \")\n",
    "        if user_input[0].upper() == 'D':\n",
    "            break\n",
    "        elif user_input == '':\n",
    "            i +=1\n",
    "            i = next_prime(i)\n",
    "        else:\n",
    "            i +=1\n",
    "            i = next_prime(i)"
   ]
  },
  {
   "cell_type": "code",
   "execution_count": 105,
   "id": "4a3927f4",
   "metadata": {},
   "outputs": [],
   "source": [
    "def generating_nth_prime():\n",
    "    while True:\n",
    "        n = (input(\"Please enter the value of n that you would like: (78498 is the limit)\"))\n",
    "        if n.isdigit():\n",
    "            if int(n) > 78498:\n",
    "                print(\"Please dont cross the limit.\")\n",
    "            else:\n",
    "                n = int(n)\n",
    "                break\n",
    "        else:\n",
    "            print(\"Please enter a valid integer\")\n",
    "        #print(\"You exceeded the limit\")\n",
    "    \n",
    "    final_primes = primes.upto(100000)+primes.between(100001,999999)\n",
    "    return f'The {n}th prime number is {final_primes[n-1]}'"
   ]
  },
  {
   "cell_type": "code",
   "execution_count": 125,
   "id": "eb472f2f",
   "metadata": {},
   "outputs": [],
   "source": [
    "def generating_primes_upto():\n",
    "    while True:\n",
    "        n = (input(\"Please enter the value of n that you would like: (100k is the limit)\"))\n",
    "        if n.isdigit():\n",
    "            if int(n) > 100000:\n",
    "                print(\"Please dont cross the limit.\")\n",
    "            else:\n",
    "                num = int(n)\n",
    "                break\n",
    "        else:\n",
    "            print(\"Please enter a valid integer\")\n",
    "        \n",
    "    return primes.upto(num)\n",
    "           "
   ]
  },
  {
   "cell_type": "code",
   "execution_count": 114,
   "id": "7202b0ba",
   "metadata": {},
   "outputs": [
    {
     "name": "stdout",
     "output_type": "stream",
     "text": [
      "[2, 3, 5, 7, 11, 13, 17, 19, 23, 29, 31, 37, 41, 43, 47, 53, 59, 61, 67, 71, 73, 79, 83, 89, 97, 101, 103, 107, 109, 113]\n"
     ]
    }
   ],
   "source": [
    "print(primes.upto(125))"
   ]
  },
  {
   "cell_type": "code",
   "execution_count": 134,
   "id": "c8384e02",
   "metadata": {},
   "outputs": [],
   "source": [
    "def generating_first_primes():\n",
    "    while True:\n",
    "        n = (input(\"Please enter the value of n that you would like: (78498 is the limit)\"))\n",
    "        if n.isdigit():\n",
    "            if int(n) > 78498:\n",
    "                print(\"Please dont cross the limit.\")\n",
    "            else:\n",
    "                n = int(n)\n",
    "                break\n",
    "        else:\n",
    "            print(\"Please enter a valid integer\")\n",
    "        \n",
    "    return primes.first(n)"
   ]
  },
  {
   "cell_type": "code",
   "execution_count": null,
   "id": "f71eac0e",
   "metadata": {},
   "outputs": [],
   "source": []
  },
  {
   "cell_type": "code",
   "execution_count": 136,
   "id": "7817e4f7",
   "metadata": {},
   "outputs": [
    {
     "name": "stdout",
     "output_type": "stream",
     "text": [
      "\n",
      "    What do you wanna use? Press the number beside them\n",
      "    1. Generating Next Prime Number Till You Wanna Stop.\n",
      "    2. Generating 'n'th prime number, n will be of your choice\n",
      "    3. Generating prime numbers upto n, n will be of your choice\n",
      "    4. Generating first n prime numbers, n will be of your choice\n",
      "    5\n",
      "Math time over, its yuri time \n"
     ]
    }
   ],
   "source": [
    "if __name__ == \"__main__\":\n",
    "    user_says = input('''\n",
    "    What do you wanna use? Press the number beside them\n",
    "    1. Generating Next Prime Number Till You Wanna Stop.\n",
    "    2. Generating 'n'th prime number, n will be of your choice\n",
    "    3. Generating prime numbers upto n, n will be of your choice\n",
    "    4. Generating first n prime numbers, n will be of your choice\n",
    "    ''')\n",
    "    \n",
    "    if user_says == '1':\n",
    "        print(generating_next_prime())\n",
    "    elif user_says == '2':\n",
    "        print(generating_nth_prime())\n",
    "    elif user_says == '3':\n",
    "        #generating_primes_upto()\n",
    "        for item in generating_primes_upto():\n",
    "            print(item)\n",
    "    elif user_says == '4':\n",
    "        for item in (generating_first_primes()):\n",
    "            print(item)\n",
    "    else:\n",
    "        print(\"Math time over, its yuri time \")"
   ]
  },
  {
   "cell_type": "code",
   "execution_count": 71,
   "id": "67559ce3",
   "metadata": {},
   "outputs": [
    {
     "name": "stdout",
     "output_type": "stream",
     "text": [
      "2\n",
      "Press \"Yes\" for more,\"Done\" to stop.\n",
      "Do you wanna generate more?: s\n",
      "3\n",
      "Press \"Yes\" for more,\"Done\" to stop.\n",
      "Do you wanna generate more?: s\n",
      "5\n",
      "Press \"Yes\" for more,\"Done\" to stop.\n",
      "Do you wanna generate more?: done\n"
     ]
    }
   ],
   "source": [
    "generating_next_prime()"
   ]
  },
  {
   "cell_type": "code",
   "execution_count": 90,
   "id": "3f3fa806",
   "metadata": {},
   "outputs": [],
   "source": [
    "\n",
    "final_primes = primes.upto(100000)+primes.between(100001,999999)"
   ]
  },
  {
   "cell_type": "code",
   "execution_count": 99,
   "id": "fbe9ff04",
   "metadata": {},
   "outputs": [
    {
     "name": "stdout",
     "output_type": "stream",
     "text": [
      "Please enter the value of n that you would like: (78498 is the limit)asdasd\n",
      "Give a valid integer\n",
      "Please enter the value of n that you would like: (78498 is the limit)asdasd\n"
     ]
    },
    {
     "ename": "ValueError",
     "evalue": "invalid literal for int() with base 10: 'asdasd'",
     "output_type": "error",
     "traceback": [
      "\u001b[1;31m---------------------------------------------------------------------------\u001b[0m",
      "\u001b[1;31mValueError\u001b[0m                                Traceback (most recent call last)",
      "Cell \u001b[1;32mIn[99], line 2\u001b[0m\n\u001b[0;32m      1\u001b[0m \u001b[38;5;28;01mtry\u001b[39;00m:\n\u001b[1;32m----> 2\u001b[0m     n \u001b[38;5;241m=\u001b[39m \u001b[38;5;28;43mint\u001b[39;49m\u001b[43m(\u001b[49m\u001b[38;5;28;43minput\u001b[39;49m\u001b[43m(\u001b[49m\u001b[38;5;124;43m\"\u001b[39;49m\u001b[38;5;124;43mPlease enter the value of n that you would like: (78498 is the limit)\u001b[39;49m\u001b[38;5;124;43m\"\u001b[39;49m\u001b[43m)\u001b[49m\u001b[43m)\u001b[49m\n\u001b[0;32m      3\u001b[0m \u001b[38;5;66;03m#except n > 78498:\u001b[39;00m\n\u001b[0;32m      4\u001b[0m   \u001b[38;5;66;03m##  print(\"You exceeded the limit\")\u001b[39;00m\n\u001b[0;32m      5\u001b[0m   \u001b[38;5;66;03m#  n = int(input(\"Please enter the value of n that you would like: (78498 is the limit)\"))\u001b[39;00m\n",
      "\u001b[1;31mValueError\u001b[0m: invalid literal for int() with base 10: 'asdasd'",
      "\nDuring handling of the above exception, another exception occurred:\n",
      "\u001b[1;31mValueError\u001b[0m                                Traceback (most recent call last)",
      "Cell \u001b[1;32mIn[99], line 8\u001b[0m\n\u001b[0;32m      6\u001b[0m \u001b[38;5;28;01mexcept\u001b[39;00m:\n\u001b[0;32m      7\u001b[0m     \u001b[38;5;28mprint\u001b[39m(\u001b[38;5;124m\"\u001b[39m\u001b[38;5;124mGive a valid integer\u001b[39m\u001b[38;5;124m\"\u001b[39m)\n\u001b[1;32m----> 8\u001b[0m     n \u001b[38;5;241m=\u001b[39m \u001b[38;5;28;43mint\u001b[39;49m\u001b[43m(\u001b[49m\u001b[38;5;28;43minput\u001b[39;49m\u001b[43m(\u001b[49m\u001b[38;5;124;43m\"\u001b[39;49m\u001b[38;5;124;43mPlease enter the value of n that you would like: (78498 is the limit)\u001b[39;49m\u001b[38;5;124;43m\"\u001b[39;49m\u001b[43m)\u001b[49m\u001b[43m)\u001b[49m\n",
      "\u001b[1;31mValueError\u001b[0m: invalid literal for int() with base 10: 'asdasd'"
     ]
    }
   ],
   "source": []
  },
  {
   "cell_type": "code",
   "execution_count": null,
   "id": "87a24bc4",
   "metadata": {},
   "outputs": [],
   "source": []
  }
 ],
 "metadata": {
  "kernelspec": {
   "display_name": "Python 3 (ipykernel)",
   "language": "python",
   "name": "python3"
  },
  "language_info": {
   "codemirror_mode": {
    "name": "ipython",
    "version": 3
   },
   "file_extension": ".py",
   "mimetype": "text/x-python",
   "name": "python",
   "nbconvert_exporter": "python",
   "pygments_lexer": "ipython3",
   "version": "3.10.9"
  }
 },
 "nbformat": 4,
 "nbformat_minor": 5
}
