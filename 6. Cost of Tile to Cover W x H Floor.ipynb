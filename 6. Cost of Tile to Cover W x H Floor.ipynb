{
 "cells": [
  {
   "cell_type": "code",
   "execution_count": 15,
   "id": "02c5d8fa",
   "metadata": {},
   "outputs": [
    {
     "name": "stdout",
     "output_type": "stream",
     "text": [
      "Are you entering the dimensions in feet or metres?: cm\n",
      "Please enter a valid response\n",
      "Are you entering the dimensions in feet or metres?: metres\n",
      "Please enter the width of your rooms floor in metres(enter only number): 5\n",
      "Please enter the length of your rooms floor in metres(enter only number): 6\n",
      "Are you entering the price of covering per feet or metres?: f\n",
      "Please enter the price of covering per sq feet.(enter only number): 0.5\n",
      "The price of covering for your 5.0x6.0 room will be Rs.162\n"
     ]
    }
   ],
   "source": [
    "from math import ceil\n",
    "\n",
    "if __name__ == \"__main__\":\n",
    "    while True:\n",
    "        feet_or_meters = input(\"Are you entering the dimensions in feet or metres?: \")\n",
    "        if feet_or_meters[0].upper() == 'F':\n",
    "            responses = ask_for_feet()\n",
    "            area_in_metres = responses[0]\n",
    "            width = responses[1]\n",
    "            length = responses[2]\n",
    "            break\n",
    "            \n",
    "            \n",
    "        elif feet_or_meters[0].upper() == 'M':\n",
    "            responses = ask_for_metres()\n",
    "            area_in_metres= responses[0]\n",
    "            width = responses[1]\n",
    "            length = responses[2]\n",
    "            break\n",
    "        else:\n",
    "            print(\"Please enter a valid response\")\n",
    "            \n",
    "            \n",
    "    while True:\n",
    "        price_feet_or_meters = input(\"Are you entering the price of covering per feet or metres?: \")\n",
    "        if price_feet_or_meters[0].upper() == 'F':\n",
    "            result = price_for_feet(area_in_metres)\n",
    "            break\n",
    "        elif price_feet_or_meters[0].upper() == 'M':\n",
    "            result = price_for_metres(area_in_metres)\n",
    "            break\n",
    "        else:\n",
    "            print(\"Please enter a valid response\")     \n",
    "    \n",
    "    \n",
    "    print(f\"The price of covering for your {width}x{length} room will be Rs.{ceil(result)}\")"
   ]
  },
  {
   "cell_type": "code",
   "execution_count": 11,
   "id": "434a3b16",
   "metadata": {},
   "outputs": [],
   "source": [
    "def ask_for_feet():\n",
    "    while True:\n",
    "        try:\n",
    "            feet_width = input(\"Please enter the width of your rooms floor in feet(enter only number): \")\n",
    "            width = float(feet_width)\n",
    "            break\n",
    "        except:\n",
    "            print('Please enter a number only!')\n",
    "            \n",
    "            \n",
    "            \n",
    "    while True:\n",
    "        try:\n",
    "            feet_length = input(\"Please enter the length of your rooms floor in feet(enter only number): \")\n",
    "            length = float(feet_length)\n",
    "            break\n",
    "        except:\n",
    "            print('Please enter a number only!')\n",
    "            \n",
    "            \n",
    "            \n",
    "    area_of_floor = (length/3.281)*(width/3.281)\n",
    "    return area_of_floor,width,length\n"
   ]
  },
  {
   "cell_type": "code",
   "execution_count": 12,
   "id": "e8b015c0",
   "metadata": {},
   "outputs": [],
   "source": [
    "def ask_for_metres():\n",
    "    while True:\n",
    "        try:\n",
    "            metres_width = input(\"Please enter the width of your rooms floor in metres(enter only number): \")\n",
    "            width = float(metres_width)\n",
    "            break\n",
    "        except:\n",
    "            print('Please enter a number only!')\n",
    "            \n",
    "            \n",
    "            \n",
    "    while True:\n",
    "        try:\n",
    "            metres_length = input(\"Please enter the length of your rooms floor in metres(enter only number): \")\n",
    "            length = float(metres_length)\n",
    "            break\n",
    "        except:\n",
    "            print('Please enter a number only!')\n",
    "            \n",
    "            \n",
    "            \n",
    "    area_of_floor = (length)*(width)\n",
    "    return area_of_floor,width,length"
   ]
  },
  {
   "cell_type": "code",
   "execution_count": 13,
   "id": "15bc3b80",
   "metadata": {},
   "outputs": [],
   "source": [
    "def price_for_feet(area_in_metres):\n",
    "    while True:\n",
    "        try:\n",
    "            feet_price = input(\"Please enter the price of covering per sq feet.(enter only number): \")\n",
    "            price = float(feet_price)\n",
    "            break\n",
    "        except:\n",
    "            print('Please enter a number only!')\n",
    "    \n",
    "    price = price*10.764\n",
    "    total_cost = area_in_metres*price\n",
    "    return total_cost"
   ]
  },
  {
   "cell_type": "code",
   "execution_count": 14,
   "id": "a6f3535f",
   "metadata": {},
   "outputs": [],
   "source": [
    "def price_for_metres(area_in_metres):\n",
    "    while True:\n",
    "        try:\n",
    "            metres_price = input(\"Please enter the price of covering per sq metres.(enter only number): \")\n",
    "            price = float(metres_price)\n",
    "            break\n",
    "        except:\n",
    "            print('Please enter a number only!')\n",
    "    \n",
    "    #price = price*10.764\n",
    "    total_cost = area_in_metres*price\n",
    "    return total_cost"
   ]
  },
  {
   "cell_type": "code",
   "execution_count": null,
   "id": "1d3c5a09",
   "metadata": {},
   "outputs": [],
   "source": []
  },
  {
   "cell_type": "code",
   "execution_count": null,
   "id": "ec4c9f45",
   "metadata": {},
   "outputs": [],
   "source": []
  }
 ],
 "metadata": {
  "kernelspec": {
   "display_name": "Python 3 (ipykernel)",
   "language": "python",
   "name": "python3"
  },
  "language_info": {
   "codemirror_mode": {
    "name": "ipython",
    "version": 3
   },
   "file_extension": ".py",
   "mimetype": "text/x-python",
   "name": "python",
   "nbconvert_exporter": "python",
   "pygments_lexer": "ipython3",
   "version": "3.10.9"
  }
 },
 "nbformat": 4,
 "nbformat_minor": 5
}
