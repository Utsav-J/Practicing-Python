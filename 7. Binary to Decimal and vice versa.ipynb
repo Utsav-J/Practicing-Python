{
 "cells": [
  {
   "cell_type": "code",
   "execution_count": 4,
   "id": "aee31613",
   "metadata": {},
   "outputs": [
    {
     "name": "stdout",
     "output_type": "stream",
     "text": [
      "Do you wanna convert:\n",
      "                    1. Binary to Decimal, or\n",
      "                    2. Decimal to Binary\n",
      "        Enter 1 or 2\n",
      "                    1\n",
      "Enter the number in binary that you wanna convert: (eg.1010101)10\n",
      "The decimal value of the binary number 10 is 2.\n",
      "Do you wanna convert more numbers? Yes or No: yes\n",
      "Do you wanna convert:\n",
      "                    1. Binary to Decimal, or\n",
      "                    2. Decimal to Binary\n",
      "        Enter 1 or 2\n",
      "                    2\n",
      "Please enter the decimal number you wanna conert(eg. 12500) 12\n",
      "The binary value of the decimal number 12 is 1100\n",
      "Do you wanna convert more numbers? Yes or No: no\n"
     ]
    }
   ],
   "source": [
    "if __name__ == \"__main__\":\n",
    "    wanna_convert = True\n",
    "    asking = True\n",
    "    while wanna_convert:\n",
    "        while asking:\n",
    "            \n",
    "            try:\n",
    "                ask_user = input('''Do you wanna convert:\n",
    "                    1. Binary to Decimal, or\n",
    "                    2. Decimal to Binary\n",
    "        Enter 1 or 2\n",
    "                    ''')\n",
    "                user_input = int(ask_user)\n",
    "                if user_input in [1,2]:\n",
    "                    asking = False\n",
    "                else:\n",
    "                    print(\"Enter only 1 or 2\")\n",
    "            except:\n",
    "                print('Please enter only the number for the command.')\n",
    "            \n",
    "            \n",
    "    \n",
    "    \n",
    "    \n",
    "#while wanna_convert:\n",
    "        if user_input == 1:\n",
    "            binary_input, decimal_result = bin_to_dec()\n",
    "            print(f\"The decimal value of the binary number {binary_input} is {decimal_result}.\")\n",
    "        else:\n",
    "            decimal_input,binary_result = dec_to_bin()\n",
    "            print(f\"The binary value of the decimal number {decimal_input} is {binary_result}\")\n",
    "    \n",
    "#ask if they still wanna convert\n",
    "        user_input = input(\"Do you wanna convert more numbers? Yes or No: \")\n",
    "        if user_input[0].upper() == \"Y\":\n",
    "            wanna_convert = True\n",
    "            asking = True\n",
    "        else:\n",
    "            wanna_convert = False\n"
   ]
  },
  {
   "cell_type": "code",
   "execution_count": 1,
   "id": "aa8a027d",
   "metadata": {},
   "outputs": [],
   "source": [
    "def dec_to_bin():\n",
    "    while True:\n",
    "        try:\n",
    "            user_input = input(\"Please enter the decimal number you wanna conert(eg. 12500) \")\n",
    "            decimal_entry = int(user_input)\n",
    "            break\n",
    "        except:\n",
    "\n",
    "            print(\"Please enter the decimal format number only\")\n",
    "    \n",
    "    binary_result = bin(decimal_entry)[2:]    #returns a string omitting the 0b prefix of binary numbers \n",
    "            \n",
    "            \n",
    "    return decimal_entry,int(binary_result) #converting the above string into numerical format"
   ]
  },
  {
   "cell_type": "code",
   "execution_count": 2,
   "id": "c46232d9",
   "metadata": {},
   "outputs": [],
   "source": [
    "def bin_to_dec():\n",
    "    while True:\n",
    "                \n",
    "                binary_input = input('Enter the number in binary that you wanna convert: (eg.1010101)')\n",
    "                #binary_input = '0b' + binary_input\n",
    "                #0b101010\n",
    "                if binary_input.isdigit():\n",
    "                    \n",
    "                    if (('2' in binary_input) or ('3' in binary_input) or ('4' in binary_input) or ('5' in binary_input) or ('6' in binary_input) or ('7' in binary_input)or('8' in binary_input) or ('9' in binary_input)):\n",
    "                        print(\"Thats not a valid number. Binary consists of only 1s and 0s\")\n",
    "                    else:\n",
    "                        break\n",
    "                else :\n",
    "                    print(\"Thats not a valid number. Binary consists of only 1s and 0s, you might have added letters\")\n",
    "                #upto now the binary_input looks something like \"1010\" or \"01010\"\n",
    "                #to convert into binary syntax format of python:\n",
    "                \n",
    "    return int(binary_input), int(binary_input,2)"
   ]
  },
  {
   "cell_type": "code",
   "execution_count": null,
   "id": "ce43c15f",
   "metadata": {},
   "outputs": [],
   "source": []
  }
 ],
 "metadata": {
  "kernelspec": {
   "display_name": "Python 3 (ipykernel)",
   "language": "python",
   "name": "python3"
  },
  "language_info": {
   "codemirror_mode": {
    "name": "ipython",
    "version": 3
   },
   "file_extension": ".py",
   "mimetype": "text/x-python",
   "name": "python",
   "nbconvert_exporter": "python",
   "pygments_lexer": "ipython3",
   "version": "3.10.9"
  }
 },
 "nbformat": 4,
 "nbformat_minor": 5
}
