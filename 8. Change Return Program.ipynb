{
 "cells": [
  {
   "cell_type": "code",
   "execution_count": 1,
   "id": "1d481056",
   "metadata": {},
   "outputs": [],
   "source": [
    "#The user enters a cost and then the amount of money given. The program will figure out the change \n",
    "#and the number of quarters, dimes, nickels, pennies needed for the change."
   ]
  },
  {
   "cell_type": "raw",
   "id": "7081486f",
   "metadata": {},
   "source": [
    "1. ask user for the cost of item\n",
    "2. ask for the money that you gave\n",
    "3. calculate the return\n",
    "4. convert the return amount in quarters(0.25), dimes(0.10), nickels(0.05), pennies(0.01)"
   ]
  },
  {
   "cell_type": "code",
   "execution_count": 9,
   "id": "1c4930ee",
   "metadata": {},
   "outputs": [
    {
     "name": "stdout",
     "output_type": "stream",
     "text": [
      "How much was the item that you paid for?(Enter only the price without currency) 54.89\n",
      "How much money did you pay? (Enter only the price without currency) 100\n",
      "Your expected returns are:\n",
      "                  45 dollars, \n",
      "                  0 quarters,\n",
      "                  1 dimes,\n",
      "                  0 nickels, and\n",
      "                  1 pennies. \n",
      "Do you wanna calculate more? Yes or No?: No\n"
     ]
    }
   ],
   "source": [
    "if __name__ == \"__main__\":\n",
    "    calculate_more = True\n",
    "    while calculate_more:\n",
    "        #item_price = cost_of_item()\n",
    "        #money_given = money_given()\n",
    "        item_price,money_given = cost_of_item()\n",
    "        return_money = money_given - item_price\n",
    "        dollars,quarter_count,dime_count,nickel_count,penny_count = convert_money(return_money)\n",
    "        \n",
    "        print(f'''Your expected returns are:\n",
    "                  {dollars} dollars, \n",
    "                  {quarter_count} quarters,\n",
    "                  {dime_count} dimes,\n",
    "                  {nickel_count} nickels, and\n",
    "                  {penny_count} pennies. ''')\n",
    "        yes_or_no = input(\"Do you wanna calculate more? Yes or No?: \")\n",
    "        if yes_or_no[0].upper() == \"Y\":\n",
    "            calculate_more = True\n",
    "        else:\n",
    "            calculate_more = False"
   ]
  },
  {
   "cell_type": "code",
   "execution_count": 2,
   "id": "eaa3d28d",
   "metadata": {},
   "outputs": [],
   "source": [
    "def cost_of_item():\n",
    "    while True: \n",
    "        while True:\n",
    "            try:\n",
    "                user_input = input(\"How much was the item that you paid for?(Enter only the price without currency) \")\n",
    "                item_price = float(user_input)\n",
    "                break\n",
    "            except:\n",
    "                print(\"Please enter the valid price and also omit the currency symbol,eg 1.25,120,0.6 \")\n",
    "    \n",
    "    \n",
    "        while True:\n",
    "            try:\n",
    "                user_input = input(\"How much money did you pay? (Enter only the price without currency) \")\n",
    "                money_given = float(user_input)\n",
    "                break\n",
    "            except:\n",
    "                print(\"Please enter the valid amount and also omit the currency symbol,eg 1.25,120 \")\n",
    "                \n",
    "        if money_given < item_price:\n",
    "            print(\"You havent given enough money it seems. Check again\")\n",
    "        else:\n",
    "            break\n",
    "            \n",
    "    return item_price,money_given"
   ]
  },
  {
   "cell_type": "code",
   "execution_count": 3,
   "id": "604d4f6f",
   "metadata": {},
   "outputs": [],
   "source": [
    "def convert_money(return_money):\n",
    "    dollars,remains = str(return_money).split('.')\n",
    "    dollars,remains = int(dollars),int(remains)\n",
    "    quarter_count,dime_count,nickel_count,penny_count = 0,0,0,0\n",
    "    \n",
    "    while remains - 25 >= 0 :\n",
    "        remains -= 25\n",
    "        quarter_count += 1\n",
    "            \n",
    "    while remains - 10 >= 0:\n",
    "        remains -= 10\n",
    "        dime_count += 1\n",
    "            \n",
    "    while remains - 5 >= 0:\n",
    "        remains -= 5\n",
    "        nickel_count += 1\n",
    "            \n",
    "    while remains - 1 >= 0:\n",
    "        remains -= 1\n",
    "        penny_count += 1\n",
    "            \n",
    "            \n",
    "    return dollars,quarter_count,dime_count,nickel_count,penny_count\n",
    "        \n",
    "        \n",
    "        \n",
    "    \n",
    "    "
   ]
  },
  {
   "cell_type": "code",
   "execution_count": 29,
   "id": "b3553212",
   "metadata": {
    "scrolled": true
   },
   "outputs": [
    {
     "data": {
      "text/plain": [
       "(16, 3, 2, 0, 4)"
      ]
     },
     "execution_count": 29,
     "metadata": {},
     "output_type": "execute_result"
    }
   ],
   "source": [
    "convert_money(16.99)"
   ]
  },
  {
   "cell_type": "raw",
   "id": "8010c5d3",
   "metadata": {},
   "source": [
    "remains = 99\n",
    "quarter_count,dime_count,nickel_count,penny_count = 0,0,0,0\n",
    "while remains - 25 >= 0 :\n",
    "    remains -= 25\n",
    "    quarter_count += 1\n",
    "            \n",
    "while remains - 10 >=0:\n",
    "    remains -= 10\n",
    "    dime_count += 1\n",
    "            \n",
    "while remains - 5 >=0:\n",
    "    remains -= 5\n",
    "    nickel_count += 1\n",
    "            \n",
    "while remains - 1 >=0:\n",
    "    remains -= 1\n",
    "    penny_count += 1"
   ]
  }
 ],
 "metadata": {
  "kernelspec": {
   "display_name": "Python 3 (ipykernel)",
   "language": "python",
   "name": "python3"
  },
  "language_info": {
   "codemirror_mode": {
    "name": "ipython",
    "version": 3
   },
   "file_extension": ".py",
   "mimetype": "text/x-python",
   "name": "python",
   "nbconvert_exporter": "python",
   "pygments_lexer": "ipython3",
   "version": "3.10.9"
  }
 },
 "nbformat": 4,
 "nbformat_minor": 5
}
