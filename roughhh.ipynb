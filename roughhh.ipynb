{
 "cells": [
  {
   "cell_type": "raw",
   "id": "2320e008",
   "metadata": {},
   "source": [
    "roughh"
   ]
  },
  {
   "cell_type": "code",
   "execution_count": 2,
   "id": "6d635f56",
   "metadata": {},
   "outputs": [],
   "source": [
    "import winsound\n",
    "import time\n",
    "import calendar"
   ]
  },
  {
   "cell_type": "code",
   "execution_count": null,
   "id": "6db7e8ce",
   "metadata": {},
   "outputs": [],
   "source": [
    "timern = time.localtime()\n",
    "yearday = 0\n",
    "for days in calendar.mdays[1: timern.tm_mon]:\n",
    "    print(days)\n",
    "    yearday = yearday + days\n",
    "yearday = yearday + timern.tm_mday\n",
    "\n",
    "time_obj= time.struct_time(tm_year=2022, tm_mon=12, tm_mday=21, tm_hour=22, tm_min=45, tm_sec=0, tm_wday=calendar.weekday(2022,12,21), tm_yday=yearday, tm_isdst=0)\n"
   ]
  },
  {
   "cell_type": "code",
   "execution_count": 3,
   "id": "fe19607b",
   "metadata": {},
   "outputs": [],
   "source": [
    "import datetime"
   ]
  },
  {
   "cell_type": "code",
   "execution_count": 4,
   "id": "aea0efff",
   "metadata": {},
   "outputs": [],
   "source": [
    "four_four = datetime.datetime(2022,12,21,16,4,0)"
   ]
  },
  {
   "cell_type": "code",
   "execution_count": 5,
   "id": "e2392fbc",
   "metadata": {},
   "outputs": [],
   "source": [
    "four_thirty = datetime.datetime(2022,12,21,16,30,0)"
   ]
  },
  {
   "cell_type": "code",
   "execution_count": 7,
   "id": "06a6fa1f",
   "metadata": {},
   "outputs": [],
   "source": [
    "difference = four_thirty - four_four"
   ]
  },
  {
   "cell_type": "code",
   "execution_count": 9,
   "id": "37d7bd9a",
   "metadata": {},
   "outputs": [
    {
     "data": {
      "text/plain": [
       "1560"
      ]
     },
     "execution_count": 9,
     "metadata": {},
     "output_type": "execute_result"
    }
   ],
   "source": [
    "difference.seconds"
   ]
  },
  {
   "cell_type": "code",
   "execution_count": 23,
   "id": "eff1ea5d",
   "metadata": {},
   "outputs": [
    {
     "data": {
      "text/plain": [
       "datetime.datetime(2022, 12, 21, 16, 12, 46, 902269)"
      ]
     },
     "execution_count": 23,
     "metadata": {},
     "output_type": "execute_result"
    }
   ],
   "source": [
    "datetime.datetime(2022,12,29).now()"
   ]
  },
  {
   "cell_type": "code",
   "execution_count": 3,
   "id": "8dc28b0a",
   "metadata": {},
   "outputs": [],
   "source": [
    "import haversine"
   ]
  },
  {
   "cell_type": "code",
   "execution_count": 5,
   "id": "521f3887",
   "metadata": {},
   "outputs": [
    {
     "data": {
      "text/plain": [
       "812.8670518152067"
      ]
     },
     "execution_count": 5,
     "metadata": {},
     "output_type": "execute_result"
    }
   ],
   "source": [
    "ktm = (27.7172, 85.3240)\n",
    "delh = (28.7041, 77.1025)\n",
    "\n",
    "haversine.haversine(ktm,delh, unit = 'km')"
   ]
  },
  {
   "cell_type": "code",
   "execution_count": 44,
   "id": "f1c8979e",
   "metadata": {},
   "outputs": [
    {
     "data": {
      "text/plain": [
       "(<Unit.KILOMETERS: 'km'>,\n",
       " <Unit.METERS: 'm'>,\n",
       " <Unit.MILES: 'mi'>,\n",
       " <Unit.NAUTICAL_MILES: 'nmi'>,\n",
       " <Unit.FEET: 'ft'>,\n",
       " <Unit.INCHES: 'in'>,\n",
       " <Unit.RADIANS: 'rad'>,\n",
       " <Unit.DEGREES: 'deg'>)"
      ]
     },
     "execution_count": 44,
     "metadata": {},
     "output_type": "execute_result"
    }
   ],
   "source": [
    "tuple(haversine.Unit)"
   ]
  },
  {
   "cell_type": "code",
   "execution_count": 8,
   "id": "45bd6d59",
   "metadata": {
    "scrolled": true
   },
   "outputs": [
    {
     "ename": "TypeError",
     "evalue": "must be real number, not builtin_function_or_method",
     "output_type": "error",
     "traceback": [
      "\u001b[1;31m---------------------------------------------------------------------------\u001b[0m",
      "\u001b[1;31mTypeError\u001b[0m                                 Traceback (most recent call last)",
      "Cell \u001b[1;32mIn[8], line 1\u001b[0m\n\u001b[1;32m----> 1\u001b[0m \u001b[43mhaversine\u001b[49m\u001b[38;5;241;43m.\u001b[39;49m\u001b[43minverse_haversine\u001b[49m\u001b[43m(\u001b[49m\u001b[43mktm\u001b[49m\u001b[43m,\u001b[49m\u001b[38;5;241;43m800\u001b[39;49m\u001b[43m,\u001b[49m\u001b[43mhaversine\u001b[49m\u001b[38;5;241;43m.\u001b[39;49m\u001b[43mDirection\u001b[49m\u001b[38;5;241;43m.\u001b[39;49m\u001b[43mmro\u001b[49m\u001b[43m)\u001b[49m\n",
      "File \u001b[1;32m~\\AppData\\Local\\Packages\\PythonSoftwareFoundation.Python.3.10_qbz5n2kfra8p0\\LocalCache\\local-packages\\Python310\\site-packages\\haversine\\haversine.py:211\u001b[0m, in \u001b[0;36minverse_haversine\u001b[1;34m(point, distance, direction, unit)\u001b[0m\n\u001b[0;32m    207\u001b[0m r \u001b[38;5;241m=\u001b[39m get_avg_earth_radius(unit)\n\u001b[0;32m    208\u001b[0m brng \u001b[38;5;241m=\u001b[39m direction\u001b[38;5;241m.\u001b[39mvalue \u001b[38;5;28;01mif\u001b[39;00m \u001b[38;5;28misinstance\u001b[39m(direction, Direction) \u001b[38;5;28;01melse\u001b[39;00m direction\n\u001b[0;32m    210\u001b[0m return_lat \u001b[38;5;241m=\u001b[39m asin(sin(lat) \u001b[38;5;241m*\u001b[39m cos(d \u001b[38;5;241m/\u001b[39m r) \u001b[38;5;241m+\u001b[39m cos(lat)\n\u001b[1;32m--> 211\u001b[0m                   \u001b[38;5;241m*\u001b[39m sin(d \u001b[38;5;241m/\u001b[39m r) \u001b[38;5;241m*\u001b[39m \u001b[43mcos\u001b[49m\u001b[43m(\u001b[49m\u001b[43mbrng\u001b[49m\u001b[43m)\u001b[49m)\n\u001b[0;32m    212\u001b[0m return_lng \u001b[38;5;241m=\u001b[39m lng \u001b[38;5;241m+\u001b[39m atan2(sin(brng) \u001b[38;5;241m*\u001b[39m sin(d \u001b[38;5;241m/\u001b[39m r) \u001b[38;5;241m*\u001b[39m\n\u001b[0;32m    213\u001b[0m                          cos(lat), cos(d \u001b[38;5;241m/\u001b[39m r) \u001b[38;5;241m-\u001b[39m sin(lat) \u001b[38;5;241m*\u001b[39m sin(return_lat))\n\u001b[0;32m    215\u001b[0m return_lat, return_lng \u001b[38;5;241m=\u001b[39m \u001b[38;5;28mmap\u001b[39m(degrees, (return_lat, return_lng))\n",
      "\u001b[1;31mTypeError\u001b[0m: must be real number, not builtin_function_or_method"
     ]
    }
   ],
   "source": [
    "haversine.inverse_haversine(ktm,800,haversine.Direction.)"
   ]
  },
  {
   "cell_type": "code",
   "execution_count": 9,
   "id": "84e6d6ad",
   "metadata": {},
   "outputs": [],
   "source": [
    "from geopy import Nominatim"
   ]
  },
  {
   "cell_type": "code",
   "execution_count": 10,
   "id": "da46254f",
   "metadata": {},
   "outputs": [],
   "source": [
    "geolocator = Nominatim(user_agent = \"Utsav\")"
   ]
  },
  {
   "cell_type": "code",
   "execution_count": 14,
   "id": "67d70b93",
   "metadata": {},
   "outputs": [],
   "source": [
    "orchid = geolocator.geocode('Orchid College, Kathmandu')"
   ]
  },
  {
   "cell_type": "code",
   "execution_count": 48,
   "id": "47c7b0aa",
   "metadata": {},
   "outputs": [
    {
     "data": {
      "text/plain": [
       "['Orchid College', ' Sinamangal Marg']"
      ]
     },
     "execution_count": 48,
     "metadata": {},
     "output_type": "execute_result"
    }
   ],
   "source": [
    "orchid.address.split(',')[0:2]"
   ]
  },
  {
   "cell_type": "code",
   "execution_count": 25,
   "id": "2b30f763",
   "metadata": {},
   "outputs": [],
   "source": [
    "gu = geolocator.geocode(\"ajksgrhkqwgkfq\")"
   ]
  },
  {
   "cell_type": "code",
   "execution_count": 39,
   "id": "7b33a7f6",
   "metadata": {},
   "outputs": [
    {
     "data": {
      "text/plain": [
       "True"
      ]
     },
     "execution_count": 39,
     "metadata": {},
     "output_type": "execute_result"
    }
   ],
   "source": [
    "type([1,2]) == list"
   ]
  },
  {
   "cell_type": "code",
   "execution_count": 40,
   "id": "7ab88493",
   "metadata": {},
   "outputs": [],
   "source": [
    "none_object = None"
   ]
  },
  {
   "cell_type": "code",
   "execution_count": 41,
   "id": "b4b143d7",
   "metadata": {},
   "outputs": [
    {
     "data": {
      "text/plain": [
       "NoneType"
      ]
     },
     "execution_count": 41,
     "metadata": {},
     "output_type": "execute_result"
    }
   ],
   "source": [
    "type(none_object)"
   ]
  },
  {
   "cell_type": "code",
   "execution_count": null,
   "id": "fb6e0867",
   "metadata": {},
   "outputs": [],
   "source": [
    "haversine.haversine()"
   ]
  },
  {
   "cell_type": "code",
   "execution_count": 50,
   "id": "68b6c3fe",
   "metadata": {},
   "outputs": [
    {
     "ename": "SyntaxError",
     "evalue": "invalid syntax (2071138886.py, line 2)",
     "output_type": "error",
     "traceback": [
      "\u001b[1;36m  Cell \u001b[1;32mIn[50], line 2\u001b[1;36m\u001b[0m\n\u001b[1;33m    if letter.\u001b[0m\n\u001b[1;37m              ^\u001b[0m\n\u001b[1;31mSyntaxError\u001b[0m\u001b[1;31m:\u001b[0m invalid syntax\n"
     ]
    }
   ],
   "source": [
    "for letter in 'hello'[::-2]:\n",
    "    if letter."
   ]
  },
  {
   "cell_type": "code",
   "execution_count": 57,
   "id": "38c9c5d9",
   "metadata": {},
   "outputs": [
    {
     "ename": "TypeError",
     "evalue": "index() takes at least 1 argument (0 given)",
     "output_type": "error",
     "traceback": [
      "\u001b[1;31m---------------------------------------------------------------------------\u001b[0m",
      "\u001b[1;31mTypeError\u001b[0m                                 Traceback (most recent call last)",
      "Cell \u001b[1;32mIn[57], line 3\u001b[0m\n\u001b[0;32m      1\u001b[0m odd_sum \u001b[38;5;241m=\u001b[39m \u001b[38;5;241m0\u001b[39m\n\u001b[0;32m      2\u001b[0m \u001b[38;5;28;01mfor\u001b[39;00m digit \u001b[38;5;129;01min\u001b[39;00m \u001b[38;5;124m'\u001b[39m\u001b[38;5;124m1234123412341234\u001b[39m\u001b[38;5;124m'\u001b[39m[::\u001b[38;5;241m-\u001b[39m\u001b[38;5;241m1\u001b[39m]:\n\u001b[1;32m----> 3\u001b[0m         \u001b[38;5;28mprint\u001b[39m(\u001b[43mdigit\u001b[49m\u001b[38;5;241;43m.\u001b[39;49m\u001b[43mindex\u001b[49m\u001b[43m(\u001b[49m\u001b[43m)\u001b[49m)\n",
      "\u001b[1;31mTypeError\u001b[0m: index() takes at least 1 argument (0 given)"
     ]
    }
   ],
   "source": [
    "odd_sum = 0\n",
    "for digit in '1234123412341234'[::-1]:\n",
    "        digit."
   ]
  },
  {
   "cell_type": "code",
   "execution_count": 72,
   "id": "5d178e7a",
   "metadata": {},
   "outputs": [],
   "source": [
    "reversed_number = []\n",
    "for digit in'1234123412341234'[::-1]:\n",
    "    reversed_number.append(digit)\n",
    "reversed_number = ''.join(reversed_number)"
   ]
  },
  {
   "cell_type": "code",
   "execution_count": 73,
   "id": "7c43725f",
   "metadata": {},
   "outputs": [
    {
     "data": {
      "text/plain": [
       "'4321432143214321'"
      ]
     },
     "execution_count": 73,
     "metadata": {},
     "output_type": "execute_result"
    }
   ],
   "source": [
    "reversed_number"
   ]
  },
  {
   "cell_type": "code",
   "execution_count": 85,
   "id": "fbcc107e",
   "metadata": {},
   "outputs": [],
   "source": [
    "odd_sum=0\n",
    "even_places = []\n",
    "for digit in '4921432143214321'[::2]:\n",
    "    odd_sum += int(digit)\n",
    "    \n",
    "for digit in '4921432143214321'[1::2]:\n",
    "    even_places.append(digit)"
   ]
  },
  {
   "cell_type": "code",
   "execution_count": 86,
   "id": "d5a2799f",
   "metadata": {},
   "outputs": [
    {
     "data": {
      "text/plain": [
       "24"
      ]
     },
     "execution_count": 86,
     "metadata": {},
     "output_type": "execute_result"
    }
   ],
   "source": [
    "odd_sum"
   ]
  },
  {
   "cell_type": "code",
   "execution_count": 87,
   "id": "8c5eed1f",
   "metadata": {},
   "outputs": [
    {
     "data": {
      "text/plain": [
       "['9', '1', '3', '1', '3', '1', '3', '1']"
      ]
     },
     "execution_count": 87,
     "metadata": {},
     "output_type": "execute_result"
    }
   ],
   "source": [
    "even_places"
   ]
  },
  {
   "cell_type": "code",
   "execution_count": 93,
   "id": "490c1b90",
   "metadata": {},
   "outputs": [],
   "source": [
    "even_sum = []"
   ]
  },
  {
   "cell_type": "code",
   "execution_count": 100,
   "id": "2e143da9",
   "metadata": {},
   "outputs": [],
   "source": [
    "even_sum = []\n",
    "for item in even_places:\n",
    "    if (int(item)*2) > 10:\n",
    "        for digit in str(int(item)*2):\n",
    "            even_sum.append(digit)\n",
    "    else:\n",
    "        even_sum.append(str(int(item)*2))"
   ]
  },
  {
   "cell_type": "code",
   "execution_count": 101,
   "id": "ecacaa1a",
   "metadata": {},
   "outputs": [
    {
     "data": {
      "text/plain": [
       "['1', '8', '2', '6', '2', '6', '2', '6', '2']"
      ]
     },
     "execution_count": 101,
     "metadata": {},
     "output_type": "execute_result"
    }
   ],
   "source": [
    "even_sum"
   ]
  },
  {
   "cell_type": "code",
   "execution_count": 103,
   "id": "b44ccb33",
   "metadata": {},
   "outputs": [],
   "source": [
    "even_shit = 0\n",
    "for num in even_sum:\n",
    "    even_shit += int(num)"
   ]
  },
  {
   "cell_type": "code",
   "execution_count": 104,
   "id": "583f41d6",
   "metadata": {},
   "outputs": [
    {
     "data": {
      "text/plain": [
       "35"
      ]
     },
     "execution_count": 104,
     "metadata": {},
     "output_type": "execute_result"
    }
   ],
   "source": [
    "even_shit"
   ]
  },
  {
   "cell_type": "code",
   "execution_count": 106,
   "id": "87d4e15a",
   "metadata": {},
   "outputs": [
    {
     "data": {
      "text/plain": [
       "10"
      ]
     },
     "execution_count": 106,
     "metadata": {},
     "output_type": "execute_result"
    }
   ],
   "source": [
    "sum((5,5))"
   ]
  },
  {
   "cell_type": "code",
   "execution_count": 1,
   "id": "f87a210f",
   "metadata": {},
   "outputs": [
    {
     "data": {
      "text/plain": [
       "49"
      ]
     },
     "execution_count": 1,
     "metadata": {},
     "output_type": "execute_result"
    }
   ],
   "source": [
    "7**2"
   ]
  },
  {
   "cell_type": "code",
   "execution_count": 2,
   "id": "a220de44",
   "metadata": {},
   "outputs": [
    {
     "data": {
      "text/plain": [
       "97"
      ]
     },
     "execution_count": 2,
     "metadata": {},
     "output_type": "execute_result"
    }
   ],
   "source": [
    "16+81"
   ]
  },
  {
   "cell_type": "code",
   "execution_count": 3,
   "id": "dab4f36b",
   "metadata": {},
   "outputs": [
    {
     "data": {
      "text/plain": [
       "130"
      ]
     },
     "execution_count": 3,
     "metadata": {},
     "output_type": "execute_result"
    }
   ],
   "source": [
    "81+49"
   ]
  },
  {
   "cell_type": "code",
   "execution_count": 4,
   "id": "3724fbfd",
   "metadata": {},
   "outputs": [
    {
     "data": {
      "text/plain": [
       "10"
      ]
     },
     "execution_count": 4,
     "metadata": {},
     "output_type": "execute_result"
    }
   ],
   "source": [
    "1+9+0"
   ]
  },
  {
   "cell_type": "code",
   "execution_count": 4,
   "id": "8a407743",
   "metadata": {},
   "outputs": [
    {
     "ename": "ValueError",
     "evalue": "Exceeds the limit (1000000) for integer string conversion; use sys.set_int_max_str_digits() to increase the limit",
     "output_type": "error",
     "traceback": [
      "\u001b[1;31m---------------------------------------------------------------------------\u001b[0m",
      "\u001b[1;31mValueError\u001b[0m                                Traceback (most recent call last)",
      "Cell \u001b[1;32mIn[4], line 8\u001b[0m\n\u001b[0;32m      6\u001b[0m mylist\u001b[38;5;241m=\u001b[39m [] \u001b[38;5;66;03m#list of all the digits\u001b[39;00m\n\u001b[0;32m      7\u001b[0m sum_of_digits \u001b[38;5;241m=\u001b[39m \u001b[38;5;241m0\u001b[39m \u001b[38;5;66;03m#sum of mylist ko items\u001b[39;00m\n\u001b[1;32m----> 8\u001b[0m \u001b[38;5;28;01mfor\u001b[39;00m letter \u001b[38;5;129;01min\u001b[39;00m \u001b[38;5;28;43mstr\u001b[39;49m\u001b[43m(\u001b[49m\u001b[43mnumber\u001b[49m\u001b[43m)\u001b[49m:\n\u001b[0;32m      9\u001b[0m     mylist\u001b[38;5;241m.\u001b[39mappend(letter)\n\u001b[0;32m     10\u001b[0m \u001b[38;5;28;01mfor\u001b[39;00m digit \u001b[38;5;129;01min\u001b[39;00m mylist:\n",
      "\u001b[1;31mValueError\u001b[0m: Exceeds the limit (1000000) for integer string conversion; use sys.set_int_max_str_digits() to increase the limit"
     ]
    }
   ],
   "source": [
    "#49 lai 4,9 parera gotta find 4 + 9\n",
    "happy = True\n",
    "number = 7\n",
    "while happy:\n",
    "    \n",
    "    mylist= [] #list of all the digits\n",
    "    sum_of_digits = 0 #sum of mylist ko items\n",
    "    \n",
    "    for digit in str(number):\n",
    "        mylist.append(digit)\n",
    "    \n",
    "    for item in mylist:\n",
    "        sum_of_digits += int(item)\n",
    "        \n",
    "    if sum_of_digits == 1:\n",
    "        print('True')\n",
    "        happy = False\n",
    "    else:\n",
    "        number = number**2"
   ]
  },
  {
   "cell_type": "code",
   "execution_count": 2,
   "id": "2432d713",
   "metadata": {},
   "outputs": [],
   "source": [
    "import sys"
   ]
  },
  {
   "cell_type": "code",
   "execution_count": 3,
   "id": "f8396969",
   "metadata": {},
   "outputs": [],
   "source": [
    "sys.set_int_max_str_digits(1000000)"
   ]
  },
  {
   "cell_type": "code",
   "execution_count": 59,
   "id": "139b8357",
   "metadata": {},
   "outputs": [],
   "source": [
    "\n",
    "new_list = []\n",
    "for i in str(num):\n",
    "    new_list.append(i)"
   ]
  },
  {
   "cell_type": "code",
   "execution_count": 60,
   "id": "a590da01",
   "metadata": {},
   "outputs": [
    {
     "data": {
      "text/plain": [
       "['1', '0']"
      ]
     },
     "execution_count": 60,
     "metadata": {},
     "output_type": "execute_result"
    }
   ],
   "source": [
    "new_list"
   ]
  },
  {
   "cell_type": "code",
   "execution_count": 61,
   "id": "ab5ec59c",
   "metadata": {},
   "outputs": [],
   "source": [
    "sumdigits = 0\n",
    "for item in new_list:\n",
    "        sumdigits += int(item)**2"
   ]
  },
  {
   "cell_type": "code",
   "execution_count": 62,
   "id": "a2982e67",
   "metadata": {},
   "outputs": [
    {
     "data": {
      "text/plain": [
       "1"
      ]
     },
     "execution_count": 62,
     "metadata": {},
     "output_type": "execute_result"
    }
   ],
   "source": [
    "sumdigits"
   ]
  },
  {
   "cell_type": "code",
   "execution_count": 63,
   "id": "63373aea",
   "metadata": {},
   "outputs": [
    {
     "name": "stdout",
     "output_type": "stream",
     "text": [
      "True\n"
     ]
    }
   ],
   "source": [
    "if sumdigits == 1:\n",
    "        print('True')\n",
    "        \n",
    "else:\n",
    "        num = sumdigits"
   ]
  },
  {
   "cell_type": "code",
   "execution_count": 65,
   "id": "42676d21",
   "metadata": {},
   "outputs": [
    {
     "data": {
      "text/plain": [
       "(<function __main__.<lambda>(x)>, [1, 2, 3])"
      ]
     },
     "execution_count": 65,
     "metadata": {},
     "output_type": "execute_result"
    }
   ],
   "source": [
    "lambda x: x **2, [1,2,3]"
   ]
  },
  {
   "cell_type": "code",
   "execution_count": 66,
   "id": "4b6293b1",
   "metadata": {},
   "outputs": [
    {
     "data": {
      "text/plain": [
       "<map at 0x1058ac96a70>"
      ]
     },
     "execution_count": 66,
     "metadata": {},
     "output_type": "execute_result"
    }
   ],
   "source": [
    "map(lambda x: x**2,[1,2,3] )"
   ]
  },
  {
   "cell_type": "code",
   "execution_count": 67,
   "id": "d1c1c197",
   "metadata": {},
   "outputs": [
    {
     "data": {
      "text/plain": [
       "[1, 4, 9]"
      ]
     },
     "execution_count": 67,
     "metadata": {},
     "output_type": "execute_result"
    }
   ],
   "source": [
    "list(map(lambda x: x**2,[1,2,3]))"
   ]
  },
  {
   "cell_type": "code",
   "execution_count": 68,
   "id": "169ef6f1",
   "metadata": {},
   "outputs": [
    {
     "data": {
      "text/plain": [
       "14"
      ]
     },
     "execution_count": 68,
     "metadata": {},
     "output_type": "execute_result"
    }
   ],
   "source": [
    "sum(list(map(lambda x: x**2,[1,2,3])))"
   ]
  },
  {
   "cell_type": "code",
   "execution_count": 69,
   "id": "3ba470fd",
   "metadata": {},
   "outputs": [],
   "source": [
    "def get_digits(number):\n",
    "\tdigits = []\n",
    "\twhile number:\n",
    "\t\tdigits.append(number % 10)\n",
    "\t\tnumber //= 10\n",
    "\tdigits.reverse()\n",
    "\treturn digits\n",
    "\n",
    "def is_happy_number(number):\n",
    "\tprevious_numbers = []\n",
    "\twhile True:\n",
    "\t\tdigits = get_digits(number)\n",
    "\t\tsum_of_squared_digits = sum(list(map(lambda x: x **2, digits)))\n",
    "\t\tif sum_of_squared_digits == 1:\n",
    "\t\t\treturn True\n",
    "\t\telif sum_of_squared_digits in previous_numbers:\n",
    "\t\t\treturn False\n",
    "\t\telse:\n",
    "\t\t\tnumber = sum_of_squared_digits\n",
    "\t\t\tprevious_numbers.append(number)\t"
   ]
  },
  {
   "cell_type": "code",
   "execution_count": 76,
   "id": "6694ca7e",
   "metadata": {},
   "outputs": [
    {
     "data": {
      "text/plain": [
       "False"
      ]
     },
     "execution_count": 76,
     "metadata": {},
     "output_type": "execute_result"
    }
   ],
   "source": [
    "is_happy_number(85)"
   ]
  },
  {
   "cell_type": "code",
   "execution_count": null,
   "id": "8b37123a",
   "metadata": {},
   "outputs": [
    {
     "name": "stdout",
     "output_type": "stream",
     "text": [
      "6\n",
      "3\n",
      "6\n",
      "2\n",
      "2\n",
      "2\n",
      "2\n",
      "3\n",
      "6\n"
     ]
    }
   ],
   "source": [
    "def fac(n):\n",
    "    if(n==0):\n",
    "        return 1\n",
    "    elif(n==1):\n",
    "        return 1\n",
    "    else:\n",
    "        return n * fac(n-1)\n",
    "    \n",
    "t = int(input())\n",
    "while(t):\n",
    "    t=t-1\n",
    "    n = int(input())\n",
    "    p = fac(n)\n",
    "    print(p)"
   ]
  },
  {
   "cell_type": "code",
   "execution_count": 13,
   "id": "47b3c772",
   "metadata": {},
   "outputs": [],
   "source": [
    "def factorial(n):\n",
    "    fac = 1\n",
    "    while (n > 0): \n",
    "        fac = (n *fac)\n",
    "        n -= 1  \n",
    "    return fac\n",
    "        "
   ]
  },
  {
   "cell_type": "code",
   "execution_count": 22,
   "id": "490327b4",
   "metadata": {},
   "outputs": [
    {
     "data": {
      "text/plain": [
       "5040"
      ]
     },
     "execution_count": 22,
     "metadata": {},
     "output_type": "execute_result"
    }
   ],
   "source": [
    "factorial(7)"
   ]
  },
  {
   "cell_type": "code",
   "execution_count": 15,
   "id": "1a458397",
   "metadata": {},
   "outputs": [],
   "source": [
    "from math import factorial"
   ]
  },
  {
   "cell_type": "code",
   "execution_count": 23,
   "id": "4d2cd318",
   "metadata": {},
   "outputs": [
    {
     "ename": "TypeError",
     "evalue": "'float' object cannot be interpreted as an integer",
     "output_type": "error",
     "traceback": [
      "\u001b[1;31m---------------------------------------------------------------------------\u001b[0m",
      "\u001b[1;31mTypeError\u001b[0m                                 Traceback (most recent call last)",
      "Cell \u001b[1;32mIn[23], line 1\u001b[0m\n\u001b[1;32m----> 1\u001b[0m \u001b[43mfactorial\u001b[49m\u001b[43m(\u001b[49m\u001b[38;5;241;43m7.0\u001b[39;49m\u001b[43m)\u001b[49m\n",
      "\u001b[1;31mTypeError\u001b[0m: 'float' object cannot be interpreted as an integer"
     ]
    }
   ],
   "source": [
    "factorial(7.0)"
   ]
  },
  {
   "cell_type": "code",
   "execution_count": 24,
   "id": "8648a04d",
   "metadata": {},
   "outputs": [],
   "source": [
    "import cmath"
   ]
  },
  {
   "cell_type": "code",
   "execution_count": 41,
   "id": "574fa7f5",
   "metadata": {},
   "outputs": [],
   "source": [
    "z = 3 + j"
   ]
  },
  {
   "cell_type": "code",
   "execution_count": 42,
   "id": "6e24edc0",
   "metadata": {},
   "outputs": [
    {
     "data": {
      "text/plain": [
       "(3.905124837953327, 0.6947382761967031)"
      ]
     },
     "execution_count": 42,
     "metadata": {},
     "output_type": "execute_result"
    }
   ],
   "source": [
    "cmath.polar(z)\n"
   ]
  },
  {
   "cell_type": "code",
   "execution_count": 40,
   "id": "b1aaa0c9",
   "metadata": {},
   "outputs": [
    {
     "data": {
      "text/plain": [
       "(0.8775825618903728-0j)"
      ]
     },
     "execution_count": 40,
     "metadata": {},
     "output_type": "execute_result"
    }
   ],
   "source": [
    "cmath.cos(0.5)"
   ]
  },
  {
   "cell_type": "raw",
   "id": "ec03a762",
   "metadata": {},
   "source": [
    "(a + ib) / (c + id) = (ac+bd)/ (c2 + d2) + i(bc – ad) / (c2 + d2)"
   ]
  },
  {
   "cell_type": "code",
   "execution_count": 45,
   "id": "2dc51dc1",
   "metadata": {},
   "outputs": [
    {
     "data": {
      "text/plain": [
       "(0.44+0.08j)"
      ]
     },
     "execution_count": 45,
     "metadata": {},
     "output_type": "execute_result"
    }
   ],
   "source": [
    "(1*3 + 2*4)/(3**2 + 4**2) +(2*3 - 1*4)/(3**2 + 4**2)*1j"
   ]
  },
  {
   "cell_type": "code",
   "execution_count": 48,
   "id": "d16ee942",
   "metadata": {},
   "outputs": [
    {
     "data": {
      "text/plain": [
       "2"
      ]
     },
     "execution_count": 48,
     "metadata": {},
     "output_type": "execute_result"
    }
   ],
   "source": [
    "len(str(55))"
   ]
  },
  {
   "cell_type": "code",
   "execution_count": 2,
   "id": "9d4719eb",
   "metadata": {},
   "outputs": [],
   "source": [
    "import random"
   ]
  },
  {
   "cell_type": "code",
   "execution_count": 8,
   "id": "13d34788",
   "metadata": {},
   "outputs": [
    {
     "data": {
      "text/plain": [
       "1"
      ]
     },
     "execution_count": 8,
     "metadata": {},
     "output_type": "execute_result"
    }
   ],
   "source": [
    "random.randint(0,1)"
   ]
  },
  {
   "cell_type": "code",
   "execution_count": 11,
   "id": "6eaa05fa",
   "metadata": {},
   "outputs": [],
   "source": [
    "nums = [1,1,2,3,4]"
   ]
  },
  {
   "cell_type": "code",
   "execution_count": 13,
   "id": "233c0615",
   "metadata": {},
   "outputs": [
    {
     "data": {
      "text/plain": [
       "1"
      ]
     },
     "execution_count": 13,
     "metadata": {},
     "output_type": "execute_result"
    }
   ],
   "source": [
    "nums.count(4)"
   ]
  },
  {
   "cell_type": "code",
   "execution_count": 22,
   "id": "4c33d8b2",
   "metadata": {},
   "outputs": [
    {
     "name": "stdout",
     "output_type": "stream",
     "text": [
      "Outcome no.1 = T\n",
      "Outcome no.2 = T\n",
      "Outcome no.3 = H\n"
     ]
    }
   ],
   "source": [
    "yeah = ['T', 'T', 'H']\n",
    "num = 1\n",
    "for item in yeah:\n",
    "    print(f'Outcome no.{num} = {item}')\n",
    "    num += 1\n",
    "    "
   ]
  },
  {
   "cell_type": "code",
   "execution_count": 20,
   "id": "bc0886b7",
   "metadata": {},
   "outputs": [
    {
     "data": {
      "text/plain": [
       "3"
      ]
     },
     "execution_count": 20,
     "metadata": {},
     "output_type": "execute_result"
    }
   ],
   "source": [
    "len(yeah)"
   ]
  },
  {
   "cell_type": "code",
   "execution_count": 21,
   "id": "4b22afa6",
   "metadata": {},
   "outputs": [
    {
     "name": "stdout",
     "output_type": "stream",
     "text": [
      "Outcome no.1: T\n",
      "Outcome no.1: T\n",
      "Outcome no.1: H\n",
      "Outcome no.2: T\n",
      "Outcome no.2: T\n",
      "Outcome no.2: H\n",
      "Outcome no.3: T\n",
      "Outcome no.3: T\n",
      "Outcome no.3: H\n"
     ]
    }
   ],
   "source": [
    "for num in range(len(yeah)):\n",
    "    for item in yeah:\n",
    "        print(f'Outcome no.{num+1}: {item}')"
   ]
  },
  {
   "cell_type": "code",
   "execution_count": 25,
   "id": "cd19dbee",
   "metadata": {},
   "outputs": [
    {
     "name": "stdout",
     "output_type": "stream",
     "text": [
      "Press enter to toss the coin, write stop to stop the process.\n",
      "True\n"
     ]
    }
   ],
   "source": [
    "user_input= input('Press enter to toss the coin, write stop to stop the process.')\n",
    "if user_input == \"\":\n",
    "    print(True)"
   ]
  },
  {
   "cell_type": "code",
   "execution_count": 1,
   "id": "c1786451",
   "metadata": {},
   "outputs": [
    {
     "name": "stdout",
     "output_type": "stream",
     "text": [
      "Please enter a number: asd\n",
      "Please enter an integer\n",
      "Please enter a number: 12.6\n",
      "Please enter an integer\n",
      "Please enter a number: asd\n",
      "Please enter an integer\n",
      "Please enter a number: 5\n"
     ]
    }
   ],
   "source": [
    "while True:\n",
    "        try:\n",
    "            user_number = int(input(\"Please enter a number: \"))\n",
    "            if user_number > 1 :\n",
    "                break\n",
    "            else:\n",
    "                print(\"The number should be an integer greater than one.\")\n",
    "        except:\n",
    "            print(\"Please enter an integer\")"
   ]
  },
  {
   "cell_type": "code",
   "execution_count": 1,
   "id": "650315bc",
   "metadata": {},
   "outputs": [
    {
     "name": "stdout",
     "output_type": "stream",
     "text": [
      "Please enter the first point in form of x,y2,3\n"
     ]
    },
    {
     "data": {
      "text/plain": [
       "'2,3'"
      ]
     },
     "execution_count": 1,
     "metadata": {},
     "output_type": "execute_result"
    }
   ],
   "source": [
    "input(\"Please enter the first point in form of x,y\")"
   ]
  },
  {
   "cell_type": "code",
   "execution_count": 8,
   "id": "8d1a1628",
   "metadata": {},
   "outputs": [],
   "source": [
    "points = []\n",
    "for item in '2,3'.split(','):\n",
    "    points.append(float(item))"
   ]
  },
  {
   "cell_type": "code",
   "execution_count": 10,
   "id": "60678fea",
   "metadata": {},
   "outputs": [
    {
     "data": {
      "text/plain": [
       "(2.0, 3.0)"
      ]
     },
     "execution_count": 10,
     "metadata": {},
     "output_type": "execute_result"
    }
   ],
   "source": [
    "tuple(points)"
   ]
  },
  {
   "cell_type": "code",
   "execution_count": 28,
   "id": "b7cc84e9",
   "metadata": {},
   "outputs": [
    {
     "data": {
      "text/plain": [
       "True"
      ]
     },
     "execution_count": 28,
     "metadata": {},
     "output_type": "execute_result"
    }
   ],
   "source": []
  },
  {
   "cell_type": "code",
   "execution_count": 18,
   "id": "17772715",
   "metadata": {},
   "outputs": [
    {
     "data": {
      "text/plain": [
       "['2', ',', '3']"
      ]
     },
     "execution_count": 18,
     "metadata": {},
     "output_type": "execute_result"
    }
   ],
   "source": [
    "for item list('2,3'):\n",
    "    if len(list('2,3')) == 3 and (item.isdigit() or item == ',')\n",
    "    "
   ]
  },
  {
   "cell_type": "code",
   "execution_count": 29,
   "id": "7c4a0fb0",
   "metadata": {},
   "outputs": [],
   "source": [
    "import re"
   ]
  },
  {
   "cell_type": "code",
   "execution_count": 47,
   "id": "e9968a68",
   "metadata": {},
   "outputs": [],
   "source": [
    "sample = r'\\d{1,2},\\d{1,2}'\n",
    "\n"
   ]
  },
  {
   "cell_type": "code",
   "execution_count": 60,
   "id": "5804be23",
   "metadata": {},
   "outputs": [
    {
     "data": {
      "text/plain": [
       "True"
      ]
     },
     "execution_count": 60,
     "metadata": {},
     "output_type": "execute_result"
    }
   ],
   "source": [
    "type(re.match(sample,'23,3')) == re.Match"
   ]
  },
  {
   "cell_type": "code",
   "execution_count": 103,
   "id": "541dc278",
   "metadata": {},
   "outputs": [
    {
     "name": "stdout",
     "output_type": "stream",
     "text": [
      "Please enter the first point in form of x,y(max 2 digit numbers only):3,4,5\n",
      "Please enter a two dimensional coordinate\n",
      "Please enter the first point in form of x,y(max 2 digit numbers only):3.5,4.5,2.5\n",
      "Please enter a two dimensional coordinate\n",
      "Please enter the first point in form of x,y(max 2 digit numbers only):3.5,4\n",
      "Please enter in the form of (x,y)\n",
      "Please enter the first point in form of x,y(max 2 digit numbers only):3,4\n"
     ]
    }
   ],
   "source": [
    "while True:\n",
    "        try:\n",
    "            coordinates = input(\"Please enter the first point in form of x,y(max 2 digit numbers only):\")\n",
    "            float_style = r'\\d{1,2}&\\d{1,2},\\d{1,2}&\\d{1,2}' # we want (1-2 digit, 1-2 digit)\n",
    "            int_style = r'\\d{1,2},\\d{1,2}'\n",
    "            if (type(re.match(float_style,coordinates.replace('.','&'))) == re.Match) or type(re.match(int_style,coordinates)) == re.Match:\n",
    "                if len(list(coordinates.split(','))) == 2:\n",
    "                    break\n",
    "                else:\n",
    "                    print(\"Please enter a two dimensional coordinate\")\n",
    "            else:\n",
    "                print(\"Please enter in the form of (x,y)\")\n",
    "        except:\n",
    "            print(\"Invalid input!\")"
   ]
  },
  {
   "cell_type": "code",
   "execution_count": 104,
   "id": "23bd3a5b",
   "metadata": {},
   "outputs": [
    {
     "data": {
      "text/plain": [
       "'3,4'"
      ]
     },
     "execution_count": 104,
     "metadata": {},
     "output_type": "execute_result"
    }
   ],
   "source": [
    "coordinates"
   ]
  },
  {
   "cell_type": "code",
   "execution_count": 100,
   "id": "627b31f6",
   "metadata": {},
   "outputs": [
    {
     "data": {
      "text/plain": [
       "<re.Match object; span=(0, 3), match='3,4'>"
      ]
     },
     "execution_count": 100,
     "metadata": {},
     "output_type": "execute_result"
    }
   ],
   "source": [
    "re.match(r'\\d{1,2},\\d{1,2}','3,4')"
   ]
  },
  {
   "cell_type": "code",
   "execution_count": 93,
   "id": "b2efe5c5",
   "metadata": {},
   "outputs": [
    {
     "data": {
      "text/plain": [
       "['12.0', '3.5']"
      ]
     },
     "execution_count": 93,
     "metadata": {},
     "output_type": "execute_result"
    }
   ],
   "source": [
    "list('12.0,3.5'.split(','))"
   ]
  },
  {
   "cell_type": "code",
   "execution_count": 78,
   "id": "a458e1bc",
   "metadata": {},
   "outputs": [
    {
     "data": {
      "text/plain": [
       "3"
      ]
     },
     "execution_count": 78,
     "metadata": {},
     "output_type": "execute_result"
    }
   ],
   "source": [
    "'12,2,2,2'.count(',') == 2"
   ]
  },
  {
   "cell_type": "code",
   "execution_count": 81,
   "id": "1f8aa181",
   "metadata": {},
   "outputs": [],
   "source": [
    "name = \"Utsav\""
   ]
  },
  {
   "cell_type": "code",
   "execution_count": 124,
   "id": "657c0d59",
   "metadata": {},
   "outputs": [],
   "source": [
    "def value():\n",
    "    user_input = input(\"any: \")\n",
    "    return user_input\n"
   ]
  },
  {
   "cell_type": "code",
   "execution_count": 127,
   "id": "fc2234d5",
   "metadata": {},
   "outputs": [
    {
     "name": "stdout",
     "output_type": "stream",
     "text": [
      "any: 1\n",
      "any: 2\n",
      "any: 3\n",
      "any: 4\n"
     ]
    }
   ],
   "source": [
    "var = {'a':value(),'s':value(),'d':value(),'f':value()}"
   ]
  },
  {
   "cell_type": "code",
   "execution_count": 133,
   "id": "1fe49e13",
   "metadata": {},
   "outputs": [
    {
     "name": "stdout",
     "output_type": "stream",
     "text": [
      "any: 1\n",
      "any: 2\n",
      "any: 3\n",
      "any: 4\n",
      "any: 5\n"
     ]
    }
   ],
   "source": [
    "listy = []\n",
    "for i in range(5):\n",
    "    listy.append(value())"
   ]
  },
  {
   "cell_type": "code",
   "execution_count": 134,
   "id": "122ab0eb",
   "metadata": {},
   "outputs": [
    {
     "data": {
      "text/plain": [
       "['1', '2', '3', '4', '5']"
      ]
     },
     "execution_count": 134,
     "metadata": {},
     "output_type": "execute_result"
    }
   ],
   "source": [
    "listy"
   ]
  },
  {
   "cell_type": "code",
   "execution_count": 83,
   "id": "1584fb75",
   "metadata": {},
   "outputs": [
    {
     "data": {
      "text/plain": [
       "'Utsav'"
      ]
     },
     "execution_count": 83,
     "metadata": {},
     "output_type": "execute_result"
    }
   ],
   "source": [
    "name"
   ]
  },
  {
   "cell_type": "code",
   "execution_count": 84,
   "id": "534bc366",
   "metadata": {},
   "outputs": [
    {
     "data": {
      "text/plain": [
       "'1&5,1&5'"
      ]
     },
     "execution_count": 84,
     "metadata": {},
     "output_type": "execute_result"
    }
   ],
   "source": [
    "'1.5,1.5'.replace('.','&')\n"
   ]
  },
  {
   "cell_type": "code",
   "execution_count": 88,
   "id": "221285af",
   "metadata": {},
   "outputs": [],
   "source": [
    "samplee = r'\\d{1,2}&\\d{1,2},\\d{1,2}&\\d{1,2}'\n",
    "re.match(samplee,'12&523,12&123')"
   ]
  },
  {
   "cell_type": "code",
   "execution_count": 110,
   "id": "26c5b50d",
   "metadata": {},
   "outputs": [],
   "source": [
    "import random"
   ]
  },
  {
   "cell_type": "code",
   "execution_count": 117,
   "id": "b3a7457a",
   "metadata": {},
   "outputs": [],
   "source": [
    "var = {'a':5,'s':4,'d':2,'f':1}"
   ]
  },
  {
   "cell_type": "code",
   "execution_count": 123,
   "id": "8f49c415",
   "metadata": {},
   "outputs": [
    {
     "data": {
      "text/plain": [
       "dict_values([5, 4, 2, 1])"
      ]
     },
     "execution_count": 123,
     "metadata": {},
     "output_type": "execute_result"
    }
   ],
   "source": [
    "var.get()"
   ]
  },
  {
   "cell_type": "code",
   "execution_count": 114,
   "id": "79863e84",
   "metadata": {},
   "outputs": [
    {
     "data": {
      "text/plain": [
       "['a', 's', 'd', 'f']"
      ]
     },
     "execution_count": 114,
     "metadata": {},
     "output_type": "execute_result"
    }
   ],
   "source": [
    "var"
   ]
  },
  {
   "cell_type": "code",
   "execution_count": 115,
   "id": "9819b6ad",
   "metadata": {},
   "outputs": [
    {
     "ename": "NameError",
     "evalue": "name 'a' is not defined",
     "output_type": "error",
     "traceback": [
      "\u001b[1;31m---------------------------------------------------------------------------\u001b[0m",
      "\u001b[1;31mNameError\u001b[0m                                 Traceback (most recent call last)",
      "Cell \u001b[1;32mIn[115], line 1\u001b[0m\n\u001b[1;32m----> 1\u001b[0m \u001b[43ma\u001b[49m\n",
      "\u001b[1;31mNameError\u001b[0m: name 'a' is not defined"
     ]
    }
   ],
   "source": [
    "a"
   ]
  },
  {
   "cell_type": "code",
   "execution_count": 145,
   "id": "2e2c7602",
   "metadata": {},
   "outputs": [],
   "source": [
    "points_list = [(2, 3), (12, 30), (40, 50), (5, 1), (12, 10), (3, 4)]"
   ]
  },
  {
   "cell_type": "code",
   "execution_count": 143,
   "id": "e1ea1d7a",
   "metadata": {},
   "outputs": [],
   "source": [
    "first_list.append(points_list.pop())"
   ]
  },
  {
   "cell_type": "code",
   "execution_count": 144,
   "id": "54de8462",
   "metadata": {},
   "outputs": [
    {
     "data": {
      "text/plain": [
       "[(12, 10)]"
      ]
     },
     "execution_count": 144,
     "metadata": {},
     "output_type": "execute_result"
    }
   ],
   "source": [
    "first_list"
   ]
  },
  {
   "cell_type": "code",
   "execution_count": 147,
   "id": "99773f66",
   "metadata": {},
   "outputs": [],
   "source": [
    "i = 1\n",
    "first_list = []\n",
    "second_list = []\n",
    "for n in range(len(points_list)):\n",
    "    if i % 2 == 0:\n",
    "        first_list.append(points_list[n])\n",
    "        i += 1\n",
    "    else:\n",
    "        second_list.append(points_list[n])\n",
    "        i += 1"
   ]
  },
  {
   "cell_type": "code",
   "execution_count": 150,
   "id": "b8de7722",
   "metadata": {},
   "outputs": [
    {
     "data": {
      "text/plain": [
       "[(12, 30), (5, 1), (3, 4)]"
      ]
     },
     "execution_count": 150,
     "metadata": {},
     "output_type": "execute_result"
    }
   ],
   "source": [
    "first_list"
   ]
  },
  {
   "cell_type": "code",
   "execution_count": 154,
   "id": "3a054f1e",
   "metadata": {},
   "outputs": [
    {
     "data": {
      "text/plain": [
       "[(2, 3), (40, 50), (12, 10), (1, 2)]"
      ]
     },
     "execution_count": 154,
     "metadata": {},
     "output_type": "execute_result"
    }
   ],
   "source": [
    "second_list"
   ]
  },
  {
   "cell_type": "code",
   "execution_count": null,
   "id": "c81d5012",
   "metadata": {},
   "outputs": [],
   "source": []
  },
  {
   "cell_type": "code",
   "execution_count": 155,
   "id": "24123709",
   "metadata": {},
   "outputs": [
    {
     "name": "stdout",
     "output_type": "stream",
     "text": [
      "28.792360097775937\n",
      "34.40930106817051\n",
      "20.0\n",
      "30.083217912982647\n",
      "3.605551275463989\n",
      "60.21627686929839\n",
      "11.40175425099138\n",
      "4.123105625617661\n",
      "1.4142135623730951\n",
      "59.033888572581766\n",
      "10.816653826391969\n",
      "2.8284271247461903\n"
     ]
    }
   ],
   "source": [
    "for item1 in first_list:\n",
    "    for item2 in second_list:\n",
    "        print(dist(item1,item2))"
   ]
  },
  {
   "cell_type": "code",
   "execution_count": 156,
   "id": "bd82afb2",
   "metadata": {},
   "outputs": [],
   "source": [
    "numlist = [1,2,3,4]"
   ]
  },
  {
   "cell_type": "code",
   "execution_count": 157,
   "id": "e4761eed",
   "metadata": {},
   "outputs": [],
   "source": [
    "import math"
   ]
  },
  {
   "cell_type": "code",
   "execution_count": 158,
   "id": "d09440d8",
   "metadata": {},
   "outputs": [],
   "source": [
    "shortest_distance = 50\n",
    "for item in numlist:\n",
    "        if item < shortest_distance:\n",
    "            shortest_distance = item"
   ]
  },
  {
   "cell_type": "code",
   "execution_count": 159,
   "id": "f858e5e0",
   "metadata": {},
   "outputs": [
    {
     "data": {
      "text/plain": [
       "1"
      ]
     },
     "execution_count": 159,
     "metadata": {},
     "output_type": "execute_result"
    }
   ],
   "source": [
    "shortest_distance"
   ]
  },
  {
   "cell_type": "code",
   "execution_count": 15,
   "id": "5472d0b7",
   "metadata": {},
   "outputs": [],
   "source": [
    "q = [1,2,3,4,5,6,6,7,8]"
   ]
  },
  {
   "cell_type": "code",
   "execution_count": 16,
   "id": "2a72f82d",
   "metadata": {},
   "outputs": [
    {
     "ename": "SyntaxError",
     "evalue": "invalid syntax (1018617678.py, line 1)",
     "output_type": "error",
     "traceback": [
      "\u001b[1;36m  Cell \u001b[1;32mIn[16], line 1\u001b[1;36m\u001b[0m\n\u001b[1;33m    q.pop(1:4)\u001b[0m\n\u001b[1;37m           ^\u001b[0m\n\u001b[1;31mSyntaxError\u001b[0m\u001b[1;31m:\u001b[0m invalid syntax\n"
     ]
    }
   ],
   "source": [
    "q.remove"
   ]
  },
  {
   "cell_type": "code",
   "execution_count": 6,
   "id": "8366eb93",
   "metadata": {},
   "outputs": [],
   "source": [
    "a = [1,6,3,4]\n",
    "b = [5,2,7,8]"
   ]
  },
  {
   "cell_type": "code",
   "execution_count": 13,
   "id": "09cdb8d3",
   "metadata": {},
   "outputs": [
    {
     "ename": "TypeError",
     "evalue": "'>' not supported between instances of 'int' and 'NoneType'",
     "output_type": "error",
     "traceback": [
      "\u001b[1;31m---------------------------------------------------------------------------\u001b[0m",
      "\u001b[1;31mTypeError\u001b[0m                                 Traceback (most recent call last)",
      "Cell \u001b[1;32mIn[13], line 1\u001b[0m\n\u001b[1;32m----> 1\u001b[0m \u001b[38;5;241;43m1\u001b[39;49m\u001b[43m \u001b[49m\u001b[38;5;241;43m>\u001b[39;49m\u001b[43m \u001b[49m\u001b[38;5;28;43;01mNone\u001b[39;49;00m\n",
      "\u001b[1;31mTypeError\u001b[0m: '>' not supported between instances of 'int' and 'NoneType'"
     ]
    }
   ],
   "source": [
    "1 > "
   ]
  },
  {
   "cell_type": "code",
   "execution_count": 23,
   "id": "10b3c98b",
   "metadata": {},
   "outputs": [],
   "source": [
    "def merge_sort(arr):\n",
    "    if len(arr) > 1:\n",
    "        left_arr = arr[0:int(len(arr)//2)]\n",
    "        right_arr = arr[int(len(arr)//2):]\n",
    "        \n",
    "        \n",
    "        merge_sort(left_arr)\n",
    "        merge_sort(right_arr)\n",
    "        \n",
    "        i,j,k = 0,0,0\n",
    "        while i < len(left_arr) and j < len(right_arr):\n",
    "            if left_arr[i] < right_arr[j]:\n",
    "                arr[k] = left_arr[i]\n",
    "                k += 1\n",
    "                i += 1\n",
    "            else:\n",
    "                arr[k] = right_arr[j]\n",
    "                k += 1\n",
    "                j += 1\n",
    "        \n",
    "        while i < len(left_arr):\n",
    "            arr[k] = left_arr[i]\n",
    "            i += 1\n",
    "            k += 1\n",
    "        \n",
    "        while j < len(right_arr):\n",
    "            arr[k] = right_arr[j]\n",
    "            j += 1\n",
    "            k += 1\n",
    "        return arr\n",
    "    else:\n",
    "        return arr"
   ]
  },
  {
   "cell_type": "code",
   "execution_count": 24,
   "id": "5bf9f6b0",
   "metadata": {},
   "outputs": [],
   "source": [
    "test = [1,54,8,3,2,5,8,4,2,7,90]"
   ]
  },
  {
   "cell_type": "code",
   "execution_count": 25,
   "id": "3e324506",
   "metadata": {},
   "outputs": [
    {
     "data": {
      "text/plain": [
       "[1, 2, 2, 3, 4, 5, 7, 8, 8, 54, 90]"
      ]
     },
     "execution_count": 25,
     "metadata": {},
     "output_type": "execute_result"
    }
   ],
   "source": [
    "merge_sort(test)"
   ]
  },
  {
   "cell_type": "code",
   "execution_count": 10,
   "id": "e84b7b80",
   "metadata": {},
   "outputs": [],
   "source": [
    "def new_list(a,b):\n",
    "    c = []\n",
    "    while (len(a) != 0) and (len(b) != 0):\n",
    "        if a[0] < b[0]:\n",
    "            c.append(a.pop(0))\n",
    "        else:\n",
    "            c.append(b.pop(0))\n",
    "    return c"
   ]
  },
  {
   "cell_type": "code",
   "execution_count": 11,
   "id": "73bc8c44",
   "metadata": {},
   "outputs": [
    {
     "data": {
      "text/plain": [
       "[1, 5, 2, 6, 3, 4]"
      ]
     },
     "execution_count": 11,
     "metadata": {},
     "output_type": "execute_result"
    }
   ],
   "source": [
    "new_list([1,6,3,4],[5,2,7,8])"
   ]
  },
  {
   "cell_type": "code",
   "execution_count": 8,
   "id": "7a3b8bd0",
   "metadata": {},
   "outputs": [
    {
     "ename": "NameError",
     "evalue": "name 'c' is not defined",
     "output_type": "error",
     "traceback": [
      "\u001b[1;31m---------------------------------------------------------------------------\u001b[0m",
      "\u001b[1;31mNameError\u001b[0m                                 Traceback (most recent call last)",
      "Cell \u001b[1;32mIn[8], line 1\u001b[0m\n\u001b[1;32m----> 1\u001b[0m \u001b[43mc\u001b[49m\n",
      "\u001b[1;31mNameError\u001b[0m: name 'c' is not defined"
     ]
    }
   ],
   "source": []
  },
  {
   "cell_type": "code",
   "execution_count": 26,
   "id": "2f6386bb",
   "metadata": {},
   "outputs": [],
   "source": [
    "listt = [1,2,3,4,5]"
   ]
  },
  {
   "cell_type": "code",
   "execution_count": 30,
   "id": "26456a1c",
   "metadata": {},
   "outputs": [
    {
     "data": {
      "text/plain": [
       "5"
      ]
     },
     "execution_count": 30,
     "metadata": {},
     "output_type": "execute_result"
    }
   ],
   "source": [
    "listt."
   ]
  },
  {
   "cell_type": "code",
   "execution_count": 14,
   "id": "f6fc946c",
   "metadata": {},
   "outputs": [],
   "source": [
    "def split_lists(single):\n",
    "    length = len(single)\n",
    "    if len(single) == 1:\n",
    "        return single\n",
    "    else:\n",
    "        first_list = single[0:int(length/2 + 1)]\n",
    "        single.pop([0:int(length/2 + 1)])\n",
    "        second_list = [item for item in single if item not in first_list]\n",
    "        \n",
    "    return first_list,second_list"
   ]
  },
  {
   "cell_type": "code",
   "execution_count": 33,
   "id": "b3beebd7",
   "metadata": {},
   "outputs": [
    {
     "name": "stdout",
     "output_type": "stream",
     "text": [
      "0 1\n",
      "1 2\n",
      "2 3\n",
      "3 4\n"
     ]
    }
   ],
   "source": [
    "for i in range(0,len(listt)-1):\n",
    "    print(i,i+1)"
   ]
  },
  {
   "cell_type": "code",
   "execution_count": 9,
   "id": "20029ded",
   "metadata": {},
   "outputs": [
    {
     "name": "stdout",
     "output_type": "stream",
     "text": [
      "12\n"
     ]
    },
    {
     "ename": "TypeError",
     "evalue": "int() argument must be a string, a bytes-like object or a real number, not 'list'",
     "output_type": "error",
     "traceback": [
      "\u001b[1;31m---------------------------------------------------------------------------\u001b[0m",
      "\u001b[1;31mTypeError\u001b[0m                                 Traceback (most recent call last)",
      "Cell \u001b[1;32mIn[9], line 1\u001b[0m\n\u001b[1;32m----> 1\u001b[0m n, m \u001b[38;5;241m=\u001b[39m \u001b[38;5;28mmap\u001b[39m(\u001b[38;5;28;43mint\u001b[39;49m\u001b[43m(\u001b[49m\u001b[38;5;28;43minput\u001b[39;49m\u001b[43m(\u001b[49m\u001b[43m)\u001b[49m\u001b[38;5;241;43m.\u001b[39;49m\u001b[43msplit\u001b[49m\u001b[43m(\u001b[49m\u001b[43m)\u001b[49m\u001b[43m)\u001b[49m)\n",
      "\u001b[1;31mTypeError\u001b[0m: int() argument must be a string, a bytes-like object or a real number, not 'list'"
     ]
    }
   ],
   "source": [
    "n, m = map(int(input().split()))"
   ]
  },
  {
   "cell_type": "code",
   "execution_count": 1,
   "id": "4381664c",
   "metadata": {},
   "outputs": [],
   "source": [
    "path = [1,2,3]"
   ]
  },
  {
   "cell_type": "code",
   "execution_count": 2,
   "id": "c16ffd98",
   "metadata": {},
   "outputs": [
    {
     "data": {
      "text/plain": [
       "[[1, 2, 3]]"
      ]
     },
     "execution_count": 2,
     "metadata": {},
     "output_type": "execute_result"
    }
   ],
   "source": [
    "[path]"
   ]
  },
  {
   "cell_type": "code",
   "execution_count": 3,
   "id": "44a8f3b0",
   "metadata": {},
   "outputs": [],
   "source": [
    "g = {1: [2, 3], 2: [1, 3], 3: [1, 2]}\n",
    "\n",
    "def is_connected(g):\n",
    "\tstart_node = list(g.keys())[0]\n",
    "\tcolor = {v: 'white' for v in g.keys()}\n",
    "\tcolor[start_node] = 'gray'\n",
    "\tS = [start_node]\n",
    "\twhile len(S) != 0:\n",
    "\t\tu = S.pop()\n",
    "\t\tfor v in g[u]:\n",
    "\t\t\tif color[v] == 'white':\n",
    "\t\t\t\tcolor[v] = 'gray'\n",
    "\t\t\t\tS.append(v)\n",
    "\t\t\tcolor[u] = 'black'\n",
    "\treturn list(color.values()).count('black') == len(g.keys())\n",
    "\n"
   ]
  },
  {
   "cell_type": "code",
   "execution_count": 4,
   "id": "d8865d41",
   "metadata": {},
   "outputs": [
    {
     "data": {
      "text/plain": [
       "True"
      ]
     },
     "execution_count": 4,
     "metadata": {},
     "output_type": "execute_result"
    }
   ],
   "source": [
    "is_connected(g)"
   ]
  },
  {
   "cell_type": "code",
   "execution_count": 5,
   "id": "ea052325",
   "metadata": {},
   "outputs": [
    {
     "name": "stdout",
     "output_type": "stream",
     "text": [
      "Konigsberg\n"
     ]
    }
   ],
   "source": [
    "from copy import copy\n",
    "\n",
    "'''\n",
    "\tis_connected - Checks if a graph in the form of a dictionary is \n",
    "\tconnected or not, using Breadth-First Search Algorithm (BFS)\n",
    "'''\n",
    "def is_connected(G):\n",
    "\tstart_node = list(G)[0]\n",
    "\tcolor = {v: 'white' for v in G}\n",
    "\tcolor[start_node] = 'gray'\n",
    "\tS = [start_node]\n",
    "\twhile len(S) != 0:\n",
    "\t\tu = S.pop()\n",
    "\t\tfor v in G[u]:\n",
    "\t\t\tif color[v] == 'white':\n",
    "\t\t\t\tcolor[v] = 'gray'\n",
    "\t\t\t\tS.append(v)\n",
    "\t\t\tcolor[u] = 'black'\n",
    "\treturn list(color.values()).count('black') == len(G)\n",
    "\n",
    "'''\n",
    "\todd_degree_nodes - returns a list of all G odd degrees nodes\n",
    "'''\n",
    "def odd_degree_nodes(G):\n",
    "\todd_degree_nodes = []\n",
    "\tfor u in G:\n",
    "\t\tif len(G[u]) % 2 != 0:\n",
    "\t\t\todd_degree_nodes.append(u)\n",
    "\treturn odd_degree_nodes\n",
    "\n",
    "'''\n",
    "\tfrom_dict - return a list of tuples links from a graph G in a \n",
    "\tdictionary format\n",
    "'''\t\n",
    "def from_dict(G):\n",
    "\tlinks = []\n",
    "\tfor u in G:\n",
    "\t\tfor v in G[u]:\n",
    "\t\t\tlinks.append((u,v))\n",
    "\treturn links\n",
    "\n",
    "'''\n",
    "\tfleury(G) - return eulerian trail from graph G or a \n",
    "\tstring 'Not Eulerian Graph' if it's not possible to trail a path\n",
    "'''\n",
    "def fleury(G):\n",
    "\t'''\n",
    "\t\tchecks if G has eulerian cycle or trail\n",
    "\t'''\n",
    "\todn = odd_degree_nodes(G)\n",
    "\tif len(odn) > 2 or len(odn) == 1:\n",
    "\t\treturn 'Not Eulerian Graph'\n",
    "\telse:\n",
    "\t\tg = copy(G)\n",
    "\t\ttrail = []\n",
    "\t\tif len(odn) == 2:\n",
    "\t\t\tu = odn[0]\n",
    "\t\telse:\n",
    "\t\t\tu = list(g)[0]\n",
    "\t\twhile len(from_dict(g)) > 0:\n",
    "\t\t\tcurrent_vertex = u\n",
    "\t\t\tfor u in g[current_vertex]:\n",
    "\t\t\t\tg[current_vertex].remove(u)\n",
    "\t\t\t\tg[u].remove(current_vertex)\n",
    "\t\t\t\tbridge = not is_connected(g)\n",
    "\t\t\t\tif bridge:\n",
    "\t\t\t\t\tg[current_vertex].append(u)\n",
    "\t\t\t\t\tg[u].append(current_vertex)\n",
    "\t\t\t\telse:\n",
    "\t\t\t\t\tbreak\n",
    "\t\t\tif bridge:\n",
    "\t\t\t\tg[current_vertex].remove(u)\n",
    "\t\t\t\tg[u].remove(current_vertex)\n",
    "\t\t\t\tg.pop(current_vertex)\n",
    "\t\t\ttrail.append((current_vertex, u))\n",
    "\treturn trail\n",
    "\n",
    "# testing seven bridges of konigsberg\n",
    "print('Konigsberg')\n",
    "G = {0: [2, 2, 3], 1: [2, 2, 3], 2: [0, 0, 1, 1, 3], 3: [0, 1, 2]}"
   ]
  },
  {
   "cell_type": "code",
   "execution_count": 8,
   "id": "f92e41b2",
   "metadata": {},
   "outputs": [
    {
     "data": {
      "text/plain": [
       "[(0, 1),\n",
       " (1, 2),\n",
       " (2, 3),\n",
       " (3, 1),\n",
       " (1, 8),\n",
       " (8, 0),\n",
       " (0, 4),\n",
       " (4, 3),\n",
       " (3, 5),\n",
       " (5, 6),\n",
       " (6, 8),\n",
       " (8, 7),\n",
       " (7, 6),\n",
       " (6, 0)]"
      ]
     },
     "execution_count": 8,
     "metadata": {},
     "output_type": "execute_result"
    }
   ],
   "source": [
    "fleury({0: [1, 4, 6, 8], 1: [0, 2, 3, 8], 2: [1, 3], 3: [1, 2, 4, 5], 4: [0, 3], 5: [3, 6], 6: [0, 5, 7, 8], 7: [6, 8], 8: [0, 1, 6, 7]})"
   ]
  },
  {
   "cell_type": "code",
   "execution_count": 26,
   "id": "1315073d",
   "metadata": {},
   "outputs": [],
   "source": [
    "def is_connected(G):\n",
    "\tstart_node = list(G)[0]\n",
    "\tcolor = {v: 'white' for v in G}\n",
    "\tcolor[start_node] = 'gray'\n",
    "\tS = [start_node]\n",
    "\twhile len(S) != 0:\n",
    "\t\tu = S.pop()\n",
    "\t\tfor v in G[u]:\n",
    "\t\t\tif color[v] == 'white':\n",
    "\t\t\t\tcolor[v] = 'gray'\n",
    "\t\t\t\tS.append(v)\n",
    "\t\t\tcolor[u] = 'black'\n",
    "\treturn list(color.values()).count('black') == len(G)\n",
    "\n",
    "G = {0: [2, 2, 3], 1: [2, 2, 3], 2: [0, 0, 1, 1, 3], 3: [0, 1, 2]}"
   ]
  },
  {
   "cell_type": "code",
   "execution_count": 27,
   "id": "0b3f491a",
   "metadata": {},
   "outputs": [],
   "source": [
    "start_node = list(G)[0]"
   ]
  },
  {
   "cell_type": "code",
   "execution_count": 28,
   "id": "7123e64d",
   "metadata": {},
   "outputs": [],
   "source": [
    "color = {item:'white' for item in G}"
   ]
  },
  {
   "cell_type": "code",
   "execution_count": 30,
   "id": "b7552d9a",
   "metadata": {},
   "outputs": [],
   "source": [
    "for item in G[u]:\n",
    "    if color[item] == 'white':\n",
    "        color[item] = 'grey'"
   ]
  },
  {
   "cell_type": "code",
   "execution_count": 31,
   "id": "772ce9a9",
   "metadata": {},
   "outputs": [
    {
     "data": {
      "text/plain": [
       "{0: 'white', 1: 'white', 2: 'grey', 3: 'grey'}"
      ]
     },
     "execution_count": 31,
     "metadata": {},
     "output_type": "execute_result"
    }
   ],
   "source": [
    "color"
   ]
  },
  {
   "cell_type": "code",
   "execution_count": 37,
   "id": "7726000d",
   "metadata": {},
   "outputs": [
    {
     "data": {
      "text/plain": [
       "[False]"
      ]
     },
     "execution_count": 37,
     "metadata": {},
     "output_type": "execute_result"
    }
   ],
   "source": [
    "[False] * 1"
   ]
  },
  {
   "cell_type": "code",
   "execution_count": null,
   "id": "9432ee91",
   "metadata": {},
   "outputs": [],
   "source": []
  }
 ],
 "metadata": {
  "kernelspec": {
   "display_name": "Python 3 (ipykernel)",
   "language": "python",
   "name": "python3"
  },
  "language_info": {
   "codemirror_mode": {
    "name": "ipython",
    "version": 3
   },
   "file_extension": ".py",
   "mimetype": "text/x-python",
   "name": "python",
   "nbconvert_exporter": "python",
   "pygments_lexer": "ipython3",
   "version": "3.10.9"
  }
 },
 "nbformat": 4,
 "nbformat_minor": 5
}
